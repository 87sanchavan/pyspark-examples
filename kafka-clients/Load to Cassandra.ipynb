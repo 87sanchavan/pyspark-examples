{
 "cells": [
  {
   "cell_type": "code",
   "execution_count": 1,
   "metadata": {},
   "outputs": [
    {
     "name": "stdout",
     "output_type": "stream",
     "text": [
      "http://10.0.2.15:4040\n"
     ]
    }
   ],
   "source": [
    "import sys, glob, os\n",
    "SPARK_HOME=os.environ['SPARK_HOME']\n",
    "sys.path.append(SPARK_HOME + \"/python\")\n",
    "sys.path.append(glob.glob(SPARK_HOME + \"/python/lib/py4j*.zip\")[0])\n",
    "from pyspark.sql import SparkSession\n",
    "from pyspark.conf import SparkConf \n",
    "\n",
    "\n",
    "cassandra_host = \"localhost\"\n",
    "\n",
    "spark_conf = (SparkConf()\n",
    "                .setAppName(\"BatchJob - Data loader\")\n",
    "                .setIfMissing(\"spark.master\", \"local\")\n",
    "                .set(\"spark.cassandra.connection.host\", cassandra_host)\n",
    "                .set(\"spark.cassandra.connection.port\", 9042)\n",
    "                .set(\"spark.sql.shuffle.partitions\", 10)\n",
    "               )\n",
    "\n",
    "# Create spark session\n",
    "spark = (SparkSession\n",
    "         .builder\n",
    "         .config(conf = spark_conf)\n",
    "         .getOrCreate()\n",
    "        )\n",
    "sc = spark.sparkContext\n",
    "sql = spark.sql\n",
    "print(sc.uiWebUrl)"
   ]
  },
  {
   "cell_type": "code",
   "execution_count": 12,
   "metadata": {},
   "outputs": [],
   "source": [
    "from pyspark.sql import Row\n",
    "from pyspark.sql import functions as F"
   ]
  },
  {
   "cell_type": "code",
   "execution_count": 3,
   "metadata": {},
   "outputs": [],
   "source": [
    "rdd = sc.parallelize([Row(a = 1, b = 4)])"
   ]
  },
  {
   "cell_type": "code",
   "execution_count": 6,
   "metadata": {},
   "outputs": [
    {
     "name": "stdout",
     "output_type": "stream",
     "text": [
      "+---+---+\n",
      "|  a|  b|\n",
      "+---+---+\n",
      "|  1|  4|\n",
      "+---+---+\n",
      "\n"
     ]
    }
   ],
   "source": [
    "df = spark.createDataFrame(rdd)\n",
    "df.show()"
   ]
  },
  {
   "cell_type": "code",
   "execution_count": 7,
   "metadata": {},
   "outputs": [],
   "source": [
    "r = df.rdd.collect()[0]"
   ]
  },
  {
   "cell_type": "code",
   "execution_count": 8,
   "metadata": {},
   "outputs": [
    {
     "data": {
      "text/plain": [
       "1"
      ]
     },
     "execution_count": 8,
     "metadata": {},
     "output_type": "execute_result"
    }
   ],
   "source": [
    "r.a"
   ]
  },
  {
   "cell_type": "code",
   "execution_count": 22,
   "metadata": {
    "scrolled": false
   },
   "outputs": [],
   "source": [
    "base_path = \"file:///home/cloudera/notebooks/RandomDataGenerator-master/target/\""
   ]
  },
  {
   "cell_type": "code",
   "execution_count": 23,
   "metadata": {},
   "outputs": [
    {
     "name": "stdout",
     "output_type": "stream",
     "text": [
      "+--------------------+---+----------+--------------------+----------+------+------------+--------------+\n",
      "|             address|age|       dob|               email|first_name|gender|          id|     last_name|\n",
      "+--------------------+---+----------+--------------------+----------+------+------------+--------------+\n",
      "|[Brooklyn,Kings,L...| 19|1999-09-09| iforell@hotmail.com|    Ivania|     M|800000000000|        Forell|\n",
      "|[Bronx,Bronx,LF00...| 63|1955-06-23|jodena.tetreau@ms...|    Jodena|     F|800000000001|       Tetreau|\n",
      "|[Merrick,Nassau,L...| 73|1945-02-05|     sshoyko@msn.com|   Shawnic|     F|800000000002|        Shoyko|\n",
      "|[New York,New Yor...| 67|1950-11-19|jerzei.berardo@gm...|    Jerzei|     F|800000000003|       Berardo|\n",
      "|[Saratoga Springs...| 28|1990-06-05|einzinger@hotmail...|   Elinora|     M|800000000004|      Inzinger|\n",
      "|[Rome,Oneida,LF00...| 34|1984-09-28|bschillinglaw@msn...|   Braylyn|     F|800000000005|  Schillinglaw|\n",
      "|[New York,New Yor...| 61|1957-01-24| hsherwood@gmail.com|     Hagan|     M|800000000006|      Sherwood|\n",
      "|[Armonk,Westchest...| 71|1947-10-16|kejon.giner@hotma...|     Kejon|     M|800000000007|         Giner|\n",
      "|[New York,New Yor...| 31|1987-07-23|shyanne.leut@gmai...|   Shyanne|     M|800000000008|          Leut|\n",
      "|[Rensselaer,Renss...| 45|1972-11-30|jeaninne.gollakis...|  Jeaninne|     F|800000000009|Gollakistagari|\n",
      "|[Suffern,Rockland...| 62|1956-01-21|akupferschmid@gma...|    Audrii|     M|800000000010|  Kupferschmid|\n",
      "|[Hicksville,Nassa...| 39|1979-03-27|   ischbel@gmail.com|     Illya|     F|800000000011|       Schöbel|\n",
      "|[Westbury,Nassau,...| 45|1973-07-14| mboehne@hotmail.com|    Matten|     M|800000000012|        Boehne|\n",
      "|[Sea Cliff,Nassau...| 64|1954-03-09|ariadny.dutoit@ms...|   Ariadny|     M|800000000013|       Du toit|\n",
      "|[Webster,Monroe,L...| 32|1986-02-28|echhatralia@hotma...|Elizabethe|     F|800000000014|    Chhatralia|\n",
      "|[Ft. Drum,Jeffers...| 70|1947-12-30|mmichael.dchting@...|  Mmichael|     M|800000000015|      Düchting|\n",
      "|[Jamaica,Queens,L...| 35|1983-07-04|juley.leugemors@m...|     Juley|     M|800000000016|     Leugemors|\n",
      "|[New York,New Yor...| 18|2000-07-18|lavontae.kruschel...|  Lavontae|     M|800000000017|      Kruschel|\n",
      "|[Forest Hills,Que...| 62|1956-07-23|    jjinchul@msn.com|       Jio|     M|800000000018|      Jin chul|\n",
      "|[Bronx,Bronx,LF00...| 74|1943-11-27|    cdelalex@msn.com|       Car|     F|800000000019|       Delalex|\n",
      "+--------------------+---+----------+--------------------+----------+------+------------+--------------+\n",
      "only showing top 20 rows\n",
      "\n",
      "root\n",
      " |-- address: struct (nullable = true)\n",
      " |    |-- city: string (nullable = true)\n",
      " |    |-- county: string (nullable = true)\n",
      " |    |-- id: string (nullable = true)\n",
      " |    |-- postal_code: double (nullable = true)\n",
      " |    |-- state: string (nullable = true)\n",
      " |    |-- street: string (nullable = true)\n",
      " |-- age: long (nullable = true)\n",
      " |-- dob: string (nullable = true)\n",
      " |-- email: string (nullable = true)\n",
      " |-- first_name: string (nullable = true)\n",
      " |-- gender: string (nullable = true)\n",
      " |-- id: string (nullable = true)\n",
      " |-- last_name: string (nullable = true)\n",
      "\n"
     ]
    }
   ],
   "source": [
    "customers = spark.read.options(inferSchena = True).json(base_path + \"customers.json\")\n",
    "customers.show()\n",
    "customers.printSchema()\n",
    "(customers\n",
    "    .drop(\"address\")\n",
    "    .write\n",
    "    .mode(\"overwrite\")\n",
    "    .format(\"org.apache.spark.sql.cassandra\")\n",
    "    .options(table = \"customer\", keyspace = \"cc\")\n",
    "    .save())"
   ]
  },
  {
   "cell_type": "code",
   "execution_count": 2,
   "metadata": {},
   "outputs": [],
   "source": [
    "def cass_table(table_name):\n",
    "    return (spark\n",
    "        .read\n",
    "        .format(\"org.apache.spark.sql.cassandra\")\n",
    "        .options(table = table_name, keyspace = \"cc\")\n",
    "        .load())"
   ]
  },
  {
   "cell_type": "code",
   "execution_count": 3,
   "metadata": {},
   "outputs": [
    {
     "name": "stdout",
     "output_type": "stream",
     "text": [
      "+------------+-------+---+----------------------+----------------------+----------+--------------------+----------+------+-------------+\n",
      "|          id|address|age|amount_lower_threshold|amount_upper_threshold|       dob|               email|first_name|gender|    last_name|\n",
      "+------------+-------+---+----------------------+----------------------+----------+--------------------+----------+------+-------------+\n",
      "|800000002686|   null| 79|    1873.6919950506053|     5750.826738407709|1939-03-15|clea.eckenbrecht@...|      Clea|     M|  Eckenbrecht|\n",
      "|800000009014|   null| 22|    2036.0152859916593|     5845.483106360582|1996-03-29|deondrick.manopin...| Deondrick|     F|  Manopinives|\n",
      "|800000003508|   null| 33|    1970.2678858109768|     6031.421696497392|1985-04-26|jchristophides@ms...|  Jazabell|     F|Christophides|\n",
      "|800000009097|   null| 74|    1860.8318397319022|     5882.868594280499|1944-05-26|kiptyn.chato@hotm...|    Kiptyn|     F|        Chato|\n",
      "|800000003132|   null| 76|    2023.0223670188468|     6052.967678561699|1942-06-25|dijohn.parette@ms...|    Dijohn|     M|      Parette|\n",
      "|800000003917|   null| 76|     1875.634377457154|     5795.304678912224|1942-08-02|beunca.zwiebel@gm...|    Beunca|     M|      Zwiebel|\n",
      "|800000008993|   null| 55|     1999.201093657428|     6028.398983898406|1963-03-29|tyanah.hudnall@ho...|    Tyanah|     F|      Hudnall|\n",
      "|800000004685|   null| 89|    2131.9161732982784|     6111.050393765384|1929-07-10| jgoddyn@hotmail.com|  Jaimarie|     F|       Goddyn|\n",
      "|800000008134|   null| 20|    1933.7876369805356|     5861.082308536266|1998-09-25| sdrutel@hotmail.com|     Solie|     F|       Drutel|\n",
      "|800000003348|   null| 73|    2147.3209813886224|     6229.440293829015|1945-05-11|   kbeddle@gmail.com|     Kavan|     M|       Beddle|\n",
      "|800000002869|   null| 67|    2392.9826902513546|     6017.979224551107|1950-12-10|ashaun.kolymbos@m...|    Ashaun|     F|     Kolymbos|\n",
      "|800000008300|   null| 19|     2156.215479886143|     6011.149014560237|1999-07-31|thedstrm@hotmail.com|      Tova|     F|     Hedström|\n",
      "|800000003180|   null| 56|    2067.9690306337525|     5907.207715732501|1962-10-05| tboxall@hotmail.com|    Tanesa|     M|       Boxall|\n",
      "|800000008074|   null| 73|     2103.281039638836|     5822.083484392527|1945-04-28|   mcuwalski@msn.com|    Mahlon|     F|     Cuwalski|\n",
      "|800000008345|   null| 30|    1672.6642605074392|     5399.260842662175|1987-12-11|aylani.ciamarra@h...|    Aylani|     F|     Ciamarra|\n",
      "|800000000489|   null| 25|    2069.7915323791008|     5946.407282457036|1993-09-26|  kalamgir@gmail.com|    Kelvan|     M|      Alamgir|\n",
      "|800000003565|   null| 80|    2230.4123441626293|     5976.986078401234|1938-08-26|gerome.hoepfner@h...|    Gerome|     F|     Hoepfner|\n",
      "|800000002892|   null| 72|    2136.0650938945055|     5894.874739198175|1946-01-10|yenna.wagley@hotm...|     Yenna|     F|       Wagley|\n",
      "|800000005866|   null| 32|    1980.9181616371284|     6043.410205156697|1985-12-15| lhuckabay@gmail.com|    Lethea|     F|     Huckabay|\n",
      "|800000009275|   null| 54|    1682.5190589759486|    5784.1974432796205|1964-02-17|dacarri.dodan@hot...|   Dacarri|     M|        Dodan|\n",
      "+------------+-------+---+----------------------+----------------------+----------+--------------------+----------+------+-------------+\n",
      "only showing top 20 rows\n",
      "\n"
     ]
    }
   ],
   "source": [
    "cass_table(\"customer\").show()"
   ]
  },
  {
   "cell_type": "code",
   "execution_count": 30,
   "metadata": {},
   "outputs": [
    {
     "name": "stdout",
     "output_type": "stream",
     "text": [
      "+------------+--------------------+\n",
      "|          id|                name|\n",
      "+------------+--------------------+\n",
      "|DZ0000000000|iShares 7-10 Year...|\n",
      "|DZ0000000001|National American...|\n",
      "|DZ0000000002|Jensyn Acquistion...|\n",
      "|DZ0000000003|     Interface, Inc.|\n",
      "|DZ0000000004| FTD Companies, Inc.|\n",
      "|DZ0000000005|NextDecade Corpor...|\n",
      "|DZ0000000006|  MakeMyTrip Limited|\n",
      "|DZ0000000007|Dynavax Technolog...|\n",
      "|DZ0000000008|        HyreCar Inc.|\n",
      "|DZ0000000009|Highland/iBoxx Se...|\n",
      "|DZ0000000010|  Liberty Global plc|\n",
      "|DZ0000000011|Green Plains Part...|\n",
      "|DZ0000000012|  Vertex Energy, Inc|\n",
      "|DZ0000000013|     Fuel Tech, Inc.|\n",
      "|DZ0000000014|    TiVo Corporation|\n",
      "|DZ0000000015|        Cerecor Inc.|\n",
      "|DZ0000000016|    SMTC Corporation|\n",
      "|DZ0000000017|Magellan Health, ...|\n",
      "|DZ0000000018|      Check-Cap Ltd.|\n",
      "|DZ0000000019|Village Bank and ...|\n",
      "+------------+--------------------+\n",
      "only showing top 20 rows\n",
      "\n",
      "root\n",
      " |-- id: string (nullable = true)\n",
      " |-- name: string (nullable = true)\n",
      "\n"
     ]
    }
   ],
   "source": [
    "merchants = spark.read.options(inferSchena = True).json(base_path + \"merchants.json\")\n",
    "merchants.show()\n",
    "merchants.printSchema()\n",
    "(merchants\n",
    "    .write\n",
    "    .mode(\"overwrite\")\n",
    "    .format(\"org.apache.spark.sql.cassandra\")\n",
    "    .options(table = \"merchant\", keyspace = \"cc\")\n",
    "    .save())"
   ]
  },
  {
   "cell_type": "code",
   "execution_count": 26,
   "metadata": {},
   "outputs": [
    {
     "name": "stdout",
     "output_type": "stream",
     "text": [
      "+------------+-------+--------------------+------+\n",
      "|          id|address|                name|ticker|\n",
      "+------------+-------+--------------------+------+\n",
      "|DZ0000000006|   null|  MakeMyTrip Limited|  null|\n",
      "|DZ0000000088|   null|Energy Recovery, ...|  null|\n",
      "|DZ0000000032|   null|Brooks Automation...|  null|\n",
      "|DZ0000000087|   null|Pluristem Therape...|  null|\n",
      "|DZ0000000035|   null|    The Organics ETF|  null|\n",
      "|DZ0000000092|   null|ETF Series Soluti...|  null|\n",
      "|DZ0000000017|   null|Magellan Health, ...|  null|\n",
      "|DZ0000000053|   null|  Zion Oil & Gas Inc|  null|\n",
      "|DZ0000000073|   null|  Blink Charging Co.|  null|\n",
      "|DZ0000000099|   null|Primo Water Corpo...|  null|\n",
      "|DZ0000000049|   null|Constellation Alp...|  null|\n",
      "|DZ0000000056|   null|AgroFresh Solutio...|  null|\n",
      "|DZ0000000064|   null|WisdomTree Middle...|  null|\n",
      "|DZ0000000002|   null|Jensyn Acquistion...|  null|\n",
      "|DZ0000000098|   null|RCI Hospitality H...|  null|\n",
      "|DZ0000000063|   null|  Spark Energy, Inc.|  null|\n",
      "|DZ0000000050|   null|Coffee Holding Co...|  null|\n",
      "|DZ0000000024|   null|National Holdings...|  null|\n",
      "|DZ0000000065|   null|Invesco Dividend ...|  null|\n",
      "|DZ0000000025|   null|RXi Pharmaceutica...|  null|\n",
      "+------------+-------+--------------------+------+\n",
      "only showing top 20 rows\n",
      "\n"
     ]
    }
   ],
   "source": [
    "(spark\n",
    "    .read\n",
    "    .format(\"org.apache.spark.sql.cassandra\")\n",
    "    .options(table = \"merchant\", keyspace = \"cc\")\n",
    "    .load()).show()"
   ]
  },
  {
   "cell_type": "code",
   "execution_count": 53,
   "metadata": {
    "scrolled": false
   },
   "outputs": [
    {
     "name": "stdout",
     "output_type": "stream",
     "text": [
      "+------------------+--------+------------+------------+------------+-------------------+\n",
      "|            amount|category| customer_id|          id| merchant_id|          timestamp|\n",
      "+------------------+--------+------------+------------+------------+-------------------+\n",
      "| 802.7103986581193|     atm|800000002081|690000000000|DZ0000000085|2018-08-31 16:45:00|\n",
      "|507.74628999676526|     web|800000005031|690000000001|DZ0000000058|2018-07-16 01:53:31|\n",
      "| 606.4194934089878|     pos|800000003872|690000000002|DZ0000000063|2018-05-17 14:57:21|\n",
      "| 319.4347823556573|     web|800000004311|690000000003|DZ0000000065|2018-08-07 19:28:49|\n",
      "| 6.499356159099801|  mobile|800000001603|690000000004|DZ0000000061|2018-07-05 13:25:49|\n",
      "|1202.5906039488204|     web|800000008644|690000000005|DZ0000000045|2018-09-24 08:59:37|\n",
      "| 334.1742337330727|  mobile|800000009101|690000000006|DZ0000000023|2018-05-27 18:44:58|\n",
      "|1276.2935468125615|     atm|800000003658|690000000007|DZ0000000003|2018-08-18 22:33:10|\n",
      "|1014.0822024764368|     pos|800000003095|690000000008|DZ0000000064|2018-05-24 11:06:38|\n",
      "| 1361.068480696082|  mobile|800000008742|690000000009|DZ0000000024|2018-05-30 22:41:40|\n",
      "|1148.2079577326738|  mobile|800000008958|690000000010|DZ0000000096|2018-05-05 17:19:35|\n",
      "| 1289.624614829537|     atm|800000001963|690000000011|DZ0000000076|2018-08-02 00:33:29|\n",
      "| 222.7393839391672|  mobile|800000003442|690000000012|DZ0000000038|2018-07-26 23:05:54|\n",
      "|157.11972843897124|     pos|800000008979|690000000013|DZ0000000050|2018-08-21 04:45:36|\n",
      "| 997.6210235932542|     web|800000002526|690000000014|DZ0000000085|2018-05-20 23:18:56|\n",
      "|254.38889279371102|     web|800000003454|690000000015|DZ0000000054|2018-08-05 18:42:20|\n",
      "| 595.7214665802746|     web|800000004784|690000000016|DZ0000000076|2018-09-24 15:07:33|\n",
      "|1187.4798800157707|  mobile|800000005671|690000000017|DZ0000000061|2018-09-19 14:50:35|\n",
      "| 576.0836502821041|     web|800000005306|690000000018|DZ0000000098|2018-08-02 06:13:15|\n",
      "|1408.0770008718202|     atm|800000005365|690000000019|DZ0000000019|2018-06-02 03:20:39|\n",
      "+------------------+--------+------------+------------+------------+-------------------+\n",
      "only showing top 20 rows\n",
      "\n",
      "root\n",
      " |-- amount: double (nullable = true)\n",
      " |-- category: string (nullable = true)\n",
      " |-- customer_id: string (nullable = true)\n",
      " |-- id: string (nullable = true)\n",
      " |-- merchant_id: string (nullable = true)\n",
      " |-- timestamp: string (nullable = true)\n",
      "\n"
     ]
    }
   ],
   "source": [
    "transactions = (spark\n",
    "                .read\n",
    "                .options(inferSchena = True)\n",
    "                .json(base_path + \"transactions.json\")\n",
    "                .withColumn(\"timestamp\", F.expr(\"from_unixtime(cast(timestamp/pow(10, 9) as bigint))\"))\n",
    "               )\n",
    "transactions.show()\n",
    "transactions.printSchema()"
   ]
  },
  {
   "cell_type": "code",
   "execution_count": 54,
   "metadata": {},
   "outputs": [],
   "source": [
    "(transactions\n",
    "    .write\n",
    "    .mode(\"overwrite\")\n",
    "    .format(\"org.apache.spark.sql.cassandra\")\n",
    "    .options(table = \"transactions\", keyspace = \"cc\")\n",
    "    .save())"
   ]
  },
  {
   "cell_type": "code",
   "execution_count": 56,
   "metadata": {},
   "outputs": [
    {
     "data": {
      "text/html": [
       "<div>\n",
       "<style scoped>\n",
       "    .dataframe tbody tr th:only-of-type {\n",
       "        vertical-align: middle;\n",
       "    }\n",
       "\n",
       "    .dataframe tbody tr th {\n",
       "        vertical-align: top;\n",
       "    }\n",
       "\n",
       "    .dataframe thead th {\n",
       "        text-align: right;\n",
       "    }\n",
       "</style>\n",
       "<table border=\"1\" class=\"dataframe\">\n",
       "  <thead>\n",
       "    <tr style=\"text-align: right;\">\n",
       "      <th></th>\n",
       "      <th>customer_id</th>\n",
       "      <th>timestamp</th>\n",
       "      <th>id</th>\n",
       "      <th>amount</th>\n",
       "      <th>category</th>\n",
       "      <th>flag_ml</th>\n",
       "      <th>flag_threshold</th>\n",
       "      <th>location</th>\n",
       "      <th>location_id</th>\n",
       "      <th>merchant_id</th>\n",
       "      <th>overruled</th>\n",
       "      <th>overruled_comment</th>\n",
       "      <th>overruled_date</th>\n",
       "      <th>score</th>\n",
       "    </tr>\n",
       "  </thead>\n",
       "  <tbody>\n",
       "    <tr>\n",
       "      <th>0</th>\n",
       "      <td>800000001153</td>\n",
       "      <td>2018-09-30 12:15:45</td>\n",
       "      <td>690000427644</td>\n",
       "      <td>3425.031316</td>\n",
       "      <td>web</td>\n",
       "      <td>None</td>\n",
       "      <td>None</td>\n",
       "      <td>None</td>\n",
       "      <td>None</td>\n",
       "      <td>DZ0000000064</td>\n",
       "      <td>None</td>\n",
       "      <td>None</td>\n",
       "      <td>None</td>\n",
       "      <td>None</td>\n",
       "    </tr>\n",
       "    <tr>\n",
       "      <th>1</th>\n",
       "      <td>800000001153</td>\n",
       "      <td>2018-09-29 02:19:26</td>\n",
       "      <td>690000687444</td>\n",
       "      <td>4336.292096</td>\n",
       "      <td>pos</td>\n",
       "      <td>None</td>\n",
       "      <td>None</td>\n",
       "      <td>None</td>\n",
       "      <td>None</td>\n",
       "      <td>DZ0000000005</td>\n",
       "      <td>None</td>\n",
       "      <td>None</td>\n",
       "      <td>None</td>\n",
       "      <td>None</td>\n",
       "    </tr>\n",
       "    <tr>\n",
       "      <th>2</th>\n",
       "      <td>800000001153</td>\n",
       "      <td>2018-09-28 19:20:54</td>\n",
       "      <td>690000408436</td>\n",
       "      <td>3677.334347</td>\n",
       "      <td>mobile</td>\n",
       "      <td>None</td>\n",
       "      <td>None</td>\n",
       "      <td>None</td>\n",
       "      <td>None</td>\n",
       "      <td>DZ0000000062</td>\n",
       "      <td>None</td>\n",
       "      <td>None</td>\n",
       "      <td>None</td>\n",
       "      <td>None</td>\n",
       "    </tr>\n",
       "    <tr>\n",
       "      <th>3</th>\n",
       "      <td>800000001153</td>\n",
       "      <td>2018-09-26 10:59:57</td>\n",
       "      <td>690000260053</td>\n",
       "      <td>2112.259579</td>\n",
       "      <td>web</td>\n",
       "      <td>None</td>\n",
       "      <td>None</td>\n",
       "      <td>None</td>\n",
       "      <td>None</td>\n",
       "      <td>DZ0000000032</td>\n",
       "      <td>None</td>\n",
       "      <td>None</td>\n",
       "      <td>None</td>\n",
       "      <td>None</td>\n",
       "    </tr>\n",
       "    <tr>\n",
       "      <th>4</th>\n",
       "      <td>800000001153</td>\n",
       "      <td>2018-09-26 10:05:18</td>\n",
       "      <td>690000816774</td>\n",
       "      <td>5649.595428</td>\n",
       "      <td>mobile</td>\n",
       "      <td>None</td>\n",
       "      <td>None</td>\n",
       "      <td>None</td>\n",
       "      <td>None</td>\n",
       "      <td>DZ0000000009</td>\n",
       "      <td>None</td>\n",
       "      <td>None</td>\n",
       "      <td>None</td>\n",
       "      <td>None</td>\n",
       "    </tr>\n",
       "    <tr>\n",
       "      <th>5</th>\n",
       "      <td>800000001153</td>\n",
       "      <td>2018-09-24 02:56:26</td>\n",
       "      <td>690000323967</td>\n",
       "      <td>3665.461645</td>\n",
       "      <td>mobile</td>\n",
       "      <td>None</td>\n",
       "      <td>None</td>\n",
       "      <td>None</td>\n",
       "      <td>None</td>\n",
       "      <td>DZ0000000049</td>\n",
       "      <td>None</td>\n",
       "      <td>None</td>\n",
       "      <td>None</td>\n",
       "      <td>None</td>\n",
       "    </tr>\n",
       "    <tr>\n",
       "      <th>6</th>\n",
       "      <td>800000001153</td>\n",
       "      <td>2018-09-23 07:23:32</td>\n",
       "      <td>690000291467</td>\n",
       "      <td>2979.588375</td>\n",
       "      <td>web</td>\n",
       "      <td>None</td>\n",
       "      <td>None</td>\n",
       "      <td>None</td>\n",
       "      <td>None</td>\n",
       "      <td>DZ0000000065</td>\n",
       "      <td>None</td>\n",
       "      <td>None</td>\n",
       "      <td>None</td>\n",
       "      <td>None</td>\n",
       "    </tr>\n",
       "    <tr>\n",
       "      <th>7</th>\n",
       "      <td>800000001153</td>\n",
       "      <td>2018-09-20 03:06:53</td>\n",
       "      <td>690000151729</td>\n",
       "      <td>1464.626877</td>\n",
       "      <td>web</td>\n",
       "      <td>None</td>\n",
       "      <td>None</td>\n",
       "      <td>None</td>\n",
       "      <td>None</td>\n",
       "      <td>DZ0000000068</td>\n",
       "      <td>None</td>\n",
       "      <td>None</td>\n",
       "      <td>None</td>\n",
       "      <td>None</td>\n",
       "    </tr>\n",
       "    <tr>\n",
       "      <th>8</th>\n",
       "      <td>800000001153</td>\n",
       "      <td>2018-09-17 20:26:13</td>\n",
       "      <td>690000192725</td>\n",
       "      <td>1434.020856</td>\n",
       "      <td>atm</td>\n",
       "      <td>None</td>\n",
       "      <td>None</td>\n",
       "      <td>None</td>\n",
       "      <td>None</td>\n",
       "      <td>DZ0000000020</td>\n",
       "      <td>None</td>\n",
       "      <td>None</td>\n",
       "      <td>None</td>\n",
       "      <td>None</td>\n",
       "    </tr>\n",
       "    <tr>\n",
       "      <th>9</th>\n",
       "      <td>800000001153</td>\n",
       "      <td>2018-09-17 13:55:24</td>\n",
       "      <td>690000527597</td>\n",
       "      <td>3245.769799</td>\n",
       "      <td>atm</td>\n",
       "      <td>None</td>\n",
       "      <td>None</td>\n",
       "      <td>None</td>\n",
       "      <td>None</td>\n",
       "      <td>DZ0000000038</td>\n",
       "      <td>None</td>\n",
       "      <td>None</td>\n",
       "      <td>None</td>\n",
       "      <td>None</td>\n",
       "    </tr>\n",
       "  </tbody>\n",
       "</table>\n",
       "</div>"
      ],
      "text/plain": [
       "    customer_id           timestamp            id       amount category  \\\n",
       "0  800000001153 2018-09-30 12:15:45  690000427644  3425.031316      web   \n",
       "1  800000001153 2018-09-29 02:19:26  690000687444  4336.292096      pos   \n",
       "2  800000001153 2018-09-28 19:20:54  690000408436  3677.334347   mobile   \n",
       "3  800000001153 2018-09-26 10:59:57  690000260053  2112.259579      web   \n",
       "4  800000001153 2018-09-26 10:05:18  690000816774  5649.595428   mobile   \n",
       "5  800000001153 2018-09-24 02:56:26  690000323967  3665.461645   mobile   \n",
       "6  800000001153 2018-09-23 07:23:32  690000291467  2979.588375      web   \n",
       "7  800000001153 2018-09-20 03:06:53  690000151729  1464.626877      web   \n",
       "8  800000001153 2018-09-17 20:26:13  690000192725  1434.020856      atm   \n",
       "9  800000001153 2018-09-17 13:55:24  690000527597  3245.769799      atm   \n",
       "\n",
       "  flag_ml flag_threshold location location_id   merchant_id overruled  \\\n",
       "0    None           None     None        None  DZ0000000064      None   \n",
       "1    None           None     None        None  DZ0000000005      None   \n",
       "2    None           None     None        None  DZ0000000062      None   \n",
       "3    None           None     None        None  DZ0000000032      None   \n",
       "4    None           None     None        None  DZ0000000009      None   \n",
       "5    None           None     None        None  DZ0000000049      None   \n",
       "6    None           None     None        None  DZ0000000065      None   \n",
       "7    None           None     None        None  DZ0000000068      None   \n",
       "8    None           None     None        None  DZ0000000020      None   \n",
       "9    None           None     None        None  DZ0000000038      None   \n",
       "\n",
       "  overruled_comment overruled_date score  \n",
       "0              None           None  None  \n",
       "1              None           None  None  \n",
       "2              None           None  None  \n",
       "3              None           None  None  \n",
       "4              None           None  None  \n",
       "5              None           None  None  \n",
       "6              None           None  None  \n",
       "7              None           None  None  \n",
       "8              None           None  None  \n",
       "9              None           None  None  "
      ]
     },
     "execution_count": 56,
     "metadata": {},
     "output_type": "execute_result"
    }
   ],
   "source": [
    "transactions = (spark\n",
    "    .read\n",
    "    .format(\"org.apache.spark.sql.cassandra\")\n",
    "    .options(table = \"transactions\", keyspace = \"cc\")\n",
    "    .load())\n",
    "transactions.limit(10).toPandas()"
   ]
  },
  {
   "cell_type": "code",
   "execution_count": 62,
   "metadata": {},
   "outputs": [
    {
     "name": "stdout",
     "output_type": "stream",
     "text": [
      "+------------+------------------+------------------+----------------------+----------------------+\n",
      "| customer_id|        amount_avg|        amount_std|amount_upper_threshold|amount_lower_threshold|\n",
      "+------------+------------------+------------------+----------------------+----------------------+\n",
      "|800000001787| 3983.031096243898| 2060.086462252426|     6043.117558496324|     1922.944633991472|\n",
      "|800000001931|3974.1879014627393| 1946.648429706895|     5920.836331169634|    2027.5394717558443|\n",
      "|800000004812| 4423.359909963747|1988.9363026886174|     6412.296212652364|     2434.423607275129|\n",
      "|800000005529| 4159.854916014828| 1900.305779842582|      6060.16069585741|    2259.5491361722457|\n",
      "|800000002590|4004.3542519619828|1819.3895657008268|     5823.743817662809|     2184.964686261156|\n",
      "|800000009699| 3977.281326918583|1642.0694171450184|     5619.350744063601|     2335.211909773565|\n",
      "|800000007241|4046.4066313541302|2207.9199344858944|     6254.326565840025|    1838.4866968682359|\n",
      "|800000000187|3925.4964446437666| 1778.403335745461|     5703.899780389227|    2147.0931088983057|\n",
      "|800000001891| 4221.693672987546|1856.1585911211082|     6077.852264108655|     2365.535081866438|\n",
      "|800000006107|3808.9523139297844|1906.3608079981955|      5715.31312192798|     1902.591505931589|\n",
      "|800000005829|3610.0217989189355| 1610.501022765294|      5220.52282168423|    1999.5207761536415|\n",
      "|800000006247| 4067.765298262474|1935.0997385039232|     6002.865036766398|     2132.665559758551|\n",
      "|800000009979|4150.3837970349605|1947.5396121224749|     6097.923409157435|    2202.8441849124856|\n",
      "|800000009548|4050.9725678531636| 1724.937647281238|     5775.910215134401|     2326.034920571926|\n",
      "|800000005129| 3832.183550934864| 1932.191172382434|     5764.374723317298|      1899.99237855243|\n",
      "|800000004537|4053.4676738885632|2033.3252170302949|     6086.792890918858|    2020.1424568582684|\n",
      "|800000009848| 3910.066967440145|1818.5260205386774|     5728.592987978823|    2091.5409469014676|\n",
      "|800000007020| 4104.244975515325|1687.9470263685969|     5792.192001883922|    2416.2979491467277|\n",
      "|800000003933| 3917.891986194081|1661.8173002502112|     5579.709286444292|    2256.0746859438696|\n",
      "|800000008439| 4072.522836089886| 2099.481192870492|    6172.0040289603785|    1973.0416432193938|\n",
      "+------------+------------------+------------------+----------------------+----------------------+\n",
      "only showing top 20 rows\n",
      "\n"
     ]
    }
   ],
   "source": [
    "agg = (transactions\n",
    "    .groupBy(\"customer_id\")\n",
    "    .agg(F.avg(\"amount\").alias(\"amount_avg\"), F.stddev(\"amount\").alias(\"amount_std\"))\n",
    "    .withColumn(\"amount_upper_threshold\", F.expr(\"amount_avg + amount_std\"))\n",
    "    .withColumn(\"amount_lower_threshold\", F.expr(\"amount_avg - amount_std\"))\n",
    ")\n",
    "\n",
    "agg.show()"
   ]
  },
  {
   "cell_type": "code",
   "execution_count": 64,
   "metadata": {},
   "outputs": [],
   "source": [
    "(agg\n",
    "    .select(\"customer_id\", \"amount_upper_threshold\", \"amount_lower_threshold\")\n",
    "    .withColumnRenamed(\"customer_id\", \"id\")\n",
    "    .write\n",
    "    .mode(\"append\")\n",
    "    .format(\"org.apache.spark.sql.cassandra\")\n",
    "    .options(table = \"customer\", keyspace = \"cc\")\n",
    "    .save())"
   ]
  },
  {
   "cell_type": "code",
   "execution_count": 69,
   "metadata": {},
   "outputs": [
    {
     "name": "stdout",
     "output_type": "stream",
     "text": [
      "+------------+-------+---+----------------------+----------------------+----------+--------------------+----------+------+--------------+\n",
      "|          id|address|age|amount_lower_threshold|amount_upper_threshold|       dob|               email|first_name|gender|     last_name|\n",
      "+------------+-------+---+----------------------+----------------------+----------+--------------------+----------+------+--------------+\n",
      "|800000001153|   null| 47|    2351.3492719376018|     5921.054209719426|1970-10-23|alexxis.wolligand...|   Alexxis|     M|    Wolligandt|\n",
      "|800000005616|   null| 31|    2068.9989358302373|     5829.592572147718|1987-08-18|     dkindem@msn.com|    Dijion|     F|        Kindem|\n",
      "|800000009943|   null| 73|    2149.6996574971977|     6070.356958454686|1945-07-10|jocie.briatte@hot...|     Jocie|     M|       Briatte|\n",
      "|800000008957|   null| 31|    1857.9226551039055|     5960.910822192255|1987-07-11|  qharback@gmail.com|   Quanzie|     F|       Harback|\n",
      "|800000000422|   null| 20|     2212.096497020975|     5930.437153849043|1998-03-20|aalisa.house@gmai...|    Aalisa|     M|         House|\n",
      "|800000008952|   null| 46|     2341.875915173112|    5832.2474410621535|1972-04-30|jamerio.costasoei...|   Jamerio|     M|  Costa soeiro|\n",
      "|800000004778|   null| 33|    1996.2988713034786|     5893.254567419474|1985-09-27| whodgkiss@gmail.com| Williemae|     F|      Hodgkiss|\n",
      "|800000006444|   null| 42|     2373.188978635198|     6041.709644928513|1976-03-24|vmayeenuddin@gmai...|  Verdelle|     F|   Mayeenuddin|\n",
      "|800000007370|   null| 54|     1980.931583335051|     6214.416926467479|1964-08-30|   jscheerer@msn.com|    Janeen|     F|      Scheerer|\n",
      "|800000004324|   null| 35|    1828.1623614303298|     6023.567510224175|1983-09-07|   tvelthuis@msn.com|     Thuan|     M|      Velthuis|\n",
      "|800000006393|   null| 37|    2112.8852283512224|     6033.025218417842|1981-06-18| alto.molnar@msn.com|      Alto|     F|        Molnar|\n",
      "|800000003043|   null| 38|    2379.8105300844363|     6210.841776151305|1980-04-20|     fdato@gmail.com|   Frankee|     F|          Dato|\n",
      "|800000008609|   null| 80|     2261.805299271851|    5959.1856317523525|1938-03-27|tybee.latrell@msn...|     Tybee|     M|       Latrell|\n",
      "|800000001568|   null| 28|    2002.7310255066473|     6218.439660549548|1989-12-18|    asoman@gmail.com|    Alisse|     M|         Soman|\n",
      "|800000001902|   null| 74|     1856.468913736597|     5663.986176598219|1944-07-15|shaniese.vonderhe...|  Shaniese|     F|Von der heiden|\n",
      "|800000006586|   null| 80|    2116.7562379835736|     5625.702054671793|1938-07-23|   zbiskup@gmail.com|      Zori|     F|        Biskup|\n",
      "|800000008054|   null| 35|    1953.2251119532589|     6016.112354894265|1983-06-13|kareli.trnkle@gma...|    Kareli|     M|       Tr„nkle|\n",
      "|800000005455|   null| 59|    2154.5811355452556|     5593.554657829427|1959-04-08|  mastorri@gmail.com| Mackensie|     F|       Astorri|\n",
      "|800000008757|   null| 60|      2185.12631031814|     6419.860823521328|1957-11-29|      pcetin@msn.com|   Presley|     M|         Cetin|\n",
      "|800000008116|   null| 39|    1707.0019003562522|     5454.630662562808|1979-01-03|lashaw.pingitore@...|    Lashaw|     M|     Pingitore|\n",
      "+------------+-------+---+----------------------+----------------------+----------+--------------------+----------+------+--------------+\n",
      "only showing top 20 rows\n",
      "\n"
     ]
    }
   ],
   "source": [
    "cass_table(\"customer\").show()"
   ]
  },
  {
   "cell_type": "code",
   "execution_count": 4,
   "metadata": {},
   "outputs": [
    {
     "data": {
      "text/plain": [
       "<cassandra.cluster.Session at 0x7f15ff2b9160>"
      ]
     },
     "execution_count": 4,
     "metadata": {},
     "output_type": "execute_result"
    }
   ],
   "source": [
    "cass = Cluster([\"localhost\"]).connect(\"cc\")\n",
    "cass.shutdown"
   ]
  },
  {
   "cell_type": "code",
   "execution_count": 13,
   "metadata": {},
   "outputs": [
    {
     "data": {
      "text/plain": [
       "[Row(id='800000009260', address=None, age=38, amount_lower_threshold=2406.1891696538737, amount_upper_threshold=6044.088365042324, dob=Date(3790), email='kamaree.rodenhuser@msn.com', first_name='Kamaree', gender='M', last_name='Rodenhäuser'),\n",
       " Row(id='800000001652', address=None, age=88, amount_lower_threshold=1999.5693000247313, amount_upper_threshold=5770.614137833819, dob=Date(-14514), email='riser.chelliah@msn.com', first_name='Riser', gender='F', last_name='Chelliah'),\n",
       " Row(id='800000005063', address=None, age=45, amount_lower_threshold=2129.9385858059727, amount_upper_threshold=6063.82829296996, dob=Date(1064), email='vhausting@gmail.com', first_name='Vyom', gender='M', last_name='Hausting')]"
      ]
     },
     "execution_count": 13,
     "metadata": {},
     "output_type": "execute_result"
    }
   ],
   "source": [
    "list(cassandra_session.execute(\"select * from customer limit 3\"))"
   ]
  },
  {
   "cell_type": "code",
   "execution_count": 25,
   "metadata": {},
   "outputs": [
    {
     "data": {
      "text/plain": [
       "Row(amount_lower_threshold=2406.1891696538737)"
      ]
     },
     "execution_count": 25,
     "metadata": {},
     "output_type": "execute_result"
    }
   ],
   "source": [
    "cass.execute(\"select amount_lower_threshold from customer where id = %s\", ('800000009260',)).one()"
   ]
  },
  {
   "cell_type": "code",
   "execution_count": 6,
   "metadata": {
    "scrolled": false
   },
   "outputs": [
    {
     "data": {
      "text/plain": [
       "[('800000009260', 2406.1891696538737),\n",
       " ('800000001652', 1999.5693000247313),\n",
       " ('800000005063', 2129.9385858059727)]"
      ]
     },
     "execution_count": 6,
     "metadata": {},
     "output_type": "execute_result"
    }
   ],
   "source": [
    "from cassandra.cluster import Cluster\n",
    "\n",
    "rdd = sc.parallelize(['800000009260', '800000001652', '800000005063'])\n",
    "\n",
    "def detect_anomalies(tnx):\n",
    "    cluster = Cluster([\"localhost\"])\n",
    "    cass = cluster.connect(\"cc\")\n",
    "    result = []\n",
    "    for r in tnx:\n",
    "        rec = cass.execute(\"select id, amount_lower_threshold from customer where id = %s\", (r,)).one()\n",
    "        result.append((rec.id, rec.amount_lower_threshold))\n",
    "    cass.shutdown()\n",
    "    cluster.shutdown()\n",
    "    return result\n",
    "\n",
    "rdd.mapPartitions(detect_anomalies).collect()"
   ]
  },
  {
   "cell_type": "code",
   "execution_count": null,
   "metadata": {},
   "outputs": [],
   "source": []
  }
 ],
 "metadata": {
  "kernelspec": {
   "display_name": "Python 3",
   "language": "python",
   "name": "python3"
  },
  "language_info": {
   "codemirror_mode": {
    "name": "ipython",
    "version": 3
   },
   "file_extension": ".py",
   "mimetype": "text/x-python",
   "name": "python",
   "nbconvert_exporter": "python",
   "pygments_lexer": "ipython3",
   "version": "3.6.6"
  }
 },
 "nbformat": 4,
 "nbformat_minor": 2
}
