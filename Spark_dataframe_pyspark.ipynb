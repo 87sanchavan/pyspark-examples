{
 "cells": [
  {
   "cell_type": "markdown",
   "metadata": {},
   "source": [
    "# Processing data using Spark Dataframe with Pyspark"
   ]
  },
  {
   "cell_type": "markdown",
   "metadata": {},
   "source": [
    "View spark version. If you get an error, you need to troubleshoot the reason further."
   ]
  },
  {
   "cell_type": "code",
   "execution_count": 1,
   "metadata": {},
   "outputs": [
    {
     "data": {
      "text/plain": [
       "'2.1.1'"
      ]
     },
     "execution_count": 1,
     "metadata": {},
     "output_type": "execute_result"
    }
   ],
   "source": [
    "spark.version"
   ]
  },
  {
   "cell_type": "markdown",
   "metadata": {},
   "source": [
    "### Exercise 1: use movielens dataset for the following exercise\n",
    "\n",
    "1. Load movies.csv as movies dataframe. Cache the dataframe\n",
    "2. Load ratings.csv as ratings dataframe. Cache the dataframe\n",
    "3. Find the number of records in movies dataframe\n",
    "4. Find the number of records in ratings dataframe\n",
    "5. Validate the userId and movieId combination is unique\n",
    "6. Find average rating and count of rating per movieId using ratings dataframe\n",
    "7. Find top 10 movies based on the highest average ratings. Consider only those movies that have at least 100 ratings. Show movieId, title, average rating and rating count columns.\n",
    "8. Show temporary views for current Spark session\n",
    "9. Register movies dataframe and ratings dayaframe as movies and ratings temporary view respectively. Verify that you can see the new temporary views you just created.\n",
    "10. Using SQL statement, solve the problem statement for step #7. Match the results from step #7."
   ]
  },
  {
   "cell_type": "markdown",
   "metadata": {},
   "source": [
    "Load Spark SQL functions, for example: count, avg, explode etc."
   ]
  },
  {
   "cell_type": "code",
   "execution_count": 2,
   "metadata": {
    "collapsed": true
   },
   "outputs": [],
   "source": [
    "from pyspark.sql.functions import *"
   ]
  },
  {
   "cell_type": "markdown",
   "metadata": {},
   "source": [
    "Location of movies dataset. You can download the dataset from here. Here we are using latest-small dataset."
   ]
  },
  {
   "cell_type": "code",
   "execution_count": 3,
   "metadata": {
    "collapsed": true
   },
   "outputs": [],
   "source": [
    "home_dir = \"movielens\""
   ]
  },
  {
   "cell_type": "markdown",
   "metadata": {},
   "source": [
    "Create a dataframe on movies.csv file"
   ]
  },
  {
   "cell_type": "code",
   "execution_count": 4,
   "metadata": {
    "collapsed": true
   },
   "outputs": [],
   "source": [
    "movies = (spark.read.format(\"csv\")\n",
    ".options(header = True, inferSchema = True)\n",
    ".load(home_dir + \"/movies\")\n",
    ".cache()) # Keep the dataframe in memory for faster processing "
   ]
  },
  {
   "cell_type": "markdown",
   "metadata": {},
   "source": [
    "Show schema of movies dataframe"
   ]
  },
  {
   "cell_type": "code",
   "execution_count": 5,
   "metadata": {},
   "outputs": [
    {
     "name": "stdout",
     "output_type": "stream",
     "text": [
      "root\n",
      " |-- movieId: integer (nullable = true)\n",
      " |-- title: string (nullable = true)\n",
      " |-- genres: string (nullable = true)\n",
      "\n"
     ]
    }
   ],
   "source": [
    "movies.printSchema()"
   ]
  },
  {
   "cell_type": "code",
   "execution_count": 6,
   "metadata": {},
   "outputs": [
    {
     "data": {
      "text/plain": [
       "[('movieId', 'int'), ('title', 'string'), ('genres', 'string')]"
      ]
     },
     "execution_count": 6,
     "metadata": {},
     "output_type": "execute_result"
    }
   ],
   "source": [
    "movies.dtypes"
   ]
  },
  {
   "cell_type": "markdown",
   "metadata": {},
   "source": [
    "Display a few sample view from movies Dataframe"
   ]
  },
  {
   "cell_type": "code",
   "execution_count": 7,
   "metadata": {},
   "outputs": [
    {
     "name": "stdout",
     "output_type": "stream",
     "text": [
      "+-------+--------------------+--------------------+\n",
      "|movieId|               title|              genres|\n",
      "+-------+--------------------+--------------------+\n",
      "|      1|    Toy Story (1995)|Adventure|Animati...|\n",
      "|      2|      Jumanji (1995)|Adventure|Childre...|\n",
      "|      3|Grumpier Old Men ...|      Comedy|Romance|\n",
      "|      4|Waiting to Exhale...|Comedy|Drama|Romance|\n",
      "|      5|Father of the Bri...|              Comedy|\n",
      "+-------+--------------------+--------------------+\n",
      "only showing top 5 rows\n",
      "\n"
     ]
    }
   ],
   "source": [
    "movies.show(5)"
   ]
  },
  {
   "cell_type": "markdown",
   "metadata": {},
   "source": [
    "Find the number of records in movies dataframe"
   ]
  },
  {
   "cell_type": "code",
   "execution_count": 8,
   "metadata": {},
   "outputs": [
    {
     "data": {
      "text/plain": [
       "10329"
      ]
     },
     "execution_count": 8,
     "metadata": {},
     "output_type": "execute_result"
    }
   ],
   "source": [
    "movies.count()"
   ]
  },
  {
   "cell_type": "markdown",
   "metadata": {},
   "source": [
    "Create ratings Dataframe using ratings.csv file"
   ]
  },
  {
   "cell_type": "code",
   "execution_count": 9,
   "metadata": {
    "collapsed": true
   },
   "outputs": [],
   "source": [
    "ratings = (spark.read.format(\"csv\")\n",
    ".options(header = True, inferSchema = True)\n",
    ".load(home_dir + \"/ratings\")\n",
    ".persist())"
   ]
  },
  {
   "cell_type": "markdown",
   "metadata": {},
   "source": [
    "Print schema of ratings Dataframe"
   ]
  },
  {
   "cell_type": "code",
   "execution_count": 10,
   "metadata": {},
   "outputs": [
    {
     "name": "stdout",
     "output_type": "stream",
     "text": [
      "root\n",
      " |-- userId: integer (nullable = true)\n",
      " |-- movieId: integer (nullable = true)\n",
      " |-- rating: double (nullable = true)\n",
      " |-- timestamp: integer (nullable = true)\n",
      "\n"
     ]
    }
   ],
   "source": [
    "ratings.printSchema()"
   ]
  },
  {
   "cell_type": "markdown",
   "metadata": {},
   "source": [
    "Show a few sample values from ratings dataframe"
   ]
  },
  {
   "cell_type": "code",
   "execution_count": 11,
   "metadata": {},
   "outputs": [
    {
     "name": "stdout",
     "output_type": "stream",
     "text": [
      "+------+-------+------+----------+\n",
      "|userId|movieId|rating| timestamp|\n",
      "+------+-------+------+----------+\n",
      "|     1|     16|   4.0|1217897793|\n",
      "|     1|     24|   1.5|1217895807|\n",
      "|     1|     32|   4.0|1217896246|\n",
      "|     1|     47|   4.0|1217896556|\n",
      "|     1|     50|   4.0|1217896523|\n",
      "+------+-------+------+----------+\n",
      "only showing top 5 rows\n",
      "\n"
     ]
    }
   ],
   "source": [
    "ratings.show(5)"
   ]
  },
  {
   "cell_type": "markdown",
   "metadata": {},
   "source": [
    "Find the number of records in ratings"
   ]
  },
  {
   "cell_type": "code",
   "execution_count": 12,
   "metadata": {},
   "outputs": [
    {
     "data": {
      "text/plain": [
       "105339"
      ]
     },
     "execution_count": 12,
     "metadata": {},
     "output_type": "execute_result"
    }
   ],
   "source": [
    "ratings.count()"
   ]
  },
  {
   "cell_type": "markdown",
   "metadata": {},
   "source": [
    "Validate the movieId and ratingId combination is unique identifier in ratings table"
   ]
  },
  {
   "cell_type": "code",
   "execution_count": 13,
   "metadata": {},
   "outputs": [
    {
     "name": "stdout",
     "output_type": "stream",
     "text": [
      "+-------+------+-----+\n",
      "|movieId|userId|count|\n",
      "+-------+------+-----+\n",
      "+-------+------+-----+\n",
      "\n"
     ]
    }
   ],
   "source": [
    "ratings.groupBy(\"movieId\", \"userId\").count().filter(\"count != 1\").show()"
   ]
  },
  {
   "cell_type": "markdown",
   "metadata": {},
   "source": [
    "As it shows that there is no userId and movieId combination that occurs more than once. "
   ]
  },
  {
   "cell_type": "markdown",
   "metadata": {},
   "source": [
    "Find average rating of each movie for which there are at least 100 ratings. Order the result by average rating in decreasing order."
   ]
  },
  {
   "cell_type": "code",
   "execution_count": 14,
   "metadata": {},
   "outputs": [
    {
     "name": "stdout",
     "output_type": "stream",
     "text": [
      "+-------+-----+------------------+\n",
      "|movieId|count|        avg_rating|\n",
      "+-------+-----+------------------+\n",
      "|   1580|  172| 3.627906976744186|\n",
      "|    471|   48|3.6666666666666665|\n",
      "|   7253|    2|               4.0|\n",
      "|   3997|   11|               2.5|\n",
      "|  32460|    1|               4.5|\n",
      "|  44022|   16|            3.3125|\n",
      "|  54190|    7| 3.357142857142857|\n",
      "|    833|   10|              2.95|\n",
      "|   1591|   33| 2.257575757575758|\n",
      "|   6357|    5|               3.6|\n",
      "|   2366|   31| 3.532258064516129|\n",
      "|   1088|   56| 3.419642857142857|\n",
      "|   1238|   12|              3.75|\n",
      "|   4519|   11|3.0454545454545454|\n",
      "|   1645|   60| 3.566666666666667|\n",
      "|   8638|   18|3.9722222222222223|\n",
      "|   3175|   73| 3.712328767123288|\n",
      "|   2122|   14|2.2142857142857144|\n",
      "|  26755|    1|               0.5|\n",
      "|   5803|    7|2.5714285714285716|\n",
      "+-------+-----+------------------+\n",
      "only showing top 20 rows\n",
      "\n"
     ]
    }
   ],
   "source": [
    "ratings_agg = (ratings\n",
    ".groupBy(col(\"movieId\"))\n",
    ".agg(\n",
    "    count(col(\"movieId\")).alias(\"count\"),\n",
    "    avg(col(\"rating\")).alias(\"avg_rating\")\n",
    "))\n",
    "\n",
    "ratings_agg.show()"
   ]
  },
  {
   "cell_type": "code",
   "execution_count": 15,
   "metadata": {},
   "outputs": [
    {
     "name": "stdout",
     "output_type": "stream",
     "text": [
      "+-------+--------------------+------------------+-----+\n",
      "|movieId|               title|        avg_rating|count|\n",
      "+-------+--------------------+------------------+-----+\n",
      "|    318|Shawshank Redempt...| 4.454545454545454|  308|\n",
      "|    858|Godfather, The (1...| 4.392857142857143|  210|\n",
      "|     50|Usual Suspects, T...| 4.328947368421052|  228|\n",
      "|   1136|Monty Python and ...|4.3019480519480515|  154|\n",
      "|    527|Schindler's List ...| 4.296370967741935|  248|\n",
      "|   1193|One Flew Over the...|4.2727272727272725|  143|\n",
      "|    608|        Fargo (1996)|4.2711442786069655|  201|\n",
      "|   2571|  Matrix, The (1999)| 4.264367816091954|  261|\n",
      "|   1221|Godfather: Part I...| 4.260714285714286|  140|\n",
      "|   1213|   Goodfellas (1990)|4.2592592592592595|  135|\n",
      "+-------+--------------------+------------------+-----+\n",
      "\n"
     ]
    }
   ],
   "source": [
    "(ratings_agg\n",
    ".alias(\"t1\")\n",
    ".join(movies.alias(\"t2\"), col(\"t1.movieId\") == col(\"t2.movieId\"))\n",
    ".filter(\"count > 100\")\n",
    ".orderBy(desc(\"avg_rating\"))\n",
    ".select(\"t1.movieId\", \"title\", \"avg_rating\", \"count\")\n",
    ".limit(10)\n",
    ".show())"
   ]
  },
  {
   "cell_type": "markdown",
   "metadata": {},
   "source": [
    "Show temporary views for current Spark session"
   ]
  },
  {
   "cell_type": "code",
   "execution_count": 16,
   "metadata": {},
   "outputs": [
    {
     "name": "stdout",
     "output_type": "stream",
     "text": [
      "+--------+---------+-----------+\n",
      "|database|tableName|isTemporary|\n",
      "+--------+---------+-----------+\n",
      "| default|  weblogs|      false|\n",
      "+--------+---------+-----------+\n",
      "\n"
     ]
    }
   ],
   "source": [
    "sql(\"show tables\").show()"
   ]
  },
  {
   "cell_type": "code",
   "execution_count": 17,
   "metadata": {},
   "outputs": [
    {
     "name": "stdout",
     "output_type": "stream",
     "text": [
      "+--------+---------+-----------+\n",
      "|database|tableName|isTemporary|\n",
      "+--------+---------+-----------+\n",
      "| default|  weblogs|      false|\n",
      "|        |   movies|       true|\n",
      "|        |  ratings|       true|\n",
      "+--------+---------+-----------+\n",
      "\n"
     ]
    }
   ],
   "source": [
    "movies.createOrReplaceTempView(\"movies\")\n",
    "ratings.createOrReplaceTempView(\"ratings\")\n",
    "sql(\"show tables\").show()"
   ]
  },
  {
   "cell_type": "markdown",
   "metadata": {},
   "source": [
    "Using SQL statement, find top 10 movies based on the highest average ratings. Consider only those movies that have at least 100 ratings. Show movieId, title, average rating and rating count columns."
   ]
  },
  {
   "cell_type": "code",
   "execution_count": 18,
   "metadata": {},
   "outputs": [
    {
     "name": "stdout",
     "output_type": "stream",
     "text": [
      "+-------+--------------------+------------------+------------+\n",
      "|movieId|               title|        avg_rating|rating_count|\n",
      "+-------+--------------------+------------------+------------+\n",
      "|    318|Shawshank Redempt...| 4.454545454545454|         308|\n",
      "|    858|Godfather, The (1...| 4.392857142857143|         210|\n",
      "|     50|Usual Suspects, T...| 4.328947368421052|         228|\n",
      "|   1136|Monty Python and ...|4.3019480519480515|         154|\n",
      "|    527|Schindler's List ...| 4.296370967741935|         248|\n",
      "|   1193|One Flew Over the...|4.2727272727272725|         143|\n",
      "|    608|        Fargo (1996)|4.2711442786069655|         201|\n",
      "|   2571|  Matrix, The (1999)| 4.264367816091954|         261|\n",
      "|   1221|Godfather: Part I...| 4.260714285714286|         140|\n",
      "|   1213|   Goodfellas (1990)|4.2592592592592595|         135|\n",
      "+-------+--------------------+------------------+------------+\n",
      "\n"
     ]
    }
   ],
   "source": [
    "sql(\"\"\"\n",
    "select t1.movieId, t1.title, avg(t2.rating) avg_rating, count(1) rating_count \n",
    "from movies t1 join ratings t2 on t1.movieId = t2.movieId group by t1.movieId, t1.title\n",
    "having rating_count >= 100\n",
    "order by avg_rating desc limit 10\n",
    "\"\"\").show()"
   ]
  },
  {
   "cell_type": "markdown",
   "metadata": {},
   "source": [
    "Find average rating of each genre"
   ]
  },
  {
   "cell_type": "code",
   "execution_count": 19,
   "metadata": {},
   "outputs": [
    {
     "name": "stdout",
     "output_type": "stream",
     "text": [
      "+------------------+-----+------------------+\n",
      "|             genre|count|        avg_rating|\n",
      "+------------------+-----+------------------+\n",
      "|         Film-Noir| 1210|3.9136363636363636|\n",
      "|               War| 5828|3.7832017844886754|\n",
      "|           Mystery| 8320| 3.652043269230769|\n",
      "|             Drama|46960|3.6502661839863713|\n",
      "|       Documentary| 1206|3.6430348258706466|\n",
      "|             Crime|18291|3.6423924334372098|\n",
      "|              IMAX| 3032| 3.641820580474934|\n",
      "|         Animation| 5966|3.6353503184713376|\n",
      "|           Musical| 4287|  3.57196174480989|\n",
      "|           Western| 2314| 3.565687121866897|\n",
      "|           Romance|19094| 3.544254739708809|\n",
      "|         Adventure|23076| 3.518027387762177|\n",
      "|           Fantasy|10889|3.5004591789879695|\n",
      "|          Thriller|29288|3.4955613220431574|\n",
      "|            Sci-Fi|16795|3.4544805001488537|\n",
      "|            Action|31205|3.4514500881269026|\n",
      "|          Children| 8098|3.4394294887626575|\n",
      "|            Comedy|38055|3.4209959269478385|\n",
      "|            Horror| 7983| 3.281097331830139|\n",
      "|(no genres listed)|    7|3.0714285714285716|\n",
      "+------------------+-----+------------------+\n",
      "\n"
     ]
    }
   ],
   "source": [
    "genre_avg_rating = (ratings.alias(\"t1\")\n",
    ".join(movies.alias(\"t2\"), col(\"t1.movieId\") == col(\"t2.movieId\"))\n",
    ".select(col(\"rating\"), explode(split(\"genres\", r\"\\|\")).alias(\"genre\"))\n",
    ".groupBy(col(\"genre\"))\n",
    ".agg(count(col(\"genre\")).alias(\"count\"), avg(\"rating\").alias(\"avg_rating\"))\n",
    ".orderBy(desc(\"avg_rating\")))\n",
    "\n",
    "genre_avg_rating.show()"
   ]
  },
  {
   "cell_type": "markdown",
   "metadata": {},
   "source": [
    "### Using matplotlib show barplot of average rating for each genre"
   ]
  },
  {
   "cell_type": "markdown",
   "metadata": {},
   "source": [
    "Loading matplotlib library"
   ]
  },
  {
   "cell_type": "code",
   "execution_count": 20,
   "metadata": {
    "collapsed": true
   },
   "outputs": [],
   "source": [
    "import pandas as pd\n",
    "import numpy as np\n",
    "import matplotlib.pyplot as plt\n",
    "\n",
    "%matplotlib inline"
   ]
  },
  {
   "cell_type": "markdown",
   "metadata": {},
   "source": [
    "Convert spark dataframe to Pandas Dataframe. "
   ]
  },
  {
   "cell_type": "code",
   "execution_count": 21,
   "metadata": {},
   "outputs": [
    {
     "data": {
      "text/html": [
       "<div>\n",
       "<style>\n",
       "    .dataframe thead tr:only-child th {\n",
       "        text-align: right;\n",
       "    }\n",
       "\n",
       "    .dataframe thead th {\n",
       "        text-align: left;\n",
       "    }\n",
       "\n",
       "    .dataframe tbody tr th {\n",
       "        vertical-align: top;\n",
       "    }\n",
       "</style>\n",
       "<table border=\"1\" class=\"dataframe\">\n",
       "  <thead>\n",
       "    <tr style=\"text-align: right;\">\n",
       "      <th></th>\n",
       "      <th>genre</th>\n",
       "      <th>count</th>\n",
       "      <th>avg_rating</th>\n",
       "    </tr>\n",
       "  </thead>\n",
       "  <tbody>\n",
       "    <tr>\n",
       "      <th>0</th>\n",
       "      <td>Film-Noir</td>\n",
       "      <td>1210</td>\n",
       "      <td>3.913636</td>\n",
       "    </tr>\n",
       "    <tr>\n",
       "      <th>1</th>\n",
       "      <td>War</td>\n",
       "      <td>5828</td>\n",
       "      <td>3.783202</td>\n",
       "    </tr>\n",
       "    <tr>\n",
       "      <th>2</th>\n",
       "      <td>Mystery</td>\n",
       "      <td>8320</td>\n",
       "      <td>3.652043</td>\n",
       "    </tr>\n",
       "    <tr>\n",
       "      <th>3</th>\n",
       "      <td>Drama</td>\n",
       "      <td>46960</td>\n",
       "      <td>3.650266</td>\n",
       "    </tr>\n",
       "    <tr>\n",
       "      <th>4</th>\n",
       "      <td>Documentary</td>\n",
       "      <td>1206</td>\n",
       "      <td>3.643035</td>\n",
       "    </tr>\n",
       "  </tbody>\n",
       "</table>\n",
       "</div>"
      ],
      "text/plain": [
       "         genre  count  avg_rating\n",
       "0    Film-Noir   1210    3.913636\n",
       "1          War   5828    3.783202\n",
       "2      Mystery   8320    3.652043\n",
       "3        Drama  46960    3.650266\n",
       "4  Documentary   1206    3.643035"
      ]
     },
     "execution_count": 21,
     "metadata": {},
     "output_type": "execute_result"
    }
   ],
   "source": [
    "df = genre_avg_rating.toPandas()\n",
    "df.head()"
   ]
  },
  {
   "cell_type": "markdown",
   "metadata": {},
   "source": [
    "Plot average rating for each genre"
   ]
  },
  {
   "cell_type": "code",
   "execution_count": 22,
   "metadata": {},
   "outputs": [
    {
     "data": {
      "text/plain": [
       "<matplotlib.axes._subplots.AxesSubplot at 0x7ffbb4373fd0>"
      ]
     },
     "execution_count": 22,
     "metadata": {},
     "output_type": "execute_result"
    },
    {
     "data": {
      "image/png": "[encoded data removed]",
      "text/plain": [
       "<matplotlib.figure.Figure at 0x7ffbd401d630>"
      ]
     },
     "metadata": {},
     "output_type": "display_data"
    }
   ],
   "source": [
    "df.plot(\"genre\", \"avg_rating\", \"bar\", title = \"Barplot of avg rating by genre\")"
   ]
  },
  {
   "cell_type": "markdown",
   "metadata": {},
   "source": [
    "### Exercise 2: Use stocks.csv for the following execise\n",
    "1. Load stocks.csv as stocks dataframe with scheme inferencing enabled. Cache the dataframe.\n",
    "2. What are the data type for each columns?\n",
    "3. Cast the date field of stocks dataframe as date type\n",
    "4. What is the largest value in date column. You should get 2016-08-15. \n",
    "5. Register the stocks dataframe as stocks temporary view.\n",
    "5. Create a new dataframe, stocks_last10 with last 10 records for each stock. Select date, symbol and adjclose columns. You can use SQL statement and SQL window operation. [Hint: if you are not familiar with window operation in SQL, please refer this - https://databricks.com/blog/2015/07/15/introducing-window-functions-in-spark-sql.html]\n",
    "6. Create a new dataframe stocks_pivot, by pivoting the stocks_last10 dataframe\n",
    "7. Find difference between adjclose for each pair of consecutive days  "
   ]
  },
  {
   "cell_type": "code",
   "execution_count": 23,
   "metadata": {},
   "outputs": [
    {
     "name": "stdout",
     "output_type": "stream",
     "text": [
      "+--------------------+---------+---------+---------+---------+---------+---------+------+\n",
      "|                date|     open|     high|      low|    close|   volume| adjclose|symbol|\n",
      "+--------------------+---------+---------+---------+---------+---------+---------+------+\n",
      "|2000-07-17 00:00:...|  95.4375|     97.5|    92.75|   96.625|3508100.0|74.269199|  XLNX|\n",
      "|2000-07-17 00:00:...|   22.625|    22.75|  22.4375|  22.5625| 201600.0| 13.48614|    ES|\n",
      "|2000-07-17 00:00:...| 6.750002| 6.937503|    6.375|      6.5|1235700.0| 5.241649|   CHK|\n",
      "|2000-07-17 00:00:...|19.812501|  20.1875|19.500001|  20.1875|1434100.0| 3.806147|    NI|\n",
      "|2000-07-17 00:00:...|     30.5|  30.6875|     30.0| 30.03125| 254600.0| 19.81183|   SNA|\n",
      "|2000-07-17 00:00:...|44.749996|45.062498|44.500004|45.000009| 535200.0|17.400773|  FOXA|\n",
      "|2000-07-17 00:00:...|   19.625|   19.625|    19.25|   19.375| 309500.0|13.768835|     R|\n",
      "|2000-07-17 00:00:...|  16.6562|  16.6875|   16.125|    16.25|5507200.0| 1.755466|  ROST|\n",
      "|2000-07-17 00:00:...|    56.25|    57.25|  56.0625|   56.125|7941200.0| 18.31076|    PG|\n",
      "|2000-07-17 00:00:...|54.000326|54.000326|52.500318|53.375325|3725000.0|71.068871|   TYC|\n",
      "|2000-07-17 00:00:...|    58.75|   58.875|  57.8125|     58.0| 182700.0|37.544123|    XL|\n",
      "|2000-07-17 00:00:...|47.500132|47.500132|45.750135|46.343886|4898700.0|17.662922|     F|\n",
      "|2000-07-17 00:00:...|     84.0|     84.5|   82.625|82.671883|2861800.0| 23.88973|   CVX|\n",
      "|2000-07-17 00:00:...|     22.5|    22.75|   22.375|    22.75| 423600.0| 5.942444|   PPL|\n",
      "|2000-07-17 00:00:...|  37.4375|  37.5625|  36.5625|  37.4375| 738800.0|24.832407|   TRV|\n",
      "|2000-07-17 00:00:...|76.874999|80.937504|76.249993|78.250003|6166200.0| 50.37851|     A|\n",
      "|2000-07-17 00:00:...|     26.5|  26.6875|  26.3125|     26.5| 335200.0| 6.240835|   LNT|\n",
      "|2000-07-17 00:00:...|  23.9375|  24.0625|     23.5|  23.9375| 648400.0|  23.9375|   AZO|\n",
      "|2000-07-17 00:00:...|   60.875|  60.9375|    60.25|60.531239|1464800.0|22.017028|   UTX|\n",
      "|2000-07-17 00:00:...|   3.5625| 3.625005| 3.312495| 3.437505| 340000.0|  2.20411|   RRC|\n",
      "+--------------------+---------+---------+---------+---------+---------+---------+------+\n",
      "only showing top 20 rows\n",
      "\n"
     ]
    }
   ],
   "source": [
    "stocks = (spark\n",
    "          .read\n",
    "          .format(\"csv\")\n",
    "          .options(inferSchema = True, header = True)\n",
    "          .load(\"stocks\")\n",
    "          .cache())\n",
    "stocks.show()"
   ]
  },
  {
   "cell_type": "code",
   "execution_count": 24,
   "metadata": {},
   "outputs": [
    {
     "name": "stdout",
     "output_type": "stream",
     "text": [
      "root\n",
      " |-- date: timestamp (nullable = true)\n",
      " |-- open: double (nullable = true)\n",
      " |-- high: double (nullable = true)\n",
      " |-- low: double (nullable = true)\n",
      " |-- close: double (nullable = true)\n",
      " |-- volume: double (nullable = true)\n",
      " |-- adjclose: double (nullable = true)\n",
      " |-- symbol: string (nullable = true)\n",
      "\n"
     ]
    }
   ],
   "source": [
    "stocks.printSchema()"
   ]
  },
  {
   "cell_type": "code",
   "execution_count": 25,
   "metadata": {},
   "outputs": [
    {
     "name": "stdout",
     "output_type": "stream",
     "text": [
      "root\n",
      " |-- date: date (nullable = true)\n",
      " |-- open: double (nullable = true)\n",
      " |-- high: double (nullable = true)\n",
      " |-- low: double (nullable = true)\n",
      " |-- close: double (nullable = true)\n",
      " |-- volume: double (nullable = true)\n",
      " |-- adjclose: double (nullable = true)\n",
      " |-- symbol: string (nullable = true)\n",
      "\n"
     ]
    }
   ],
   "source": [
    "stocks.withColumn(\"date\", col(\"date\").cast(\"date\")).printSchema()"
   ]
  },
  {
   "cell_type": "code",
   "execution_count": 26,
   "metadata": {},
   "outputs": [
    {
     "name": "stdout",
     "output_type": "stream",
     "text": [
      "+----------+---------+---------+---------+---------+---------+---------+------+\n",
      "|      date|     open|     high|      low|    close|   volume| adjclose|symbol|\n",
      "+----------+---------+---------+---------+---------+---------+---------+------+\n",
      "|2000-07-17|  95.4375|     97.5|    92.75|   96.625|3508100.0|74.269199|  XLNX|\n",
      "|2000-07-17|   22.625|    22.75|  22.4375|  22.5625| 201600.0| 13.48614|    ES|\n",
      "|2000-07-17| 6.750002| 6.937503|    6.375|      6.5|1235700.0| 5.241649|   CHK|\n",
      "|2000-07-17|19.812501|  20.1875|19.500001|  20.1875|1434100.0| 3.806147|    NI|\n",
      "|2000-07-17|     30.5|  30.6875|     30.0| 30.03125| 254600.0| 19.81183|   SNA|\n",
      "|2000-07-17|44.749996|45.062498|44.500004|45.000009| 535200.0|17.400773|  FOXA|\n",
      "|2000-07-17|   19.625|   19.625|    19.25|   19.375| 309500.0|13.768835|     R|\n",
      "|2000-07-17|  16.6562|  16.6875|   16.125|    16.25|5507200.0| 1.755466|  ROST|\n",
      "|2000-07-17|    56.25|    57.25|  56.0625|   56.125|7941200.0| 18.31076|    PG|\n",
      "|2000-07-17|54.000326|54.000326|52.500318|53.375325|3725000.0|71.068871|   TYC|\n",
      "|2000-07-17|    58.75|   58.875|  57.8125|     58.0| 182700.0|37.544123|    XL|\n",
      "|2000-07-17|47.500132|47.500132|45.750135|46.343886|4898700.0|17.662922|     F|\n",
      "|2000-07-17|     84.0|     84.5|   82.625|82.671883|2861800.0| 23.88973|   CVX|\n",
      "|2000-07-17|     22.5|    22.75|   22.375|    22.75| 423600.0| 5.942444|   PPL|\n",
      "|2000-07-17|  37.4375|  37.5625|  36.5625|  37.4375| 738800.0|24.832407|   TRV|\n",
      "|2000-07-17|76.874999|80.937504|76.249993|78.250003|6166200.0| 50.37851|     A|\n",
      "|2000-07-17|     26.5|  26.6875|  26.3125|     26.5| 335200.0| 6.240835|   LNT|\n",
      "|2000-07-17|  23.9375|  24.0625|     23.5|  23.9375| 648400.0|  23.9375|   AZO|\n",
      "|2000-07-17|   60.875|  60.9375|    60.25|60.531239|1464800.0|22.017028|   UTX|\n",
      "|2000-07-17|   3.5625| 3.625005| 3.312495| 3.437505| 340000.0|  2.20411|   RRC|\n",
      "+----------+---------+---------+---------+---------+---------+---------+------+\n",
      "only showing top 20 rows\n",
      "\n"
     ]
    }
   ],
   "source": [
    "stocks = stocks.withColumn(\"date\", col(\"date\").cast(\"date\"))\n",
    "stocks.show()"
   ]
  },
  {
   "cell_type": "code",
   "execution_count": 27,
   "metadata": {},
   "outputs": [
    {
     "name": "stdout",
     "output_type": "stream",
     "text": [
      "+----------+-----+-----+----+---------+---------+---------+------+\n",
      "|      date| open| high| low|    close|   volume| adjclose|symbol|\n",
      "+----------+-----+-----+----+---------+---------+---------+------+\n",
      "|2016-08-15|52.02|52.43|52.0|52.040001|1702400.0|52.040001|  XLNX|\n",
      "+----------+-----+-----+----+---------+---------+---------+------+\n",
      "only showing top 1 row\n",
      "\n"
     ]
    }
   ],
   "source": [
    "stocks.orderBy(col(\"date\").desc()).show(1)"
   ]
  },
  {
   "cell_type": "code",
   "execution_count": 28,
   "metadata": {
    "collapsed": true
   },
   "outputs": [],
   "source": [
    "stocks.createOrReplaceTempView(\"stocks\")"
   ]
  },
  {
   "cell_type": "code",
   "execution_count": 29,
   "metadata": {
    "scrolled": false
   },
   "outputs": [
    {
     "name": "stdout",
     "output_type": "stream",
     "text": [
      "+----------+------+----------+-------+\n",
      "|      date|symbol|  adjclose|row_num|\n",
      "+----------+------+----------+-------+\n",
      "|2016-08-15|  ALXN|136.070007|      1|\n",
      "|2016-08-12|  ALXN|133.440002|      2|\n",
      "|2016-08-11|  ALXN|133.669998|      3|\n",
      "|2016-08-10|  ALXN|132.669998|      4|\n",
      "|2016-08-09|  ALXN|     135.0|      5|\n",
      "|2016-08-08|  ALXN|136.080002|      6|\n",
      "|2016-08-05|  ALXN|137.110001|      7|\n",
      "|2016-08-04|  ALXN|135.429993|      8|\n",
      "|2016-08-03|  ALXN|137.660004|      9|\n",
      "|2016-08-02|  ALXN|133.610001|     10|\n",
      "|2016-08-01|  ALXN|     133.5|     11|\n",
      "|2016-08-15|   GIS| 71.040001|      1|\n",
      "|2016-08-12|   GIS| 71.169998|      2|\n",
      "|2016-08-11|   GIS|     71.07|      3|\n",
      "|2016-08-10|   GIS| 71.059998|      4|\n",
      "|2016-08-09|   GIS|     70.93|      5|\n",
      "|2016-08-08|   GIS| 70.629997|      6|\n",
      "|2016-08-05|   GIS| 70.550003|      7|\n",
      "|2016-08-04|   GIS| 70.489998|      8|\n",
      "|2016-08-03|   GIS| 69.779999|      9|\n",
      "+----------+------+----------+-------+\n",
      "only showing top 20 rows\n",
      "\n"
     ]
    }
   ],
   "source": [
    "stocks_last10 = sql(\"\"\"\n",
    "select \n",
    "        cast(t1.date as string),\n",
    "        t1.symbol,\n",
    "        t1.adjclose,\n",
    "        t1.row_num\n",
    "    from (select \n",
    "            *, \n",
    "            row_number() over (partition by symbol order by date desc) row_num \n",
    "        from stocks) t1 where t1.row_num <= 11\n",
    "\"\"\")\n",
    "\n",
    "stocks_last10.show()"
   ]
  },
  {
   "cell_type": "code",
   "execution_count": 30,
   "metadata": {},
   "outputs": [
    {
     "data": {
      "text/html": [
       "<div>\n",
       "<style>\n",
       "    .dataframe thead tr:only-child th {\n",
       "        text-align: right;\n",
       "    }\n",
       "\n",
       "    .dataframe thead th {\n",
       "        text-align: left;\n",
       "    }\n",
       "\n",
       "    .dataframe tbody tr th {\n",
       "        vertical-align: top;\n",
       "    }\n",
       "</style>\n",
       "<table border=\"1\" class=\"dataframe\">\n",
       "  <thead>\n",
       "    <tr style=\"text-align: right;\">\n",
       "      <th></th>\n",
       "      <th>symbol</th>\n",
       "      <th>2016-08-01</th>\n",
       "      <th>2016-08-02</th>\n",
       "      <th>2016-08-03</th>\n",
       "      <th>2016-08-04</th>\n",
       "      <th>2016-08-05</th>\n",
       "      <th>2016-08-08</th>\n",
       "      <th>2016-08-09</th>\n",
       "      <th>2016-08-10</th>\n",
       "      <th>2016-08-11</th>\n",
       "      <th>2016-08-12</th>\n",
       "      <th>2016-08-15</th>\n",
       "    </tr>\n",
       "  </thead>\n",
       "  <tbody>\n",
       "    <tr>\n",
       "      <th>0</th>\n",
       "      <td>ALXN</td>\n",
       "      <td>133.500000</td>\n",
       "      <td>133.610001</td>\n",
       "      <td>137.660004</td>\n",
       "      <td>135.429993</td>\n",
       "      <td>137.110001</td>\n",
       "      <td>136.080002</td>\n",
       "      <td>135.000000</td>\n",
       "      <td>132.669998</td>\n",
       "      <td>133.669998</td>\n",
       "      <td>133.440002</td>\n",
       "      <td>136.070007</td>\n",
       "    </tr>\n",
       "    <tr>\n",
       "      <th>1</th>\n",
       "      <td>GIS</td>\n",
       "      <td>71.629997</td>\n",
       "      <td>70.970001</td>\n",
       "      <td>69.779999</td>\n",
       "      <td>70.489998</td>\n",
       "      <td>70.550003</td>\n",
       "      <td>70.629997</td>\n",
       "      <td>70.930000</td>\n",
       "      <td>71.059998</td>\n",
       "      <td>71.070000</td>\n",
       "      <td>71.169998</td>\n",
       "      <td>71.040001</td>\n",
       "    </tr>\n",
       "    <tr>\n",
       "      <th>2</th>\n",
       "      <td>K</td>\n",
       "      <td>82.370003</td>\n",
       "      <td>81.870003</td>\n",
       "      <td>81.080002</td>\n",
       "      <td>82.419998</td>\n",
       "      <td>82.709999</td>\n",
       "      <td>82.919998</td>\n",
       "      <td>82.980003</td>\n",
       "      <td>82.959999</td>\n",
       "      <td>83.459999</td>\n",
       "      <td>83.529999</td>\n",
       "      <td>83.389999</td>\n",
       "    </tr>\n",
       "    <tr>\n",
       "      <th>3</th>\n",
       "      <td>LEN</td>\n",
       "      <td>46.750000</td>\n",
       "      <td>45.529999</td>\n",
       "      <td>45.740002</td>\n",
       "      <td>45.810001</td>\n",
       "      <td>46.799999</td>\n",
       "      <td>46.619999</td>\n",
       "      <td>46.830002</td>\n",
       "      <td>46.799999</td>\n",
       "      <td>47.160000</td>\n",
       "      <td>46.750000</td>\n",
       "      <td>47.299999</td>\n",
       "    </tr>\n",
       "    <tr>\n",
       "      <th>4</th>\n",
       "      <td>SPGI</td>\n",
       "      <td>121.220001</td>\n",
       "      <td>120.110001</td>\n",
       "      <td>120.510002</td>\n",
       "      <td>119.620003</td>\n",
       "      <td>120.900002</td>\n",
       "      <td>120.160004</td>\n",
       "      <td>120.580002</td>\n",
       "      <td>119.830002</td>\n",
       "      <td>120.410004</td>\n",
       "      <td>119.910004</td>\n",
       "      <td>120.260002</td>\n",
       "    </tr>\n",
       "    <tr>\n",
       "      <th>5</th>\n",
       "      <td>AIV</td>\n",
       "      <td>46.060001</td>\n",
       "      <td>45.169998</td>\n",
       "      <td>45.049999</td>\n",
       "      <td>44.880001</td>\n",
       "      <td>45.360001</td>\n",
       "      <td>45.880001</td>\n",
       "      <td>45.980000</td>\n",
       "      <td>45.400002</td>\n",
       "      <td>44.869999</td>\n",
       "      <td>45.049999</td>\n",
       "      <td>45.540001</td>\n",
       "    </tr>\n",
       "    <tr>\n",
       "      <th>6</th>\n",
       "      <td>AVY</td>\n",
       "      <td>78.150002</td>\n",
       "      <td>77.849998</td>\n",
       "      <td>77.239998</td>\n",
       "      <td>77.389999</td>\n",
       "      <td>78.459999</td>\n",
       "      <td>78.720001</td>\n",
       "      <td>78.730003</td>\n",
       "      <td>78.690002</td>\n",
       "      <td>78.300003</td>\n",
       "      <td>78.190002</td>\n",
       "      <td>78.169998</td>\n",
       "    </tr>\n",
       "    <tr>\n",
       "      <th>7</th>\n",
       "      <td>MMM</td>\n",
       "      <td>178.289993</td>\n",
       "      <td>178.360001</td>\n",
       "      <td>178.380005</td>\n",
       "      <td>177.809998</td>\n",
       "      <td>178.570007</td>\n",
       "      <td>178.580002</td>\n",
       "      <td>178.389999</td>\n",
       "      <td>178.820007</td>\n",
       "      <td>181.000000</td>\n",
       "      <td>180.270004</td>\n",
       "      <td>180.559998</td>\n",
       "    </tr>\n",
       "    <tr>\n",
       "      <th>8</th>\n",
       "      <td>PKI</td>\n",
       "      <td>56.689999</td>\n",
       "      <td>55.910000</td>\n",
       "      <td>55.750000</td>\n",
       "      <td>55.720001</td>\n",
       "      <td>54.849998</td>\n",
       "      <td>54.590000</td>\n",
       "      <td>54.720001</td>\n",
       "      <td>54.540001</td>\n",
       "      <td>54.720001</td>\n",
       "      <td>54.410000</td>\n",
       "      <td>54.610001</td>\n",
       "    </tr>\n",
       "    <tr>\n",
       "      <th>9</th>\n",
       "      <td>PPG</td>\n",
       "      <td>104.269079</td>\n",
       "      <td>103.292837</td>\n",
       "      <td>103.930385</td>\n",
       "      <td>103.701263</td>\n",
       "      <td>104.030001</td>\n",
       "      <td>104.480003</td>\n",
       "      <td>104.370003</td>\n",
       "      <td>104.690002</td>\n",
       "      <td>104.739998</td>\n",
       "      <td>103.989998</td>\n",
       "      <td>104.459999</td>\n",
       "    </tr>\n",
       "  </tbody>\n",
       "</table>\n",
       "</div>"
      ],
      "text/plain": [
       "  symbol  2016-08-01  2016-08-02  2016-08-03  2016-08-04  2016-08-05  \\\n",
       "0   ALXN  133.500000  133.610001  137.660004  135.429993  137.110001   \n",
       "1    GIS   71.629997   70.970001   69.779999   70.489998   70.550003   \n",
       "2      K   82.370003   81.870003   81.080002   82.419998   82.709999   \n",
       "3    LEN   46.750000   45.529999   45.740002   45.810001   46.799999   \n",
       "4   SPGI  121.220001  120.110001  120.510002  119.620003  120.900002   \n",
       "5    AIV   46.060001   45.169998   45.049999   44.880001   45.360001   \n",
       "6    AVY   78.150002   77.849998   77.239998   77.389999   78.459999   \n",
       "7    MMM  178.289993  178.360001  178.380005  177.809998  178.570007   \n",
       "8    PKI   56.689999   55.910000   55.750000   55.720001   54.849998   \n",
       "9    PPG  104.269079  103.292837  103.930385  103.701263  104.030001   \n",
       "\n",
       "   2016-08-08  2016-08-09  2016-08-10  2016-08-11  2016-08-12  2016-08-15  \n",
       "0  136.080002  135.000000  132.669998  133.669998  133.440002  136.070007  \n",
       "1   70.629997   70.930000   71.059998   71.070000   71.169998   71.040001  \n",
       "2   82.919998   82.980003   82.959999   83.459999   83.529999   83.389999  \n",
       "3   46.619999   46.830002   46.799999   47.160000   46.750000   47.299999  \n",
       "4  120.160004  120.580002  119.830002  120.410004  119.910004  120.260002  \n",
       "5   45.880001   45.980000   45.400002   44.869999   45.049999   45.540001  \n",
       "6   78.720001   78.730003   78.690002   78.300003   78.190002   78.169998  \n",
       "7  178.580002  178.389999  178.820007  181.000000  180.270004  180.559998  \n",
       "8   54.590000   54.720001   54.540001   54.720001   54.410000   54.610001  \n",
       "9  104.480003  104.370003  104.690002  104.739998  103.989998  104.459999  "
      ]
     },
     "execution_count": 30,
     "metadata": {},
     "output_type": "execute_result"
    }
   ],
   "source": [
    "stocks_pivot = stocks_last10.groupby(\"symbol\").pivot(\"date\").agg(max(col(\"adjclose\")))\n",
    "stocks_pivot.limit(10).toPandas()"
   ]
  },
  {
   "cell_type": "code",
   "execution_count": 31,
   "metadata": {},
   "outputs": [
    {
     "data": {
      "text/plain": [
       "['symbol', 'v0', 'v1', 'v2', 'v3', 'v4', 'v5', 'v6', 'v7', 'v8', 'v9', 'v10']"
      ]
     },
     "execution_count": 31,
     "metadata": {},
     "output_type": "execute_result"
    }
   ],
   "source": [
    "columns = [\"v\" + str(i) for i in range(len(stocks_pivot.columns) - 1)]\n",
    "columns.insert(0, \"symbol\")\n",
    "columns"
   ]
  },
  {
   "cell_type": "code",
   "execution_count": 32,
   "metadata": {},
   "outputs": [
    {
     "data": {
      "text/html": [
       "<div>\n",
       "<style>\n",
       "    .dataframe thead tr:only-child th {\n",
       "        text-align: right;\n",
       "    }\n",
       "\n",
       "    .dataframe thead th {\n",
       "        text-align: left;\n",
       "    }\n",
       "\n",
       "    .dataframe tbody tr th {\n",
       "        vertical-align: top;\n",
       "    }\n",
       "</style>\n",
       "<table border=\"1\" class=\"dataframe\">\n",
       "  <thead>\n",
       "    <tr style=\"text-align: right;\">\n",
       "      <th></th>\n",
       "      <th>symbol</th>\n",
       "      <th>v0</th>\n",
       "      <th>v1</th>\n",
       "      <th>v2</th>\n",
       "      <th>v3</th>\n",
       "      <th>v4</th>\n",
       "      <th>v5</th>\n",
       "      <th>v6</th>\n",
       "      <th>v7</th>\n",
       "      <th>v8</th>\n",
       "      <th>v9</th>\n",
       "      <th>v10</th>\n",
       "    </tr>\n",
       "  </thead>\n",
       "  <tbody>\n",
       "    <tr>\n",
       "      <th>0</th>\n",
       "      <td>ALXN</td>\n",
       "      <td>133.500000</td>\n",
       "      <td>133.610001</td>\n",
       "      <td>137.660004</td>\n",
       "      <td>135.429993</td>\n",
       "      <td>137.110001</td>\n",
       "      <td>136.080002</td>\n",
       "      <td>135.000000</td>\n",
       "      <td>132.669998</td>\n",
       "      <td>133.669998</td>\n",
       "      <td>133.440002</td>\n",
       "      <td>136.070007</td>\n",
       "    </tr>\n",
       "    <tr>\n",
       "      <th>1</th>\n",
       "      <td>GIS</td>\n",
       "      <td>71.629997</td>\n",
       "      <td>70.970001</td>\n",
       "      <td>69.779999</td>\n",
       "      <td>70.489998</td>\n",
       "      <td>70.550003</td>\n",
       "      <td>70.629997</td>\n",
       "      <td>70.930000</td>\n",
       "      <td>71.059998</td>\n",
       "      <td>71.070000</td>\n",
       "      <td>71.169998</td>\n",
       "      <td>71.040001</td>\n",
       "    </tr>\n",
       "    <tr>\n",
       "      <th>2</th>\n",
       "      <td>K</td>\n",
       "      <td>82.370003</td>\n",
       "      <td>81.870003</td>\n",
       "      <td>81.080002</td>\n",
       "      <td>82.419998</td>\n",
       "      <td>82.709999</td>\n",
       "      <td>82.919998</td>\n",
       "      <td>82.980003</td>\n",
       "      <td>82.959999</td>\n",
       "      <td>83.459999</td>\n",
       "      <td>83.529999</td>\n",
       "      <td>83.389999</td>\n",
       "    </tr>\n",
       "    <tr>\n",
       "      <th>3</th>\n",
       "      <td>LEN</td>\n",
       "      <td>46.750000</td>\n",
       "      <td>45.529999</td>\n",
       "      <td>45.740002</td>\n",
       "      <td>45.810001</td>\n",
       "      <td>46.799999</td>\n",
       "      <td>46.619999</td>\n",
       "      <td>46.830002</td>\n",
       "      <td>46.799999</td>\n",
       "      <td>47.160000</td>\n",
       "      <td>46.750000</td>\n",
       "      <td>47.299999</td>\n",
       "    </tr>\n",
       "    <tr>\n",
       "      <th>4</th>\n",
       "      <td>SPGI</td>\n",
       "      <td>121.220001</td>\n",
       "      <td>120.110001</td>\n",
       "      <td>120.510002</td>\n",
       "      <td>119.620003</td>\n",
       "      <td>120.900002</td>\n",
       "      <td>120.160004</td>\n",
       "      <td>120.580002</td>\n",
       "      <td>119.830002</td>\n",
       "      <td>120.410004</td>\n",
       "      <td>119.910004</td>\n",
       "      <td>120.260002</td>\n",
       "    </tr>\n",
       "    <tr>\n",
       "      <th>5</th>\n",
       "      <td>AIV</td>\n",
       "      <td>46.060001</td>\n",
       "      <td>45.169998</td>\n",
       "      <td>45.049999</td>\n",
       "      <td>44.880001</td>\n",
       "      <td>45.360001</td>\n",
       "      <td>45.880001</td>\n",
       "      <td>45.980000</td>\n",
       "      <td>45.400002</td>\n",
       "      <td>44.869999</td>\n",
       "      <td>45.049999</td>\n",
       "      <td>45.540001</td>\n",
       "    </tr>\n",
       "    <tr>\n",
       "      <th>6</th>\n",
       "      <td>AVY</td>\n",
       "      <td>78.150002</td>\n",
       "      <td>77.849998</td>\n",
       "      <td>77.239998</td>\n",
       "      <td>77.389999</td>\n",
       "      <td>78.459999</td>\n",
       "      <td>78.720001</td>\n",
       "      <td>78.730003</td>\n",
       "      <td>78.690002</td>\n",
       "      <td>78.300003</td>\n",
       "      <td>78.190002</td>\n",
       "      <td>78.169998</td>\n",
       "    </tr>\n",
       "    <tr>\n",
       "      <th>7</th>\n",
       "      <td>MMM</td>\n",
       "      <td>178.289993</td>\n",
       "      <td>178.360001</td>\n",
       "      <td>178.380005</td>\n",
       "      <td>177.809998</td>\n",
       "      <td>178.570007</td>\n",
       "      <td>178.580002</td>\n",
       "      <td>178.389999</td>\n",
       "      <td>178.820007</td>\n",
       "      <td>181.000000</td>\n",
       "      <td>180.270004</td>\n",
       "      <td>180.559998</td>\n",
       "    </tr>\n",
       "    <tr>\n",
       "      <th>8</th>\n",
       "      <td>PKI</td>\n",
       "      <td>56.689999</td>\n",
       "      <td>55.910000</td>\n",
       "      <td>55.750000</td>\n",
       "      <td>55.720001</td>\n",
       "      <td>54.849998</td>\n",
       "      <td>54.590000</td>\n",
       "      <td>54.720001</td>\n",
       "      <td>54.540001</td>\n",
       "      <td>54.720001</td>\n",
       "      <td>54.410000</td>\n",
       "      <td>54.610001</td>\n",
       "    </tr>\n",
       "    <tr>\n",
       "      <th>9</th>\n",
       "      <td>PPG</td>\n",
       "      <td>104.269079</td>\n",
       "      <td>103.292837</td>\n",
       "      <td>103.930385</td>\n",
       "      <td>103.701263</td>\n",
       "      <td>104.030001</td>\n",
       "      <td>104.480003</td>\n",
       "      <td>104.370003</td>\n",
       "      <td>104.690002</td>\n",
       "      <td>104.739998</td>\n",
       "      <td>103.989998</td>\n",
       "      <td>104.459999</td>\n",
       "    </tr>\n",
       "  </tbody>\n",
       "</table>\n",
       "</div>"
      ],
      "text/plain": [
       "  symbol          v0          v1          v2          v3          v4  \\\n",
       "0   ALXN  133.500000  133.610001  137.660004  135.429993  137.110001   \n",
       "1    GIS   71.629997   70.970001   69.779999   70.489998   70.550003   \n",
       "2      K   82.370003   81.870003   81.080002   82.419998   82.709999   \n",
       "3    LEN   46.750000   45.529999   45.740002   45.810001   46.799999   \n",
       "4   SPGI  121.220001  120.110001  120.510002  119.620003  120.900002   \n",
       "5    AIV   46.060001   45.169998   45.049999   44.880001   45.360001   \n",
       "6    AVY   78.150002   77.849998   77.239998   77.389999   78.459999   \n",
       "7    MMM  178.289993  178.360001  178.380005  177.809998  178.570007   \n",
       "8    PKI   56.689999   55.910000   55.750000   55.720001   54.849998   \n",
       "9    PPG  104.269079  103.292837  103.930385  103.701263  104.030001   \n",
       "\n",
       "           v5          v6          v7          v8          v9         v10  \n",
       "0  136.080002  135.000000  132.669998  133.669998  133.440002  136.070007  \n",
       "1   70.629997   70.930000   71.059998   71.070000   71.169998   71.040001  \n",
       "2   82.919998   82.980003   82.959999   83.459999   83.529999   83.389999  \n",
       "3   46.619999   46.830002   46.799999   47.160000   46.750000   47.299999  \n",
       "4  120.160004  120.580002  119.830002  120.410004  119.910004  120.260002  \n",
       "5   45.880001   45.980000   45.400002   44.869999   45.049999   45.540001  \n",
       "6   78.720001   78.730003   78.690002   78.300003   78.190002   78.169998  \n",
       "7  178.580002  178.389999  178.820007  181.000000  180.270004  180.559998  \n",
       "8   54.590000   54.720001   54.540001   54.720001   54.410000   54.610001  \n",
       "9  104.480003  104.370003  104.690002  104.739998  103.989998  104.459999  "
      ]
     },
     "execution_count": 32,
     "metadata": {},
     "output_type": "execute_result"
    }
   ],
   "source": [
    "stocks_pivot = stocks_pivot.toDF(*columns)\n",
    "stocks_pivot.limit(10).toPandas()"
   ]
  },
  {
   "cell_type": "code",
   "execution_count": 33,
   "metadata": {},
   "outputs": [
    {
     "data": {
      "text/html": [
       "<div>\n",
       "<style>\n",
       "    .dataframe thead tr:only-child th {\n",
       "        text-align: right;\n",
       "    }\n",
       "\n",
       "    .dataframe thead th {\n",
       "        text-align: left;\n",
       "    }\n",
       "\n",
       "    .dataframe tbody tr th {\n",
       "        vertical-align: top;\n",
       "    }\n",
       "</style>\n",
       "<table border=\"1\" class=\"dataframe\">\n",
       "  <thead>\n",
       "    <tr style=\"text-align: right;\">\n",
       "      <th></th>\n",
       "      <th>symbol</th>\n",
       "      <th>v0</th>\n",
       "      <th>v1</th>\n",
       "      <th>v2</th>\n",
       "      <th>v3</th>\n",
       "      <th>v4</th>\n",
       "      <th>v5</th>\n",
       "      <th>v6</th>\n",
       "      <th>v7</th>\n",
       "      <th>v8</th>\n",
       "      <th>v9</th>\n",
       "    </tr>\n",
       "  </thead>\n",
       "  <tbody>\n",
       "    <tr>\n",
       "      <th>0</th>\n",
       "      <td>ALXN</td>\n",
       "      <td>-0.110001</td>\n",
       "      <td>-4.050003</td>\n",
       "      <td>2.230011</td>\n",
       "      <td>-1.680008</td>\n",
       "      <td>1.029999</td>\n",
       "      <td>1.080002</td>\n",
       "      <td>2.330002</td>\n",
       "      <td>-1.000000</td>\n",
       "      <td>0.229996</td>\n",
       "      <td>-2.630005</td>\n",
       "    </tr>\n",
       "    <tr>\n",
       "      <th>1</th>\n",
       "      <td>GIS</td>\n",
       "      <td>0.659996</td>\n",
       "      <td>1.190002</td>\n",
       "      <td>-0.709999</td>\n",
       "      <td>-0.060005</td>\n",
       "      <td>-0.079994</td>\n",
       "      <td>-0.300003</td>\n",
       "      <td>-0.129998</td>\n",
       "      <td>-0.010002</td>\n",
       "      <td>-0.099998</td>\n",
       "      <td>0.129997</td>\n",
       "    </tr>\n",
       "    <tr>\n",
       "      <th>2</th>\n",
       "      <td>K</td>\n",
       "      <td>0.500000</td>\n",
       "      <td>0.790001</td>\n",
       "      <td>-1.339996</td>\n",
       "      <td>-0.290001</td>\n",
       "      <td>-0.209999</td>\n",
       "      <td>-0.060005</td>\n",
       "      <td>0.020004</td>\n",
       "      <td>-0.500000</td>\n",
       "      <td>-0.070000</td>\n",
       "      <td>0.140000</td>\n",
       "    </tr>\n",
       "    <tr>\n",
       "      <th>3</th>\n",
       "      <td>LEN</td>\n",
       "      <td>1.220001</td>\n",
       "      <td>-0.210003</td>\n",
       "      <td>-0.069999</td>\n",
       "      <td>-0.989998</td>\n",
       "      <td>0.180000</td>\n",
       "      <td>-0.210003</td>\n",
       "      <td>0.030003</td>\n",
       "      <td>-0.360001</td>\n",
       "      <td>0.410000</td>\n",
       "      <td>-0.549999</td>\n",
       "    </tr>\n",
       "    <tr>\n",
       "      <th>4</th>\n",
       "      <td>SPGI</td>\n",
       "      <td>1.110000</td>\n",
       "      <td>-0.400001</td>\n",
       "      <td>0.889999</td>\n",
       "      <td>-1.279999</td>\n",
       "      <td>0.739998</td>\n",
       "      <td>-0.419998</td>\n",
       "      <td>0.750000</td>\n",
       "      <td>-0.580002</td>\n",
       "      <td>0.500000</td>\n",
       "      <td>-0.349998</td>\n",
       "    </tr>\n",
       "    <tr>\n",
       "      <th>5</th>\n",
       "      <td>AIV</td>\n",
       "      <td>0.890003</td>\n",
       "      <td>0.119999</td>\n",
       "      <td>0.169998</td>\n",
       "      <td>-0.480000</td>\n",
       "      <td>-0.520000</td>\n",
       "      <td>-0.099999</td>\n",
       "      <td>0.579998</td>\n",
       "      <td>0.530003</td>\n",
       "      <td>-0.180000</td>\n",
       "      <td>-0.490002</td>\n",
       "    </tr>\n",
       "    <tr>\n",
       "      <th>6</th>\n",
       "      <td>AVY</td>\n",
       "      <td>0.300004</td>\n",
       "      <td>0.610000</td>\n",
       "      <td>-0.150001</td>\n",
       "      <td>-1.070000</td>\n",
       "      <td>-0.260002</td>\n",
       "      <td>-0.010002</td>\n",
       "      <td>0.040001</td>\n",
       "      <td>0.389999</td>\n",
       "      <td>0.110001</td>\n",
       "      <td>0.020004</td>\n",
       "    </tr>\n",
       "    <tr>\n",
       "      <th>7</th>\n",
       "      <td>MMM</td>\n",
       "      <td>-0.070008</td>\n",
       "      <td>-0.020004</td>\n",
       "      <td>0.570007</td>\n",
       "      <td>-0.760009</td>\n",
       "      <td>-0.009995</td>\n",
       "      <td>0.190003</td>\n",
       "      <td>-0.430008</td>\n",
       "      <td>-2.179993</td>\n",
       "      <td>0.729996</td>\n",
       "      <td>-0.289994</td>\n",
       "    </tr>\n",
       "    <tr>\n",
       "      <th>8</th>\n",
       "      <td>PKI</td>\n",
       "      <td>0.779999</td>\n",
       "      <td>0.160000</td>\n",
       "      <td>0.029999</td>\n",
       "      <td>0.870003</td>\n",
       "      <td>0.259998</td>\n",
       "      <td>-0.130001</td>\n",
       "      <td>0.180000</td>\n",
       "      <td>-0.180000</td>\n",
       "      <td>0.310001</td>\n",
       "      <td>-0.200001</td>\n",
       "    </tr>\n",
       "    <tr>\n",
       "      <th>9</th>\n",
       "      <td>PPG</td>\n",
       "      <td>0.976242</td>\n",
       "      <td>-0.637548</td>\n",
       "      <td>0.229122</td>\n",
       "      <td>-0.328738</td>\n",
       "      <td>-0.450002</td>\n",
       "      <td>0.110000</td>\n",
       "      <td>-0.319999</td>\n",
       "      <td>-0.049996</td>\n",
       "      <td>0.750000</td>\n",
       "      <td>-0.470001</td>\n",
       "    </tr>\n",
       "  </tbody>\n",
       "</table>\n",
       "</div>"
      ],
      "text/plain": [
       "  symbol        v0        v1        v2        v3        v4        v5  \\\n",
       "0   ALXN -0.110001 -4.050003  2.230011 -1.680008  1.029999  1.080002   \n",
       "1    GIS  0.659996  1.190002 -0.709999 -0.060005 -0.079994 -0.300003   \n",
       "2      K  0.500000  0.790001 -1.339996 -0.290001 -0.209999 -0.060005   \n",
       "3    LEN  1.220001 -0.210003 -0.069999 -0.989998  0.180000 -0.210003   \n",
       "4   SPGI  1.110000 -0.400001  0.889999 -1.279999  0.739998 -0.419998   \n",
       "5    AIV  0.890003  0.119999  0.169998 -0.480000 -0.520000 -0.099999   \n",
       "6    AVY  0.300004  0.610000 -0.150001 -1.070000 -0.260002 -0.010002   \n",
       "7    MMM -0.070008 -0.020004  0.570007 -0.760009 -0.009995  0.190003   \n",
       "8    PKI  0.779999  0.160000  0.029999  0.870003  0.259998 -0.130001   \n",
       "9    PPG  0.976242 -0.637548  0.229122 -0.328738 -0.450002  0.110000   \n",
       "\n",
       "         v6        v7        v8        v9  \n",
       "0  2.330002 -1.000000  0.229996 -2.630005  \n",
       "1 -0.129998 -0.010002 -0.099998  0.129997  \n",
       "2  0.020004 -0.500000 -0.070000  0.140000  \n",
       "3  0.030003 -0.360001  0.410000 -0.549999  \n",
       "4  0.750000 -0.580002  0.500000 -0.349998  \n",
       "5  0.579998  0.530003 -0.180000 -0.490002  \n",
       "6  0.040001  0.389999  0.110001  0.020004  \n",
       "7 -0.430008 -2.179993  0.729996 -0.289994  \n",
       "8  0.180000 -0.180000  0.310001 -0.200001  \n",
       "9 -0.319999 -0.049996  0.750000 -0.470001  "
      ]
     },
     "execution_count": 33,
     "metadata": {},
     "output_type": "execute_result"
    }
   ],
   "source": [
    "stocks_diff = stocks_pivot\n",
    "for i in range(1, len(stocks_diff.columns) - 1):\n",
    "    stocks_diff = stocks_diff.withColumn(columns[i], col(columns[i]) - col(columns[i+1]))\n",
    "\n",
    "stocks_diff = stocks_diff.drop(stocks_diff.columns[-1])\n",
    "stocks_diff.limit(10).toPandas()"
   ]
  },
  {
   "cell_type": "markdown",
   "metadata": {},
   "source": [
    "### Exercise 3: Read data from mysql \n",
    "\n",
    "1. Create a dataframe - orders in Spark based on orders table in retail_db in mysql\n",
    "2. Save the orders as parquet file in HDFS\n",
    "3. Write a query joining customers table in mysql and orders parquet file in HDFS to find customers with most number of completed orders.\n",
    "4. Save the orders dataframe as hive table. Verify that orders table is accessible in hive as well.\n",
    "5. Delete the orders table from hive."
   ]
  },
  {
   "cell_type": "markdown",
   "metadata": {},
   "source": [
    "Create a dataframe - orders in Spark based on orders table in retail_db in mysql"
   ]
  },
  {
   "cell_type": "code",
   "execution_count": 34,
   "metadata": {},
   "outputs": [
    {
     "name": "stdout",
     "output_type": "stream",
     "text": [
      "+--------+--------------------+-----------------+---------------+\n",
      "|order_id|          order_date|order_customer_id|   order_status|\n",
      "+--------+--------------------+-----------------+---------------+\n",
      "|       1|2013-07-25 00:00:...|            11599|         CLOSED|\n",
      "|       2|2013-07-25 00:00:...|              256|PENDING_PAYMENT|\n",
      "|       3|2013-07-25 00:00:...|            12111|       COMPLETE|\n",
      "|       4|2013-07-25 00:00:...|             8827|         CLOSED|\n",
      "|       5|2013-07-25 00:00:...|            11318|       COMPLETE|\n",
      "|       6|2013-07-25 00:00:...|             7130|       COMPLETE|\n",
      "|       7|2013-07-25 00:00:...|             4530|       COMPLETE|\n",
      "|       8|2013-07-25 00:00:...|             2911|     PROCESSING|\n",
      "|       9|2013-07-25 00:00:...|             5657|PENDING_PAYMENT|\n",
      "|      10|2013-07-25 00:00:...|             5648|PENDING_PAYMENT|\n",
      "|      11|2013-07-25 00:00:...|              918| PAYMENT_REVIEW|\n",
      "|      12|2013-07-25 00:00:...|             1837|         CLOSED|\n",
      "|      13|2013-07-25 00:00:...|             9149|PENDING_PAYMENT|\n",
      "|      14|2013-07-25 00:00:...|             9842|     PROCESSING|\n",
      "|      15|2013-07-25 00:00:...|             2568|       COMPLETE|\n",
      "|      16|2013-07-25 00:00:...|             7276|PENDING_PAYMENT|\n",
      "|      17|2013-07-25 00:00:...|             2667|       COMPLETE|\n",
      "|      18|2013-07-25 00:00:...|             1205|         CLOSED|\n",
      "|      19|2013-07-25 00:00:...|             9488|PENDING_PAYMENT|\n",
      "|      20|2013-07-25 00:00:...|             9198|     PROCESSING|\n",
      "+--------+--------------------+-----------------+---------------+\n",
      "only showing top 20 rows\n",
      "\n"
     ]
    }
   ],
   "source": [
    "orders = (spark\n",
    "             .read\n",
    "             .format(\"jdbc\")\n",
    "             .option(\"url\", \"jdbc:mysql://localhost/retail_db\")\n",
    "             .option(\"driver\", \"com.mysql.jdbc.Driver\")\n",
    "             .option(\"dbtable\", \"orders\")\n",
    "             .option(\"user\", \"root\")\n",
    "             .option(\"password\", \"cloudera\")\n",
    "             .load())\n",
    "orders.show()         "
   ]
  },
  {
   "cell_type": "markdown",
   "metadata": {},
   "source": [
    "Save the orders as parquet file in HDFS"
   ]
  },
  {
   "cell_type": "code",
   "execution_count": 35,
   "metadata": {
    "collapsed": true
   },
   "outputs": [],
   "source": [
    "orders.write.format(\"parquet\").mode(\"overwrite\").save(\"orders\")"
   ]
  },
  {
   "cell_type": "markdown",
   "metadata": {},
   "source": [
    "Create a dataframe customers, based on the customers table in retail_db in mysql database."
   ]
  },
  {
   "cell_type": "code",
   "execution_count": 36,
   "metadata": {},
   "outputs": [
    {
     "name": "stdout",
     "output_type": "stream",
     "text": [
      "+-----------+--------------+--------------+--------------+-----------------+--------------------+-------------+--------------+----------------+\n",
      "|customer_id|customer_fname|customer_lname|customer_email|customer_password|     customer_street|customer_city|customer_state|customer_zipcode|\n",
      "+-----------+--------------+--------------+--------------+-----------------+--------------------+-------------+--------------+----------------+\n",
      "|          1|       Richard|     Hernandez|     XXXXXXXXX|        XXXXXXXXX|  6303 Heather Plaza|  Brownsville|            TX|           78521|\n",
      "|          2|          Mary|       Barrett|     XXXXXXXXX|        XXXXXXXXX|9526 Noble Embers...|    Littleton|            CO|           80126|\n",
      "|          3|           Ann|         Smith|     XXXXXXXXX|        XXXXXXXXX|3422 Blue Pioneer...|       Caguas|            PR|           00725|\n",
      "|          4|          Mary|         Jones|     XXXXXXXXX|        XXXXXXXXX|  8324 Little Common|   San Marcos|            CA|           92069|\n",
      "|          5|        Robert|        Hudson|     XXXXXXXXX|        XXXXXXXXX|10 Crystal River ...|       Caguas|            PR|           00725|\n",
      "+-----------+--------------+--------------+--------------+-----------------+--------------------+-------------+--------------+----------------+\n",
      "only showing top 5 rows\n",
      "\n"
     ]
    }
   ],
   "source": [
    "customers = (spark\n",
    "             .read\n",
    "             .format(\"jdbc\")\n",
    "             .option(\"url\", \"jdbc:mysql://localhost/retail_db\")\n",
    "             .option(\"driver\", \"com.mysql.jdbc.Driver\")\n",
    "             .option(\"dbtable\", \"customers\")\n",
    "             .option(\"user\", \"root\")\n",
    "             .option(\"password\", \"cloudera\")\n",
    "             .load())\n",
    "customers.show(5)    "
   ]
  },
  {
   "cell_type": "markdown",
   "metadata": {},
   "source": [
    "Create an orders based on the orders parquet file. "
   ]
  },
  {
   "cell_type": "code",
   "execution_count": 37,
   "metadata": {},
   "outputs": [
    {
     "name": "stdout",
     "output_type": "stream",
     "text": [
      "+--------+--------------------+-----------------+---------------+\n",
      "|order_id|          order_date|order_customer_id|   order_status|\n",
      "+--------+--------------------+-----------------+---------------+\n",
      "|       1|2013-07-25 00:00:...|            11599|         CLOSED|\n",
      "|       2|2013-07-25 00:00:...|              256|PENDING_PAYMENT|\n",
      "|       3|2013-07-25 00:00:...|            12111|       COMPLETE|\n",
      "|       4|2013-07-25 00:00:...|             8827|         CLOSED|\n",
      "|       5|2013-07-25 00:00:...|            11318|       COMPLETE|\n",
      "|       6|2013-07-25 00:00:...|             7130|       COMPLETE|\n",
      "+--------+--------------------+-----------------+---------------+\n",
      "only showing top 6 rows\n",
      "\n"
     ]
    }
   ],
   "source": [
    "orders = spark.read.load(\"orders\")\n",
    "orders.show(6)"
   ]
  },
  {
   "cell_type": "markdown",
   "metadata": {},
   "source": [
    "Write a query joining customers table in mysql and orders parquet file in HDFS to find most number of complet orders."
   ]
  },
  {
   "cell_type": "code",
   "execution_count": 38,
   "metadata": {},
   "outputs": [
    {
     "name": "stdout",
     "output_type": "stream",
     "text": [
      "+-----------------+--------------+--------------+-----+\n",
      "|order_customer_id|customer_fname|customer_lname|count|\n",
      "+-----------------+--------------+--------------+-----+\n",
      "|             9337|          Mary|         Smith|   10|\n",
      "|             7802|          Mary|       Acevedo|    9|\n",
      "|             3710|        Ashley|         Smith|    9|\n",
      "|              749|         Jesse|      Matthews|    9|\n",
      "|             5186|         Jason|      Robinson|    8|\n",
      "|              221|          Mary|           Cox|    8|\n",
      "|             2469|         Shawn|         Smith|    8|\n",
      "|            11061|        Joseph|       Webster|    8|\n",
      "|             5283|         Jacob|      Guerrero|    8|\n",
      "|             7910|          Mary|       Camacho|    8|\n",
      "+-----------------+--------------+--------------+-----+\n",
      "only showing top 10 rows\n",
      "\n"
     ]
    }
   ],
   "source": [
    "(orders.alias(\"t1\")\n",
    ".join(customers.alias(\"t2\"), col(\"t1.order_customer_id\") == col(\"t2.customer_id\"))\n",
    ".filter(\"t1.order_status == 'COMPLETE'\")\n",
    ".groupby(\"order_customer_id\", \"customer_fname\", \"customer_lname\")\n",
    ".count()\n",
    ".orderBy(col(\"count\").desc())\n",
    ".show(10))"
   ]
  },
  {
   "cell_type": "code",
   "execution_count": 39,
   "metadata": {
    "collapsed": true
   },
   "outputs": [],
   "source": [
    "orders.write.mode(\"overwrite\").saveAsTable(\"orders\")"
   ]
  },
  {
   "cell_type": "markdown",
   "metadata": {},
   "source": [
    "Verify the table in Hive. See whether orders table shows up as a permanent table. You can use use describe formatted <table> command to see what type of hive file it is."
   ]
  },
  {
   "cell_type": "code",
   "execution_count": 40,
   "metadata": {},
   "outputs": [
    {
     "name": "stdout",
     "output_type": "stream",
     "text": [
      "+--------+---------+-----------+\n",
      "|database|tableName|isTemporary|\n",
      "+--------+---------+-----------+\n",
      "| default|   orders|      false|\n",
      "| default|  weblogs|      false|\n",
      "|        |   movies|       true|\n",
      "|        |  ratings|       true|\n",
      "|        |   stocks|       true|\n",
      "+--------+---------+-----------+\n",
      "\n"
     ]
    }
   ],
   "source": [
    "sql(\"show tables\").show()"
   ]
  },
  {
   "cell_type": "code",
   "execution_count": 41,
   "metadata": {},
   "outputs": [
    {
     "name": "stdout",
     "output_type": "stream",
     "text": [
      "+--------+--------------------+-----------------+---------------+\n",
      "|order_id|          order_date|order_customer_id|   order_status|\n",
      "+--------+--------------------+-----------------+---------------+\n",
      "|       1|2013-07-25 00:00:...|            11599|         CLOSED|\n",
      "|       2|2013-07-25 00:00:...|              256|PENDING_PAYMENT|\n",
      "|       3|2013-07-25 00:00:...|            12111|       COMPLETE|\n",
      "|       4|2013-07-25 00:00:...|             8827|         CLOSED|\n",
      "|       5|2013-07-25 00:00:...|            11318|       COMPLETE|\n",
      "|       6|2013-07-25 00:00:...|             7130|       COMPLETE|\n",
      "|       7|2013-07-25 00:00:...|             4530|       COMPLETE|\n",
      "|       8|2013-07-25 00:00:...|             2911|     PROCESSING|\n",
      "|       9|2013-07-25 00:00:...|             5657|PENDING_PAYMENT|\n",
      "|      10|2013-07-25 00:00:...|             5648|PENDING_PAYMENT|\n",
      "+--------+--------------------+-----------------+---------------+\n",
      "only showing top 10 rows\n",
      "\n"
     ]
    }
   ],
   "source": [
    "spark.table(\"orders\").show(10)"
   ]
  },
  {
   "cell_type": "code",
   "execution_count": 42,
   "metadata": {},
   "outputs": [
    {
     "data": {
      "text/html": [
       "<div>\n",
       "<style>\n",
       "    .dataframe thead tr:only-child th {\n",
       "        text-align: right;\n",
       "    }\n",
       "\n",
       "    .dataframe thead th {\n",
       "        text-align: left;\n",
       "    }\n",
       "\n",
       "    .dataframe tbody tr th {\n",
       "        vertical-align: top;\n",
       "    }\n",
       "</style>\n",
       "<table border=\"1\" class=\"dataframe\">\n",
       "  <thead>\n",
       "    <tr style=\"text-align: right;\">\n",
       "      <th></th>\n",
       "      <th>col_name</th>\n",
       "      <th>data_type</th>\n",
       "      <th>comment</th>\n",
       "    </tr>\n",
       "  </thead>\n",
       "  <tbody>\n",
       "    <tr>\n",
       "      <th>0</th>\n",
       "      <td>order_id</td>\n",
       "      <td>int</td>\n",
       "      <td>None</td>\n",
       "    </tr>\n",
       "    <tr>\n",
       "      <th>1</th>\n",
       "      <td>order_date</td>\n",
       "      <td>timestamp</td>\n",
       "      <td>None</td>\n",
       "    </tr>\n",
       "    <tr>\n",
       "      <th>2</th>\n",
       "      <td>order_customer_id</td>\n",
       "      <td>int</td>\n",
       "      <td>None</td>\n",
       "    </tr>\n",
       "    <tr>\n",
       "      <th>3</th>\n",
       "      <td>order_status</td>\n",
       "      <td>string</td>\n",
       "      <td>None</td>\n",
       "    </tr>\n",
       "    <tr>\n",
       "      <th>4</th>\n",
       "      <td></td>\n",
       "      <td></td>\n",
       "      <td></td>\n",
       "    </tr>\n",
       "    <tr>\n",
       "      <th>5</th>\n",
       "      <td># Detailed Table Information</td>\n",
       "      <td></td>\n",
       "      <td></td>\n",
       "    </tr>\n",
       "    <tr>\n",
       "      <th>6</th>\n",
       "      <td>Database:</td>\n",
       "      <td>default</td>\n",
       "      <td></td>\n",
       "    </tr>\n",
       "    <tr>\n",
       "      <th>7</th>\n",
       "      <td>Owner:</td>\n",
       "      <td>cloudera</td>\n",
       "      <td></td>\n",
       "    </tr>\n",
       "    <tr>\n",
       "      <th>8</th>\n",
       "      <td>Create Time:</td>\n",
       "      <td>Tue Oct 03 01:30:25 PDT 2017</td>\n",
       "      <td></td>\n",
       "    </tr>\n",
       "    <tr>\n",
       "      <th>9</th>\n",
       "      <td>Last Access Time:</td>\n",
       "      <td>Wed Dec 31 16:00:00 PST 1969</td>\n",
       "      <td></td>\n",
       "    </tr>\n",
       "    <tr>\n",
       "      <th>10</th>\n",
       "      <td>Location:</td>\n",
       "      <td>hdfs://quickstart.cloudera:8020/user/hive/ware...</td>\n",
       "      <td></td>\n",
       "    </tr>\n",
       "    <tr>\n",
       "      <th>11</th>\n",
       "      <td>Table Type:</td>\n",
       "      <td>MANAGED</td>\n",
       "      <td></td>\n",
       "    </tr>\n",
       "    <tr>\n",
       "      <th>12</th>\n",
       "      <td>Table Parameters:</td>\n",
       "      <td></td>\n",
       "      <td></td>\n",
       "    </tr>\n",
       "    <tr>\n",
       "      <th>13</th>\n",
       "      <td>rawDataSize</td>\n",
       "      <td>-1</td>\n",
       "      <td></td>\n",
       "    </tr>\n",
       "    <tr>\n",
       "      <th>14</th>\n",
       "      <td>numFiles</td>\n",
       "      <td>1</td>\n",
       "      <td></td>\n",
       "    </tr>\n",
       "    <tr>\n",
       "      <th>15</th>\n",
       "      <td>transient_lastDdlTime</td>\n",
       "      <td>1507019425</td>\n",
       "      <td></td>\n",
       "    </tr>\n",
       "    <tr>\n",
       "      <th>16</th>\n",
       "      <td>totalSize</td>\n",
       "      <td>487424</td>\n",
       "      <td></td>\n",
       "    </tr>\n",
       "    <tr>\n",
       "      <th>17</th>\n",
       "      <td>COLUMN_STATS_ACCURATE</td>\n",
       "      <td>false</td>\n",
       "      <td></td>\n",
       "    </tr>\n",
       "    <tr>\n",
       "      <th>18</th>\n",
       "      <td>numRows</td>\n",
       "      <td>-1</td>\n",
       "      <td></td>\n",
       "    </tr>\n",
       "    <tr>\n",
       "      <th>19</th>\n",
       "      <td></td>\n",
       "      <td></td>\n",
       "      <td></td>\n",
       "    </tr>\n",
       "    <tr>\n",
       "      <th>20</th>\n",
       "      <td># Storage Information</td>\n",
       "      <td></td>\n",
       "      <td></td>\n",
       "    </tr>\n",
       "    <tr>\n",
       "      <th>21</th>\n",
       "      <td>SerDe Library:</td>\n",
       "      <td>org.apache.hadoop.hive.ql.io.parquet.serde.Par...</td>\n",
       "      <td></td>\n",
       "    </tr>\n",
       "    <tr>\n",
       "      <th>22</th>\n",
       "      <td>InputFormat:</td>\n",
       "      <td>org.apache.hadoop.hive.ql.io.parquet.MapredPar...</td>\n",
       "      <td></td>\n",
       "    </tr>\n",
       "    <tr>\n",
       "      <th>23</th>\n",
       "      <td>OutputFormat:</td>\n",
       "      <td>org.apache.hadoop.hive.ql.io.parquet.MapredPar...</td>\n",
       "      <td></td>\n",
       "    </tr>\n",
       "    <tr>\n",
       "      <th>24</th>\n",
       "      <td>Compressed:</td>\n",
       "      <td>No</td>\n",
       "      <td></td>\n",
       "    </tr>\n",
       "    <tr>\n",
       "      <th>25</th>\n",
       "      <td>Storage Desc Parameters:</td>\n",
       "      <td></td>\n",
       "      <td></td>\n",
       "    </tr>\n",
       "    <tr>\n",
       "      <th>26</th>\n",
       "      <td>serialization.format</td>\n",
       "      <td>1</td>\n",
       "      <td></td>\n",
       "    </tr>\n",
       "  </tbody>\n",
       "</table>\n",
       "</div>"
      ],
      "text/plain": [
       "                        col_name  \\\n",
       "0                       order_id   \n",
       "1                     order_date   \n",
       "2              order_customer_id   \n",
       "3                   order_status   \n",
       "4                                  \n",
       "5   # Detailed Table Information   \n",
       "6                      Database:   \n",
       "7                         Owner:   \n",
       "8                   Create Time:   \n",
       "9              Last Access Time:   \n",
       "10                     Location:   \n",
       "11                   Table Type:   \n",
       "12             Table Parameters:   \n",
       "13                   rawDataSize   \n",
       "14                      numFiles   \n",
       "15         transient_lastDdlTime   \n",
       "16                     totalSize   \n",
       "17         COLUMN_STATS_ACCURATE   \n",
       "18                       numRows   \n",
       "19                                 \n",
       "20         # Storage Information   \n",
       "21                SerDe Library:   \n",
       "22                  InputFormat:   \n",
       "23                 OutputFormat:   \n",
       "24                   Compressed:   \n",
       "25      Storage Desc Parameters:   \n",
       "26          serialization.format   \n",
       "\n",
       "                                            data_type comment  \n",
       "0                                                 int    None  \n",
       "1                                           timestamp    None  \n",
       "2                                                 int    None  \n",
       "3                                              string    None  \n",
       "4                                                              \n",
       "5                                                              \n",
       "6                                             default          \n",
       "7                                            cloudera          \n",
       "8                        Tue Oct 03 01:30:25 PDT 2017          \n",
       "9                        Wed Dec 31 16:00:00 PST 1969          \n",
       "10  hdfs://quickstart.cloudera:8020/user/hive/ware...          \n",
       "11                                            MANAGED          \n",
       "12                                                             \n",
       "13                                                 -1          \n",
       "14                                                  1          \n",
       "15                                         1507019425          \n",
       "16                                             487424          \n",
       "17                                              false          \n",
       "18                                                 -1          \n",
       "19                                                             \n",
       "20                                                             \n",
       "21  org.apache.hadoop.hive.ql.io.parquet.serde.Par...          \n",
       "22  org.apache.hadoop.hive.ql.io.parquet.MapredPar...          \n",
       "23  org.apache.hadoop.hive.ql.io.parquet.MapredPar...          \n",
       "24                                                 No          \n",
       "25                                                             \n",
       "26                                                  1          "
      ]
     },
     "execution_count": 42,
     "metadata": {},
     "output_type": "execute_result"
    }
   ],
   "source": [
    "sql(\"describe formatted orders\").toPandas()"
   ]
  },
  {
   "cell_type": "markdown",
   "metadata": {},
   "source": [
    "Drop the table from hive"
   ]
  },
  {
   "cell_type": "code",
   "execution_count": 43,
   "metadata": {},
   "outputs": [
    {
     "name": "stdout",
     "output_type": "stream",
     "text": [
      "++\n",
      "||\n",
      "++\n",
      "++\n",
      "\n"
     ]
    }
   ],
   "source": [
    "sql(\"drop table orders\").show()"
   ]
  },
  {
   "cell_type": "markdown",
   "metadata": {},
   "source": [
    "### Exercise 4: Use SFPD Dataset for the following tasks\n",
    "\n",
    "File: Map__Crime_Incidents_-_from_1_Jan_2003.csv\n",
    "\n",
    "Tasks:\n",
    "1. Create an dataframe with crime incident data.\n",
    "3. Show the first 10 values of an dataframe\n",
    "4. Check number of partitions of the dataframe\n",
    "5. Find the number of incident records in the dataframe\n",
    "6. Find the categories of incidents\n",
    "7. Find total number of categories\n",
    "8. What are the total number of incidents in each category\n",
    "9. Find out on which day each of incidents have occurred most. \n",
    "10. [Optional] Plot the frequency for each category of events\n",
    "11. Convert the data type of Date field to date type"
   ]
  },
  {
   "cell_type": "code",
   "execution_count": 44,
   "metadata": {},
   "outputs": [
    {
     "name": "stdout",
     "output_type": "stream",
     "text": [
      "root\n",
      " |-- IncidntNum: integer (nullable = true)\n",
      " |-- Category: string (nullable = true)\n",
      " |-- Descript: string (nullable = true)\n",
      " |-- DayOfWeek: string (nullable = true)\n",
      " |-- Date: string (nullable = true)\n",
      " |-- Time: string (nullable = true)\n",
      " |-- PdDistrict: string (nullable = true)\n",
      " |-- Resolution: string (nullable = true)\n",
      " |-- Address: string (nullable = true)\n",
      " |-- X: double (nullable = true)\n",
      " |-- Y: double (nullable = true)\n",
      " |-- Location: string (nullable = true)\n",
      "\n"
     ]
    }
   ],
   "source": [
    "sfpd = (spark\n",
    "        .read\n",
    "        .format(\"csv\")\n",
    "        .option(\"header\", True)\n",
    "        .option(\"inferSchema\", True)\n",
    "        .load(\"sfpd\")\n",
    "       )\n",
    "sfpd.printSchema()"
   ]
  },
  {
   "cell_type": "code",
   "execution_count": 45,
   "metadata": {},
   "outputs": [
    {
     "data": {
      "text/html": [
       "<div>\n",
       "<style>\n",
       "    .dataframe thead tr:only-child th {\n",
       "        text-align: right;\n",
       "    }\n",
       "\n",
       "    .dataframe thead th {\n",
       "        text-align: left;\n",
       "    }\n",
       "\n",
       "    .dataframe tbody tr th {\n",
       "        vertical-align: top;\n",
       "    }\n",
       "</style>\n",
       "<table border=\"1\" class=\"dataframe\">\n",
       "  <thead>\n",
       "    <tr style=\"text-align: right;\">\n",
       "      <th></th>\n",
       "      <th>IncidntNum</th>\n",
       "      <th>Category</th>\n",
       "      <th>Descript</th>\n",
       "      <th>DayOfWeek</th>\n",
       "      <th>Date</th>\n",
       "      <th>Time</th>\n",
       "      <th>PdDistrict</th>\n",
       "      <th>Resolution</th>\n",
       "      <th>Address</th>\n",
       "      <th>X</th>\n",
       "      <th>Y</th>\n",
       "      <th>Location</th>\n",
       "    </tr>\n",
       "  </thead>\n",
       "  <tbody>\n",
       "    <tr>\n",
       "      <th>0</th>\n",
       "      <td>50436712</td>\n",
       "      <td>ASSAULT</td>\n",
       "      <td>BATTERY</td>\n",
       "      <td>Wednesday</td>\n",
       "      <td>04/20/2005 12:00:00 AM</td>\n",
       "      <td>04:00</td>\n",
       "      <td>MISSION</td>\n",
       "      <td>NONE</td>\n",
       "      <td>18TH ST / CASTRO ST</td>\n",
       "      <td>-122.435003</td>\n",
       "      <td>37.760888</td>\n",
       "      <td>(37.7608878061245, -122.435002864271)</td>\n",
       "    </tr>\n",
       "    <tr>\n",
       "      <th>1</th>\n",
       "      <td>80049078</td>\n",
       "      <td>LARCENY/THEFT</td>\n",
       "      <td>GRAND THEFT FROM A BUILDING</td>\n",
       "      <td>Sunday</td>\n",
       "      <td>01/13/2008 12:00:00 AM</td>\n",
       "      <td>18:00</td>\n",
       "      <td>PARK</td>\n",
       "      <td>NONE</td>\n",
       "      <td>1100 Block of CLAYTON ST</td>\n",
       "      <td>-122.446838</td>\n",
       "      <td>37.762255</td>\n",
       "      <td>(37.7622550270122, -122.446837820235)</td>\n",
       "    </tr>\n",
       "    <tr>\n",
       "      <th>2</th>\n",
       "      <td>130366639</td>\n",
       "      <td>ASSAULT</td>\n",
       "      <td>AGGRAVATED ASSAULT WITH A KNIFE</td>\n",
       "      <td>Sunday</td>\n",
       "      <td>05/05/2013 12:00:00 AM</td>\n",
       "      <td>04:10</td>\n",
       "      <td>INGLESIDE</td>\n",
       "      <td>ARREST, BOOKED</td>\n",
       "      <td>0 Block of SGTJOHNVYOUNG LN</td>\n",
       "      <td>-122.444707</td>\n",
       "      <td>37.724931</td>\n",
       "      <td>(37.7249307267936, -122.444707063455)</td>\n",
       "    </tr>\n",
       "    <tr>\n",
       "      <th>3</th>\n",
       "      <td>30810835</td>\n",
       "      <td>DRIVING UNDER THE INFLUENCE</td>\n",
       "      <td>DRIVING WHILE UNDER THE INFLUENCE OF ALCOHOL</td>\n",
       "      <td>Tuesday</td>\n",
       "      <td>07/08/2003 12:00:00 AM</td>\n",
       "      <td>01:00</td>\n",
       "      <td>SOUTHERN</td>\n",
       "      <td>ARREST, BOOKED</td>\n",
       "      <td>MASON ST / TURK ST</td>\n",
       "      <td>-122.408954</td>\n",
       "      <td>37.783288</td>\n",
       "      <td>(37.7832878735491, -122.408953598286)</td>\n",
       "    </tr>\n",
       "    <tr>\n",
       "      <th>4</th>\n",
       "      <td>130839567</td>\n",
       "      <td>OTHER OFFENSES</td>\n",
       "      <td>TRAFFIC VIOLATION ARREST</td>\n",
       "      <td>Friday</td>\n",
       "      <td>10/04/2013 12:00:00 AM</td>\n",
       "      <td>20:53</td>\n",
       "      <td>TENDERLOIN</td>\n",
       "      <td>ARREST, BOOKED</td>\n",
       "      <td>TURK ST / LEAVENWORTH ST</td>\n",
       "      <td>-122.414056</td>\n",
       "      <td>37.782793</td>\n",
       "      <td>(37.7827931071006, -122.414056291891)</td>\n",
       "    </tr>\n",
       "  </tbody>\n",
       "</table>\n",
       "</div>"
      ],
      "text/plain": [
       "   IncidntNum                     Category  \\\n",
       "0    50436712                      ASSAULT   \n",
       "1    80049078                LARCENY/THEFT   \n",
       "2   130366639                      ASSAULT   \n",
       "3    30810835  DRIVING UNDER THE INFLUENCE   \n",
       "4   130839567               OTHER OFFENSES   \n",
       "\n",
       "                                       Descript  DayOfWeek  \\\n",
       "0                                       BATTERY  Wednesday   \n",
       "1                   GRAND THEFT FROM A BUILDING     Sunday   \n",
       "2               AGGRAVATED ASSAULT WITH A KNIFE     Sunday   \n",
       "3  DRIVING WHILE UNDER THE INFLUENCE OF ALCOHOL    Tuesday   \n",
       "4                      TRAFFIC VIOLATION ARREST     Friday   \n",
       "\n",
       "                     Date   Time  PdDistrict      Resolution  \\\n",
       "0  04/20/2005 12:00:00 AM  04:00     MISSION            NONE   \n",
       "1  01/13/2008 12:00:00 AM  18:00        PARK            NONE   \n",
       "2  05/05/2013 12:00:00 AM  04:10   INGLESIDE  ARREST, BOOKED   \n",
       "3  07/08/2003 12:00:00 AM  01:00    SOUTHERN  ARREST, BOOKED   \n",
       "4  10/04/2013 12:00:00 AM  20:53  TENDERLOIN  ARREST, BOOKED   \n",
       "\n",
       "                       Address           X          Y  \\\n",
       "0          18TH ST / CASTRO ST -122.435003  37.760888   \n",
       "1     1100 Block of CLAYTON ST -122.446838  37.762255   \n",
       "2  0 Block of SGTJOHNVYOUNG LN -122.444707  37.724931   \n",
       "3           MASON ST / TURK ST -122.408954  37.783288   \n",
       "4     TURK ST / LEAVENWORTH ST -122.414056  37.782793   \n",
       "\n",
       "                                Location  \n",
       "0  (37.7608878061245, -122.435002864271)  \n",
       "1  (37.7622550270122, -122.446837820235)  \n",
       "2  (37.7249307267936, -122.444707063455)  \n",
       "3  (37.7832878735491, -122.408953598286)  \n",
       "4  (37.7827931071006, -122.414056291891)  "
      ]
     },
     "execution_count": 45,
     "metadata": {},
     "output_type": "execute_result"
    }
   ],
   "source": [
    "sfpd.limit(5).toPandas()"
   ]
  },
  {
   "cell_type": "code",
   "execution_count": 46,
   "metadata": {},
   "outputs": [
    {
     "data": {
      "text/plain": [
       "3"
      ]
     },
     "execution_count": 46,
     "metadata": {},
     "output_type": "execute_result"
    }
   ],
   "source": [
    "sfpd.rdd.getNumPartitions()"
   ]
  },
  {
   "cell_type": "code",
   "execution_count": 47,
   "metadata": {},
   "outputs": [
    {
     "data": {
      "text/plain": [
       "pyspark.sql.types.Row"
      ]
     },
     "execution_count": 47,
     "metadata": {},
     "output_type": "execute_result"
    }
   ],
   "source": [
    "type(sfpd.first())"
   ]
  },
  {
   "cell_type": "code",
   "execution_count": 48,
   "metadata": {},
   "outputs": [
    {
     "name": "stdout",
     "output_type": "stream",
     "text": [
      "['FRAUD', 'SUICIDE', 'LIQUOR LAWS', 'SECONDARY CODES', 'FAMILY OFFENSES', 'MISSING PERSON', 'OTHER OFFENSES', 'DRIVING UNDER THE INFLUENCE', 'WARRANTS', 'ARSON', 'FORGERY/COUNTERFEITING', 'GAMBLING', 'BRIBERY', 'ASSAULT', 'DRUNKENNESS', 'EXTORTION', 'TREA', 'WEAPON LAWS', 'LOITERING', 'SUSPICIOUS OCC', 'ROBBERY', 'SEX OFFENSES, FORCIBLE', 'PROSTITUTION', 'EMBEZZLEMENT', 'BAD CHECKS', 'DISORDERLY CONDUCT', 'RUNAWAY', 'RECOVERED VEHICLE', 'VANDALISM', 'DRUG/NARCOTIC', 'PORNOGRAPHY/OBSCENE MAT', 'TRESPASS', 'NON-CRIMINAL', 'VEHICLE THEFT', 'STOLEN PROPERTY', 'LARCENY/THEFT', 'KIDNAPPING', 'BURGLARY', 'SEX OFFENSES, NON FORCIBLE']\n"
     ]
    }
   ],
   "source": [
    "categories = sfpd.select(\"Category\").distinct().rdd.map(lambda r: r.Category)\n",
    "print(categories.collect())"
   ]
  },
  {
   "cell_type": "code",
   "execution_count": 49,
   "metadata": {},
   "outputs": [
    {
     "data": {
      "text/plain": [
       "39"
      ]
     },
     "execution_count": 49,
     "metadata": {},
     "output_type": "execute_result"
    }
   ],
   "source": [
    "categories_count = categories.count()\n",
    "categories_count"
   ]
  },
  {
   "cell_type": "code",
   "execution_count": 50,
   "metadata": {},
   "outputs": [
    {
     "name": "stdout",
     "output_type": "stream",
     "text": [
      "+---------------------------+------+\n",
      "|Category                   |count |\n",
      "+---------------------------+------+\n",
      "|LARCENY/THEFT              |385774|\n",
      "|OTHER OFFENSES             |269250|\n",
      "|NON-CRIMINAL               |200942|\n",
      "|ASSAULT                    |165324|\n",
      "|VEHICLE THEFT              |114258|\n",
      "|DRUG/NARCOTIC              |111436|\n",
      "|VANDALISM                  |96350 |\n",
      "|WARRANTS                   |89782 |\n",
      "|BURGLARY                   |78968 |\n",
      "|SUSPICIOUS OCC             |67788 |\n",
      "|MISSING PERSON             |55584 |\n",
      "|ROBBERY                    |48713 |\n",
      "|FRAUD                      |36004 |\n",
      "|FORGERY/COUNTERFEITING     |21804 |\n",
      "|SECONDARY CODES            |21636 |\n",
      "|WEAPON LAWS                |18533 |\n",
      "|TRESPASS                   |15798 |\n",
      "|PROSTITUTION               |15657 |\n",
      "|STOLEN PROPERTY            |10096 |\n",
      "|SEX OFFENSES, FORCIBLE     |9541  |\n",
      "|DRUNKENNESS                |9032  |\n",
      "|DISORDERLY CONDUCT         |8992  |\n",
      "|RECOVERED VEHICLE          |6346  |\n",
      "|DRIVING UNDER THE INFLUENCE|4953  |\n",
      "|KIDNAPPING                 |4852  |\n",
      "|RUNAWAY                    |3998  |\n",
      "|LIQUOR LAWS                |3860  |\n",
      "|ARSON                      |3283  |\n",
      "|EMBEZZLEMENT               |2587  |\n",
      "|LOITERING                  |2357  |\n",
      "|SUICIDE                    |1131  |\n",
      "|FAMILY OFFENSES            |1082  |\n",
      "|BAD CHECKS                 |862   |\n",
      "|BRIBERY                    |673   |\n",
      "|EXTORTION                  |620   |\n",
      "|SEX OFFENSES, NON FORCIBLE |335   |\n",
      "|GAMBLING                   |309   |\n",
      "|PORNOGRAPHY/OBSCENE MAT    |47    |\n",
      "|TREA                       |10    |\n",
      "+---------------------------+------+\n",
      "\n"
     ]
    }
   ],
   "source": [
    "category_counts = sfpd.groupBy(\"Category\").count().orderBy(col(\"count\").desc())\n",
    "category_counts.show(categories_count, False)"
   ]
  },
  {
   "cell_type": "code",
   "execution_count": 51,
   "metadata": {},
   "outputs": [
    {
     "data": {
      "text/plain": [
       "<matplotlib.axes._subplots.AxesSubplot at 0x7ffbb4203908>"
      ]
     },
     "execution_count": 51,
     "metadata": {},
     "output_type": "execute_result"
    },
    {
     "data": {
      "image/png": "[encoded data removed]",
      "text/plain": [
       "<matplotlib.figure.Figure at 0x7ffbb41f6be0>"
      ]
     },
     "metadata": {},
     "output_type": "display_data"
    }
   ],
   "source": [
    "category_counts.toPandas().set_index(\"Category\").plot.barh(figsize = (10, 15))"
   ]
  },
  {
   "cell_type": "code",
   "execution_count": 52,
   "metadata": {},
   "outputs": [
    {
     "name": "stdout",
     "output_type": "stream",
     "text": [
      "+----------------------+\n",
      "|date                  |\n",
      "+----------------------+\n",
      "|04/20/2005 12:00:00 AM|\n",
      "|01/13/2008 12:00:00 AM|\n",
      "|05/05/2013 12:00:00 AM|\n",
      "|07/08/2003 12:00:00 AM|\n",
      "|10/04/2013 12:00:00 AM|\n",
      "|08/14/2007 12:00:00 AM|\n",
      "|03/04/2008 12:00:00 AM|\n",
      "|07/05/2006 12:00:00 AM|\n",
      "|12/10/2003 12:00:00 AM|\n",
      "|01/17/2011 12:00:00 AM|\n",
      "+----------------------+\n",
      "only showing top 10 rows\n",
      "\n"
     ]
    }
   ],
   "source": [
    "sfpd.select(\"date\").show(10, False)"
   ]
  },
  {
   "cell_type": "code",
   "execution_count": 53,
   "metadata": {},
   "outputs": [
    {
     "data": {
      "text/plain": [
       "datetime.date(2005, 4, 20)"
      ]
     },
     "execution_count": 53,
     "metadata": {},
     "output_type": "execute_result"
    }
   ],
   "source": [
    "from datetime import datetime\n",
    "s = \"04/20/2005 12:00:00 AM\"\n",
    "d = datetime.strptime(s[:10], \"%m/%d/%Y\").date()\n",
    "d"
   ]
  },
  {
   "cell_type": "code",
   "execution_count": 54,
   "metadata": {},
   "outputs": [
    {
     "data": {
      "text/plain": [
       "datetime.date(2005, 4, 20)"
      ]
     },
     "execution_count": 54,
     "metadata": {},
     "output_type": "execute_result"
    }
   ],
   "source": [
    "from datetime import datetime\n",
    "def parse_date(s):\n",
    "    return datetime.strptime(s[:10], \"%m/%d/%Y\").date()\n",
    "\n",
    "parse_date(\"04/20/2005 12:00:00 AM\")"
   ]
  },
  {
   "cell_type": "code",
   "execution_count": 55,
   "metadata": {
    "collapsed": true
   },
   "outputs": [],
   "source": [
    "from pyspark.sql.types import DateType\n",
    "spark.udf.register(\"parse_date\", parse_date, DateType())"
   ]
  },
  {
   "cell_type": "code",
   "execution_count": 56,
   "metadata": {
    "scrolled": true
   },
   "outputs": [
    {
     "name": "stdout",
     "output_type": "stream",
     "text": [
      "+----------------------+----------------+\n",
      "|date                  |parse_date(date)|\n",
      "+----------------------+----------------+\n",
      "|04/20/2005 12:00:00 AM|2005-04-20      |\n",
      "|01/13/2008 12:00:00 AM|2008-01-13      |\n",
      "|05/05/2013 12:00:00 AM|2013-05-05      |\n",
      "|07/08/2003 12:00:00 AM|2003-07-08      |\n",
      "|10/04/2013 12:00:00 AM|2013-10-04      |\n",
      "|08/14/2007 12:00:00 AM|2007-08-14      |\n",
      "|03/04/2008 12:00:00 AM|2008-03-04      |\n",
      "|07/05/2006 12:00:00 AM|2006-07-05      |\n",
      "|12/10/2003 12:00:00 AM|2003-12-10      |\n",
      "|01/17/2011 12:00:00 AM|2011-01-17      |\n",
      "+----------------------+----------------+\n",
      "only showing top 10 rows\n",
      "\n"
     ]
    }
   ],
   "source": [
    "sfpd.select(expr(\"date\"), expr(\"parse_date(`date`)\")).show(10, False)"
   ]
  },
  {
   "cell_type": "code",
   "execution_count": 57,
   "metadata": {
    "scrolled": false
   },
   "outputs": [
    {
     "data": {
      "text/html": [
       "<div>\n",
       "<style>\n",
       "    .dataframe thead tr:only-child th {\n",
       "        text-align: right;\n",
       "    }\n",
       "\n",
       "    .dataframe thead th {\n",
       "        text-align: left;\n",
       "    }\n",
       "\n",
       "    .dataframe tbody tr th {\n",
       "        vertical-align: top;\n",
       "    }\n",
       "</style>\n",
       "<table border=\"1\" class=\"dataframe\">\n",
       "  <thead>\n",
       "    <tr style=\"text-align: right;\">\n",
       "      <th></th>\n",
       "      <th>IncidntNum</th>\n",
       "      <th>Category</th>\n",
       "      <th>Descript</th>\n",
       "      <th>DayOfWeek</th>\n",
       "      <th>date</th>\n",
       "      <th>Time</th>\n",
       "      <th>PdDistrict</th>\n",
       "      <th>Resolution</th>\n",
       "      <th>Address</th>\n",
       "      <th>X</th>\n",
       "      <th>Y</th>\n",
       "      <th>Location</th>\n",
       "    </tr>\n",
       "  </thead>\n",
       "  <tbody>\n",
       "    <tr>\n",
       "      <th>0</th>\n",
       "      <td>50436712</td>\n",
       "      <td>ASSAULT</td>\n",
       "      <td>BATTERY</td>\n",
       "      <td>Wednesday</td>\n",
       "      <td>2005-04-20</td>\n",
       "      <td>04:00</td>\n",
       "      <td>MISSION</td>\n",
       "      <td>NONE</td>\n",
       "      <td>18TH ST / CASTRO ST</td>\n",
       "      <td>-122.435003</td>\n",
       "      <td>37.760888</td>\n",
       "      <td>(37.7608878061245, -122.435002864271)</td>\n",
       "    </tr>\n",
       "    <tr>\n",
       "      <th>1</th>\n",
       "      <td>80049078</td>\n",
       "      <td>LARCENY/THEFT</td>\n",
       "      <td>GRAND THEFT FROM A BUILDING</td>\n",
       "      <td>Sunday</td>\n",
       "      <td>2008-01-13</td>\n",
       "      <td>18:00</td>\n",
       "      <td>PARK</td>\n",
       "      <td>NONE</td>\n",
       "      <td>1100 Block of CLAYTON ST</td>\n",
       "      <td>-122.446838</td>\n",
       "      <td>37.762255</td>\n",
       "      <td>(37.7622550270122, -122.446837820235)</td>\n",
       "    </tr>\n",
       "    <tr>\n",
       "      <th>2</th>\n",
       "      <td>130366639</td>\n",
       "      <td>ASSAULT</td>\n",
       "      <td>AGGRAVATED ASSAULT WITH A KNIFE</td>\n",
       "      <td>Sunday</td>\n",
       "      <td>2013-05-05</td>\n",
       "      <td>04:10</td>\n",
       "      <td>INGLESIDE</td>\n",
       "      <td>ARREST, BOOKED</td>\n",
       "      <td>0 Block of SGTJOHNVYOUNG LN</td>\n",
       "      <td>-122.444707</td>\n",
       "      <td>37.724931</td>\n",
       "      <td>(37.7249307267936, -122.444707063455)</td>\n",
       "    </tr>\n",
       "    <tr>\n",
       "      <th>3</th>\n",
       "      <td>30810835</td>\n",
       "      <td>DRIVING UNDER THE INFLUENCE</td>\n",
       "      <td>DRIVING WHILE UNDER THE INFLUENCE OF ALCOHOL</td>\n",
       "      <td>Tuesday</td>\n",
       "      <td>2003-07-08</td>\n",
       "      <td>01:00</td>\n",
       "      <td>SOUTHERN</td>\n",
       "      <td>ARREST, BOOKED</td>\n",
       "      <td>MASON ST / TURK ST</td>\n",
       "      <td>-122.408954</td>\n",
       "      <td>37.783288</td>\n",
       "      <td>(37.7832878735491, -122.408953598286)</td>\n",
       "    </tr>\n",
       "    <tr>\n",
       "      <th>4</th>\n",
       "      <td>130839567</td>\n",
       "      <td>OTHER OFFENSES</td>\n",
       "      <td>TRAFFIC VIOLATION ARREST</td>\n",
       "      <td>Friday</td>\n",
       "      <td>2013-10-04</td>\n",
       "      <td>20:53</td>\n",
       "      <td>TENDERLOIN</td>\n",
       "      <td>ARREST, BOOKED</td>\n",
       "      <td>TURK ST / LEAVENWORTH ST</td>\n",
       "      <td>-122.414056</td>\n",
       "      <td>37.782793</td>\n",
       "      <td>(37.7827931071006, -122.414056291891)</td>\n",
       "    </tr>\n",
       "    <tr>\n",
       "      <th>5</th>\n",
       "      <td>70838580</td>\n",
       "      <td>BURGLARY</td>\n",
       "      <td>BURGLARY OF APARTMENT HOUSE, UNLAWFUL ENTRY</td>\n",
       "      <td>Tuesday</td>\n",
       "      <td>2007-08-14</td>\n",
       "      <td>07:00</td>\n",
       "      <td>NORTHERN</td>\n",
       "      <td>NONE</td>\n",
       "      <td>3100 Block of FRANKLIN ST</td>\n",
       "      <td>-122.426731</td>\n",
       "      <td>37.803467</td>\n",
       "      <td>(37.8034674969672, -122.426730544229)</td>\n",
       "    </tr>\n",
       "    <tr>\n",
       "      <th>6</th>\n",
       "      <td>80233102</td>\n",
       "      <td>DRUG/NARCOTIC</td>\n",
       "      <td>POSSESSION OF MARIJUANA</td>\n",
       "      <td>Tuesday</td>\n",
       "      <td>2008-03-04</td>\n",
       "      <td>14:23</td>\n",
       "      <td>INGLESIDE</td>\n",
       "      <td>ARREST, CITED</td>\n",
       "      <td>MISSION ST / PERSIA AV</td>\n",
       "      <td>-122.435977</td>\n",
       "      <td>37.723129</td>\n",
       "      <td>(37.7231288306727, -122.43597721703)</td>\n",
       "    </tr>\n",
       "    <tr>\n",
       "      <th>7</th>\n",
       "      <td>60711805</td>\n",
       "      <td>OTHER OFFENSES</td>\n",
       "      <td>DRIVERS LICENSE, SUSPENDED OR REVOKED</td>\n",
       "      <td>Wednesday</td>\n",
       "      <td>2006-07-05</td>\n",
       "      <td>15:50</td>\n",
       "      <td>INGLESIDE</td>\n",
       "      <td>ARREST, CITED</td>\n",
       "      <td>2300 Block of SAN JOSE AV</td>\n",
       "      <td>-122.447241</td>\n",
       "      <td>37.720158</td>\n",
       "      <td>(37.7201577971255, -122.447241159611)</td>\n",
       "    </tr>\n",
       "    <tr>\n",
       "      <th>8</th>\n",
       "      <td>40062593</td>\n",
       "      <td>LARCENY/THEFT</td>\n",
       "      <td>GRAND THEFT FROM A BUILDING</td>\n",
       "      <td>Wednesday</td>\n",
       "      <td>2003-12-10</td>\n",
       "      <td>09:30</td>\n",
       "      <td>INGLESIDE</td>\n",
       "      <td>NONE</td>\n",
       "      <td>0 Block of MOFFITT ST</td>\n",
       "      <td>-122.432788</td>\n",
       "      <td>37.737157</td>\n",
       "      <td>(37.7371566745272, -122.432787775164)</td>\n",
       "    </tr>\n",
       "    <tr>\n",
       "      <th>9</th>\n",
       "      <td>110051822</td>\n",
       "      <td>NON-CRIMINAL</td>\n",
       "      <td>STAY AWAY OR COURT ORDER, NON-DV RELATED</td>\n",
       "      <td>Monday</td>\n",
       "      <td>2011-01-17</td>\n",
       "      <td>15:35</td>\n",
       "      <td>INGLESIDE</td>\n",
       "      <td>NONE</td>\n",
       "      <td>600 Block of CAMPBELL AV</td>\n",
       "      <td>-122.408761</td>\n",
       "      <td>37.715900</td>\n",
       "      <td>(37.7159000951041, -122.408761072232)</td>\n",
       "    </tr>\n",
       "  </tbody>\n",
       "</table>\n",
       "</div>"
      ],
      "text/plain": [
       "   IncidntNum                     Category  \\\n",
       "0    50436712                      ASSAULT   \n",
       "1    80049078                LARCENY/THEFT   \n",
       "2   130366639                      ASSAULT   \n",
       "3    30810835  DRIVING UNDER THE INFLUENCE   \n",
       "4   130839567               OTHER OFFENSES   \n",
       "5    70838580                     BURGLARY   \n",
       "6    80233102                DRUG/NARCOTIC   \n",
       "7    60711805               OTHER OFFENSES   \n",
       "8    40062593                LARCENY/THEFT   \n",
       "9   110051822                 NON-CRIMINAL   \n",
       "\n",
       "                                       Descript  DayOfWeek        date   Time  \\\n",
       "0                                       BATTERY  Wednesday  2005-04-20  04:00   \n",
       "1                   GRAND THEFT FROM A BUILDING     Sunday  2008-01-13  18:00   \n",
       "2               AGGRAVATED ASSAULT WITH A KNIFE     Sunday  2013-05-05  04:10   \n",
       "3  DRIVING WHILE UNDER THE INFLUENCE OF ALCOHOL    Tuesday  2003-07-08  01:00   \n",
       "4                      TRAFFIC VIOLATION ARREST     Friday  2013-10-04  20:53   \n",
       "5   BURGLARY OF APARTMENT HOUSE, UNLAWFUL ENTRY    Tuesday  2007-08-14  07:00   \n",
       "6                       POSSESSION OF MARIJUANA    Tuesday  2008-03-04  14:23   \n",
       "7         DRIVERS LICENSE, SUSPENDED OR REVOKED  Wednesday  2006-07-05  15:50   \n",
       "8                   GRAND THEFT FROM A BUILDING  Wednesday  2003-12-10  09:30   \n",
       "9      STAY AWAY OR COURT ORDER, NON-DV RELATED     Monday  2011-01-17  15:35   \n",
       "\n",
       "   PdDistrict      Resolution                      Address           X  \\\n",
       "0     MISSION            NONE          18TH ST / CASTRO ST -122.435003   \n",
       "1        PARK            NONE     1100 Block of CLAYTON ST -122.446838   \n",
       "2   INGLESIDE  ARREST, BOOKED  0 Block of SGTJOHNVYOUNG LN -122.444707   \n",
       "3    SOUTHERN  ARREST, BOOKED           MASON ST / TURK ST -122.408954   \n",
       "4  TENDERLOIN  ARREST, BOOKED     TURK ST / LEAVENWORTH ST -122.414056   \n",
       "5    NORTHERN            NONE    3100 Block of FRANKLIN ST -122.426731   \n",
       "6   INGLESIDE   ARREST, CITED       MISSION ST / PERSIA AV -122.435977   \n",
       "7   INGLESIDE   ARREST, CITED    2300 Block of SAN JOSE AV -122.447241   \n",
       "8   INGLESIDE            NONE        0 Block of MOFFITT ST -122.432788   \n",
       "9   INGLESIDE            NONE     600 Block of CAMPBELL AV -122.408761   \n",
       "\n",
       "           Y                               Location  \n",
       "0  37.760888  (37.7608878061245, -122.435002864271)  \n",
       "1  37.762255  (37.7622550270122, -122.446837820235)  \n",
       "2  37.724931  (37.7249307267936, -122.444707063455)  \n",
       "3  37.783288  (37.7832878735491, -122.408953598286)  \n",
       "4  37.782793  (37.7827931071006, -122.414056291891)  \n",
       "5  37.803467  (37.8034674969672, -122.426730544229)  \n",
       "6  37.723129   (37.7231288306727, -122.43597721703)  \n",
       "7  37.720158  (37.7201577971255, -122.447241159611)  \n",
       "8  37.737157  (37.7371566745272, -122.432787775164)  \n",
       "9  37.715900  (37.7159000951041, -122.408761072232)  "
      ]
     },
     "execution_count": 57,
     "metadata": {},
     "output_type": "execute_result"
    }
   ],
   "source": [
    "sfpd_clean = sfpd.withColumn(\"date\", expr(\"parse_date(date)\"))\n",
    "sfpd_clean.limit(10).toPandas()"
   ]
  },
  {
   "cell_type": "markdown",
   "metadata": {
    "collapsed": true
   },
   "source": [
    "### Exercise 5: This exercise is to explore data partitioning for file. Data partitions are  different from RDD partitions. For this exercise use weblogs dataset.\n",
    "\n",
    "1. Create a hive table - weblgos using weblogs dataset. Follow the steps mention in this doc. http://blog.einext.com/hadoop/hive-table-using-regex-serde\n",
    "2. Create a dataframe in Spark that refers to Hive table weblogs.\n",
    "3. Find total number of rows. \n",
    "4. Parse the time column as date time\n",
    "5. Save the weblogs data with partitioned by year and month based on the time field that you parsed in step #4\n",
    "6. Reload the partitioned dataset and verify the number of record maches with the original."
   ]
  },
  {
   "cell_type": "markdown",
   "metadata": {},
   "source": [
    "Create a dataframe in Spark that refers to Hive table weblogs."
   ]
  },
  {
   "cell_type": "code",
   "execution_count": 58,
   "metadata": {},
   "outputs": [
    {
     "name": "stdout",
     "output_type": "stream",
     "text": [
      "+--------+---------+-----------+\n",
      "|database|tableName|isTemporary|\n",
      "+--------+---------+-----------+\n",
      "| default|  weblogs|      false|\n",
      "|        |   movies|       true|\n",
      "|        |  ratings|       true|\n",
      "|        |   stocks|       true|\n",
      "+--------+---------+-----------+\n",
      "\n"
     ]
    }
   ],
   "source": [
    "sql(\"show tables\").show()"
   ]
  },
  {
   "cell_type": "code",
   "execution_count": 59,
   "metadata": {},
   "outputs": [
    {
     "data": {
      "text/html": [
       "<div>\n",
       "<style>\n",
       "    .dataframe thead tr:only-child th {\n",
       "        text-align: right;\n",
       "    }\n",
       "\n",
       "    .dataframe thead th {\n",
       "        text-align: left;\n",
       "    }\n",
       "\n",
       "    .dataframe tbody tr th {\n",
       "        vertical-align: top;\n",
       "    }\n",
       "</style>\n",
       "<table border=\"1\" class=\"dataframe\">\n",
       "  <thead>\n",
       "    <tr style=\"text-align: right;\">\n",
       "      <th></th>\n",
       "      <th>host</th>\n",
       "      <th>identity</th>\n",
       "      <th>user</th>\n",
       "      <th>time</th>\n",
       "      <th>request</th>\n",
       "      <th>status</th>\n",
       "      <th>size</th>\n",
       "      <th>referrer</th>\n",
       "      <th>useragent</th>\n",
       "    </tr>\n",
       "  </thead>\n",
       "  <tbody>\n",
       "    <tr>\n",
       "      <th>0</th>\n",
       "      <td>66.249.67.3</td>\n",
       "      <td>-</td>\n",
       "      <td>-</td>\n",
       "      <td>[20/Jul/2009:20:12:22 -0700]</td>\n",
       "      <td>GET /gallery/main.php?g2_controller=exif.Switc...</td>\n",
       "      <td>302</td>\n",
       "      <td>5</td>\n",
       "      <td>-</td>\n",
       "      <td>Mozilla/5.0 (compatible; Googlebot/2.1; +http:...</td>\n",
       "    </tr>\n",
       "    <tr>\n",
       "      <th>1</th>\n",
       "      <td>66.249.67.3</td>\n",
       "      <td>-</td>\n",
       "      <td>-</td>\n",
       "      <td>[20/Jul/2009:20:12:25 -0700]</td>\n",
       "      <td>GET /gallery/main.php?g2_itemId=15741&amp;g2_fromN...</td>\n",
       "      <td>200</td>\n",
       "      <td>8068</td>\n",
       "      <td>-</td>\n",
       "      <td>Mozilla/5.0 (compatible; Googlebot/2.1; +http:...</td>\n",
       "    </tr>\n",
       "    <tr>\n",
       "      <th>2</th>\n",
       "      <td>64.233.172.17</td>\n",
       "      <td>-</td>\n",
       "      <td>-</td>\n",
       "      <td>[20/Jul/2009:20:12:26 -0700]</td>\n",
       "      <td>GET /gwidgets/alexa.xml HTTP/1.1</td>\n",
       "      <td>200</td>\n",
       "      <td>2969</td>\n",
       "      <td>-</td>\n",
       "      <td>Mozilla/5.0 (compatible) Feedfetcher-Google; (...</td>\n",
       "    </tr>\n",
       "    <tr>\n",
       "      <th>3</th>\n",
       "      <td>74.125.74.193</td>\n",
       "      <td>-</td>\n",
       "      <td>-</td>\n",
       "      <td>[20/Jul/2009:20:13:01 -0700]</td>\n",
       "      <td>GET /gwidgets/alexa.xml HTTP/1.1</td>\n",
       "      <td>200</td>\n",
       "      <td>2969</td>\n",
       "      <td>-</td>\n",
       "      <td>Mozilla/5.0 (compatible) Feedfetcher-Google; (...</td>\n",
       "    </tr>\n",
       "    <tr>\n",
       "      <th>4</th>\n",
       "      <td>192.168.1.198</td>\n",
       "      <td>-</td>\n",
       "      <td>-</td>\n",
       "      <td>[20/Jul/2009:20:13:18 -0700]</td>\n",
       "      <td>GET / HTTP/1.1</td>\n",
       "      <td>200</td>\n",
       "      <td>17935</td>\n",
       "      <td>-</td>\n",
       "      <td>Mozilla/5.0 (Macintosh; U; Intel Mac OS X 10_5...</td>\n",
       "    </tr>\n",
       "    <tr>\n",
       "      <th>5</th>\n",
       "      <td>192.168.1.198</td>\n",
       "      <td>-</td>\n",
       "      <td>-</td>\n",
       "      <td>[20/Jul/2009:20:13:18 -0700]</td>\n",
       "      <td>GET /style.css HTTP/1.1</td>\n",
       "      <td>200</td>\n",
       "      <td>1504</td>\n",
       "      <td>http://example.org/</td>\n",
       "      <td>Mozilla/5.0 (Macintosh; U; Intel Mac OS X 10_5...</td>\n",
       "    </tr>\n",
       "    <tr>\n",
       "      <th>6</th>\n",
       "      <td>192.168.1.198</td>\n",
       "      <td>-</td>\n",
       "      <td>-</td>\n",
       "      <td>[20/Jul/2009:20:13:19 -0700]</td>\n",
       "      <td>GET /favicon.ico HTTP/1.1</td>\n",
       "      <td>404</td>\n",
       "      <td>146</td>\n",
       "      <td>http://example.org/</td>\n",
       "      <td>Mozilla/5.0 (Macintosh; U; Intel Mac OS X 10_5...</td>\n",
       "    </tr>\n",
       "    <tr>\n",
       "      <th>7</th>\n",
       "      <td>66.249.67.3</td>\n",
       "      <td>-</td>\n",
       "      <td>-</td>\n",
       "      <td>[20/Jul/2009:20:13:21 -0700]</td>\n",
       "      <td>GET /gallery/main.php?g2_controller=exif.Switc...</td>\n",
       "      <td>302</td>\n",
       "      <td>5</td>\n",
       "      <td>-</td>\n",
       "      <td>Mozilla/5.0 (compatible; Googlebot/2.1; +http:...</td>\n",
       "    </tr>\n",
       "    <tr>\n",
       "      <th>8</th>\n",
       "      <td>66.249.67.3</td>\n",
       "      <td>-</td>\n",
       "      <td>-</td>\n",
       "      <td>[20/Jul/2009:20:13:24 -0700]</td>\n",
       "      <td>GET /gallery/main.php?g2_itemId=30893&amp;g2_fromN...</td>\n",
       "      <td>200</td>\n",
       "      <td>8196</td>\n",
       "      <td>-</td>\n",
       "      <td>Mozilla/5.0 (compatible; Googlebot/2.1; +http:...</td>\n",
       "    </tr>\n",
       "    <tr>\n",
       "      <th>9</th>\n",
       "      <td>66.249.67.3</td>\n",
       "      <td>-</td>\n",
       "      <td>-</td>\n",
       "      <td>[20/Jul/2009:20:13:29 -0700]</td>\n",
       "      <td>GET /gallery/main.php?g2_view=search.SearchSca...</td>\n",
       "      <td>200</td>\n",
       "      <td>6360</td>\n",
       "      <td>-</td>\n",
       "      <td>Mozilla/5.0 (compatible; Googlebot/2.1; +http:...</td>\n",
       "    </tr>\n",
       "  </tbody>\n",
       "</table>\n",
       "</div>"
      ],
      "text/plain": [
       "            host identity user                          time  \\\n",
       "0    66.249.67.3        -    -  [20/Jul/2009:20:12:22 -0700]   \n",
       "1    66.249.67.3        -    -  [20/Jul/2009:20:12:25 -0700]   \n",
       "2  64.233.172.17        -    -  [20/Jul/2009:20:12:26 -0700]   \n",
       "3  74.125.74.193        -    -  [20/Jul/2009:20:13:01 -0700]   \n",
       "4  192.168.1.198        -    -  [20/Jul/2009:20:13:18 -0700]   \n",
       "5  192.168.1.198        -    -  [20/Jul/2009:20:13:18 -0700]   \n",
       "6  192.168.1.198        -    -  [20/Jul/2009:20:13:19 -0700]   \n",
       "7    66.249.67.3        -    -  [20/Jul/2009:20:13:21 -0700]   \n",
       "8    66.249.67.3        -    -  [20/Jul/2009:20:13:24 -0700]   \n",
       "9    66.249.67.3        -    -  [20/Jul/2009:20:13:29 -0700]   \n",
       "\n",
       "                                             request status   size  \\\n",
       "0  GET /gallery/main.php?g2_controller=exif.Switc...    302      5   \n",
       "1  GET /gallery/main.php?g2_itemId=15741&g2_fromN...    200   8068   \n",
       "2                   GET /gwidgets/alexa.xml HTTP/1.1    200   2969   \n",
       "3                   GET /gwidgets/alexa.xml HTTP/1.1    200   2969   \n",
       "4                                     GET / HTTP/1.1    200  17935   \n",
       "5                            GET /style.css HTTP/1.1    200   1504   \n",
       "6                          GET /favicon.ico HTTP/1.1    404    146   \n",
       "7  GET /gallery/main.php?g2_controller=exif.Switc...    302      5   \n",
       "8  GET /gallery/main.php?g2_itemId=30893&g2_fromN...    200   8196   \n",
       "9  GET /gallery/main.php?g2_view=search.SearchSca...    200   6360   \n",
       "\n",
       "              referrer                                          useragent  \n",
       "0                    -  Mozilla/5.0 (compatible; Googlebot/2.1; +http:...  \n",
       "1                    -  Mozilla/5.0 (compatible; Googlebot/2.1; +http:...  \n",
       "2                    -  Mozilla/5.0 (compatible) Feedfetcher-Google; (...  \n",
       "3                    -  Mozilla/5.0 (compatible) Feedfetcher-Google; (...  \n",
       "4                    -  Mozilla/5.0 (Macintosh; U; Intel Mac OS X 10_5...  \n",
       "5  http://example.org/  Mozilla/5.0 (Macintosh; U; Intel Mac OS X 10_5...  \n",
       "6  http://example.org/  Mozilla/5.0 (Macintosh; U; Intel Mac OS X 10_5...  \n",
       "7                    -  Mozilla/5.0 (compatible; Googlebot/2.1; +http:...  \n",
       "8                    -  Mozilla/5.0 (compatible; Googlebot/2.1; +http:...  \n",
       "9                    -  Mozilla/5.0 (compatible; Googlebot/2.1; +http:...  "
      ]
     },
     "execution_count": 59,
     "metadata": {},
     "output_type": "execute_result"
    }
   ],
   "source": [
    "weblogs = spark.table(\"weblogs\")\n",
    "weblogs.limit(10).toPandas()"
   ]
  },
  {
   "cell_type": "markdown",
   "metadata": {},
   "source": [
    "Find total number of rows."
   ]
  },
  {
   "cell_type": "code",
   "execution_count": 60,
   "metadata": {},
   "outputs": [
    {
     "data": {
      "text/plain": [
       "239303"
      ]
     },
     "execution_count": 60,
     "metadata": {},
     "output_type": "execute_result"
    }
   ],
   "source": [
    "weblogs.count()"
   ]
  },
  {
   "cell_type": "markdown",
   "metadata": {},
   "source": [
    "Parse the time column as date time"
   ]
  },
  {
   "cell_type": "code",
   "execution_count": 61,
   "metadata": {
    "scrolled": false
   },
   "outputs": [
    {
     "name": "stdout",
     "output_type": "stream",
     "text": [
      "+----------------------------+-------------------+\n",
      "|time                        |time_clean         |\n",
      "+----------------------------+-------------------+\n",
      "|[20/Jul/2009:20:12:22 -0700]|2009-07-20 20:12:22|\n",
      "|[20/Jul/2009:20:12:25 -0700]|2009-07-20 20:12:25|\n",
      "|[20/Jul/2009:20:12:26 -0700]|2009-07-20 20:12:26|\n",
      "|[20/Jul/2009:20:13:01 -0700]|2009-07-20 20:13:01|\n",
      "|[20/Jul/2009:20:13:18 -0700]|2009-07-20 20:13:18|\n",
      "|[20/Jul/2009:20:13:18 -0700]|2009-07-20 20:13:18|\n",
      "|[20/Jul/2009:20:13:19 -0700]|2009-07-20 20:13:19|\n",
      "|[20/Jul/2009:20:13:21 -0700]|2009-07-20 20:13:21|\n",
      "|[20/Jul/2009:20:13:24 -0700]|2009-07-20 20:13:24|\n",
      "|[20/Jul/2009:20:13:29 -0700]|2009-07-20 20:13:29|\n",
      "+----------------------------+-------------------+\n",
      "only showing top 10 rows\n",
      "\n"
     ]
    }
   ],
   "source": [
    "weblogs_clean = weblogs.withColumn(\"time_clean\", expr(r\"from_unixtime(UNIX_TIMESTAMP(TIME, '[dd/MMM/yyyy:HH:mm:ss Z]'))\"))\n",
    "weblogs_clean.select(\"time\", \"time_clean\").show(10, False)"
   ]
  },
  {
   "cell_type": "markdown",
   "metadata": {},
   "source": [
    "Save the weblogs data with partitioned by year and month based on the time field that you parsed in previous step"
   ]
  },
  {
   "cell_type": "code",
   "execution_count": 62,
   "metadata": {},
   "outputs": [],
   "source": [
    "(weblogs_clean\n",
    ".withColumn(\"year\", expr(\"year(time_clean)\"))\n",
    ".withColumn(\"month\", expr(\"month(time_clean)\"))\n",
    ".write\n",
    ".mode(\"overwrite\")\n",
    ".partitionBy(\"year\", \"month\")\n",
    ".save(\"weblogs-partitioned\"))"
   ]
  },
  {
   "cell_type": "markdown",
   "metadata": {},
   "source": [
    "Reload the partitioned dataset and verify the number of record maches with the original."
   ]
  },
  {
   "cell_type": "code",
   "execution_count": 63,
   "metadata": {},
   "outputs": [
    {
     "name": "stdout",
     "output_type": "stream",
     "text": [
      "root\n",
      " |-- host: string (nullable = true)\n",
      " |-- identity: string (nullable = true)\n",
      " |-- user: string (nullable = true)\n",
      " |-- time: string (nullable = true)\n",
      " |-- request: string (nullable = true)\n",
      " |-- status: string (nullable = true)\n",
      " |-- size: string (nullable = true)\n",
      " |-- referrer: string (nullable = true)\n",
      " |-- useragent: string (nullable = true)\n",
      " |-- time_clean: string (nullable = true)\n",
      " |-- year: integer (nullable = true)\n",
      " |-- month: integer (nullable = true)\n",
      "\n"
     ]
    }
   ],
   "source": [
    "weblogs_partitioned = spark.read.load(\"weblogs-partitioned\")\n",
    "weblogs_partitioned.printSchema()"
   ]
  },
  {
   "cell_type": "code",
   "execution_count": 64,
   "metadata": {},
   "outputs": [
    {
     "data": {
      "text/plain": [
       "239303"
      ]
     },
     "execution_count": 64,
     "metadata": {},
     "output_type": "execute_result"
    }
   ],
   "source": [
    "weblogs_partitioned.count()"
   ]
  },
  {
   "cell_type": "markdown",
   "metadata": {},
   "source": [
    "### Exercise 6: Convert RDD to Dataframe"
   ]
  },
  {
   "cell_type": "code",
   "execution_count": 65,
   "metadata": {
    "collapsed": true
   },
   "outputs": [],
   "source": [
    "from random import random"
   ]
  },
  {
   "cell_type": "code",
   "execution_count": 66,
   "metadata": {},
   "outputs": [
    {
     "data": {
      "text/plain": [
       "[0.1305686120889875,\n",
       " 0.40527061388981755,\n",
       " 0.5466773154504839,\n",
       " 0.6395714980740038,\n",
       " 0.25420618324279376,\n",
       " 0.310695448574941,\n",
       " 0.04790798546764641,\n",
       " 0.2502686597935274,\n",
       " 0.8059595509745402,\n",
       " 0.056584247951413036]"
      ]
     },
     "execution_count": 66,
     "metadata": {},
     "output_type": "execute_result"
    }
   ],
   "source": [
    "rdd = sc.parallelize([random() for _ in range(10)])\n",
    "rdd.collect()"
   ]
  },
  {
   "cell_type": "code",
   "execution_count": 67,
   "metadata": {},
   "outputs": [
    {
     "name": "stdout",
     "output_type": "stream",
     "text": [
      "+--------------------+\n",
      "|                col1|\n",
      "+--------------------+\n",
      "|  0.1305686120889875|\n",
      "| 0.40527061388981755|\n",
      "|  0.5466773154504839|\n",
      "|  0.6395714980740038|\n",
      "| 0.25420618324279376|\n",
      "|   0.310695448574941|\n",
      "| 0.04790798546764641|\n",
      "|  0.2502686597935274|\n",
      "|  0.8059595509745402|\n",
      "|0.056584247951413036|\n",
      "+--------------------+\n",
      "\n"
     ]
    }
   ],
   "source": [
    "from pyspark.sql import Row\n",
    "rddRow = rdd.map(lambda f: Row(f))\n",
    "spark.createDataFrame(rddRow).toDF(\"col1\").show()"
   ]
  },
  {
   "cell_type": "code",
   "execution_count": 68,
   "metadata": {
    "scrolled": false
   },
   "outputs": [
    {
     "name": "stdout",
     "output_type": "stream",
     "text": [
      "+--------------------+\n",
      "|                col1|\n",
      "+--------------------+\n",
      "|  0.1305686120889875|\n",
      "| 0.40527061388981755|\n",
      "|  0.5466773154504839|\n",
      "|  0.6395714980740038|\n",
      "| 0.25420618324279376|\n",
      "|   0.310695448574941|\n",
      "| 0.04790798546764641|\n",
      "|  0.2502686597935274|\n",
      "|  0.8059595509745402|\n",
      "|0.056584247951413036|\n",
      "+--------------------+\n",
      "\n"
     ]
    }
   ],
   "source": [
    "rddRow = rdd.map(lambda f: Row(col1 = f))\n",
    "df = spark.createDataFrame(rddRow)\n",
    "df.show()"
   ]
  },
  {
   "cell_type": "markdown",
   "metadata": {},
   "source": [
    "#### Supply schema while converting the rdd into a dataframe"
   ]
  },
  {
   "cell_type": "markdown",
   "metadata": {},
   "source": [
    "By default, spark will try to infer the column names and a types by sampling the row object RDD. To control this process you can supply the schema programmaitcally as well.  "
   ]
  },
  {
   "cell_type": "code",
   "execution_count": 69,
   "metadata": {},
   "outputs": [
    {
     "name": "stdout",
     "output_type": "stream",
     "text": [
      "root\n",
      " |-- c1: double (nullable = true)\n",
      " |-- c2: string (nullable = true)\n",
      " |-- c3: null (nullable = true)\n",
      "\n"
     ]
    }
   ],
   "source": [
    "# Schema created by schema inferencing\n",
    "rdd = sc.parallelize([\n",
    "    Row(c1 = 1.0, c2 = None, c3 = None), \n",
    "    Row(c1 = None, c2= \"Apple\", c3 = None)])\n",
    "df = spark.createDataFrame(rdd, samplingRatio=1.0) # samplingRatio = 1 forces to see all records\n",
    "df.printSchema()"
   ]
  },
  {
   "cell_type": "markdown",
   "metadata": {},
   "source": [
    "Now, suppose you already know the schema of the record - it should be three columns. C1, C2 and C3 of float, string and date types respectively."
   ]
  },
  {
   "cell_type": "code",
   "execution_count": 70,
   "metadata": {
    "collapsed": true
   },
   "outputs": [],
   "source": [
    "from pyspark.sql.types import *"
   ]
  },
  {
   "cell_type": "code",
   "execution_count": 71,
   "metadata": {
    "collapsed": true
   },
   "outputs": [],
   "source": [
    "schema = StructType([\n",
    "    StructField(\"c1\", FloatType()),\n",
    "    StructField(\"c2\", StringType()),\n",
    "    StructField(\"c3\", DateType()),\n",
    "])"
   ]
  },
  {
   "cell_type": "code",
   "execution_count": 72,
   "metadata": {},
   "outputs": [
    {
     "name": "stdout",
     "output_type": "stream",
     "text": [
      "root\n",
      " |-- c1: float (nullable = true)\n",
      " |-- c2: string (nullable = true)\n",
      " |-- c3: date (nullable = true)\n",
      "\n"
     ]
    }
   ],
   "source": [
    "df = spark.createDataFrame(rdd, schema)\n",
    "df.printSchema()"
   ]
  },
  {
   "cell_type": "code",
   "execution_count": 73,
   "metadata": {
    "scrolled": false
   },
   "outputs": [
    {
     "name": "stdout",
     "output_type": "stream",
     "text": [
      "+----+-----+----+\n",
      "|  c1|   c2|  c3|\n",
      "+----+-----+----+\n",
      "| 1.0| null|null|\n",
      "|null|Apple|null|\n",
      "+----+-----+----+\n",
      "\n"
     ]
    }
   ],
   "source": [
    "df.show()"
   ]
  },
  {
   "cell_type": "code",
   "execution_count": null,
   "metadata": {
    "collapsed": true
   },
   "outputs": [],
   "source": []
  }
 ],
 "metadata": {
  "kernelspec": {
   "display_name": "Python 3",
   "language": "python",
   "name": "python3"
  },
  "language_info": {
   "codemirror_mode": {
    "name": "ipython",
    "version": 3
   },
   "file_extension": ".py",
   "mimetype": "text/x-python",
   "name": "python",
   "nbconvert_exporter": "python",
   "pygments_lexer": "ipython3",
   "version": "3.4.5"
  }
 },
 "nbformat": 4,
 "nbformat_minor": 2
}
