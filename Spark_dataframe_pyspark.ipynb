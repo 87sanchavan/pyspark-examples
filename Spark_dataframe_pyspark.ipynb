{
 "cells": [
  {
   "cell_type": "markdown",
   "metadata": {},
   "source": [
    "# Processing data using Spark Dataframe with Pyspark"
   ]
  },
  {
   "cell_type": "markdown",
   "metadata": {},
   "source": [
    "View spark version"
   ]
  },
  {
   "cell_type": "code",
   "execution_count": 1,
   "metadata": {},
   "outputs": [
    {
     "data": {
      "text/plain": [
       "'2.1.1'"
      ]
     },
     "execution_count": 1,
     "metadata": {},
     "output_type": "execute_result"
    }
   ],
   "source": [
    "spark.version"
   ]
  },
  {
   "cell_type": "markdown",
   "metadata": {},
   "source": [
    "Load Spark SQL functions, for example: count, avg, explode etc."
   ]
  },
  {
   "cell_type": "code",
   "execution_count": 2,
   "metadata": {
    "collapsed": true
   },
   "outputs": [],
   "source": [
    "from pyspark.sql.functions import *"
   ]
  },
  {
   "cell_type": "markdown",
   "metadata": {},
   "source": [
    "Location of movies dataset. You can download the dataset from here. Here we are using latest-small dataset."
   ]
  },
  {
   "cell_type": "code",
   "execution_count": 3,
   "metadata": {
    "collapsed": true
   },
   "outputs": [],
   "source": [
    "home_dir = \"/user/cloudera/Downloads/datasets/movie-lens\""
   ]
  },
  {
   "cell_type": "markdown",
   "metadata": {},
   "source": [
    "Create a dataframe on movies.csv file"
   ]
  },
  {
   "cell_type": "code",
   "execution_count": 4,
   "metadata": {},
   "outputs": [],
   "source": [
    "movies = spark.read.format(\"csv\")\\\n",
    ".options(header = True, inferSchema = True)\\\n",
    ".load(home_dir + \"/movies\")\\\n",
    ".persist() # Keep the dataframe in memory for faster processing "
   ]
  },
  {
   "cell_type": "markdown",
   "metadata": {},
   "source": [
    "Show schema of movies dataframe"
   ]
  },
  {
   "cell_type": "code",
   "execution_count": 5,
   "metadata": {},
   "outputs": [
    {
     "name": "stdout",
     "output_type": "stream",
     "text": [
      "root\n",
      " |-- movieId: integer (nullable = true)\n",
      " |-- title: string (nullable = true)\n",
      " |-- genres: string (nullable = true)\n",
      "\n"
     ]
    }
   ],
   "source": [
    "movies.printSchema()"
   ]
  },
  {
   "cell_type": "markdown",
   "metadata": {},
   "source": [
    "Display a few sample view from movies Dataframe"
   ]
  },
  {
   "cell_type": "code",
   "execution_count": 6,
   "metadata": {},
   "outputs": [
    {
     "name": "stdout",
     "output_type": "stream",
     "text": [
      "+-------+--------------------+--------------------+\n",
      "|movieId|               title|              genres|\n",
      "+-------+--------------------+--------------------+\n",
      "|      1|    Toy Story (1995)|Adventure|Animati...|\n",
      "|      2|      Jumanji (1995)|Adventure|Childre...|\n",
      "|      3|Grumpier Old Men ...|      Comedy|Romance|\n",
      "|      4|Waiting to Exhale...|Comedy|Drama|Romance|\n",
      "|      5|Father of the Bri...|              Comedy|\n",
      "+-------+--------------------+--------------------+\n",
      "only showing top 5 rows\n",
      "\n"
     ]
    }
   ],
   "source": [
    "movies.show(5)"
   ]
  },
  {
   "cell_type": "markdown",
   "metadata": {},
   "source": [
    "Create ratings Dataframe using ratings.csv file"
   ]
  },
  {
   "cell_type": "code",
   "execution_count": 7,
   "metadata": {},
   "outputs": [],
   "source": [
    "ratings = spark.read.format(\"csv\")\\\n",
    ".options(header = True, inferSchema = True)\\\n",
    ".load(home_dir + \"/ratings\")\\\n",
    ".persist()"
   ]
  },
  {
   "cell_type": "markdown",
   "metadata": {},
   "source": [
    "Print schema of ratings Dataframe"
   ]
  },
  {
   "cell_type": "code",
   "execution_count": 8,
   "metadata": {},
   "outputs": [
    {
     "name": "stdout",
     "output_type": "stream",
     "text": [
      "root\n",
      " |-- userId: integer (nullable = true)\n",
      " |-- movieId: integer (nullable = true)\n",
      " |-- rating: double (nullable = true)\n",
      " |-- timestamp: integer (nullable = true)\n",
      "\n"
     ]
    }
   ],
   "source": [
    "ratings.printSchema()"
   ]
  },
  {
   "cell_type": "markdown",
   "metadata": {},
   "source": [
    "Show a few sample values from ratings dataframe"
   ]
  },
  {
   "cell_type": "code",
   "execution_count": 9,
   "metadata": {},
   "outputs": [
    {
     "name": "stdout",
     "output_type": "stream",
     "text": [
      "+------+-------+------+----------+\n",
      "|userId|movieId|rating| timestamp|\n",
      "+------+-------+------+----------+\n",
      "|     1|     16|   4.0|1217897793|\n",
      "|     1|     24|   1.5|1217895807|\n",
      "|     1|     32|   4.0|1217896246|\n",
      "|     1|     47|   4.0|1217896556|\n",
      "|     1|     50|   4.0|1217896523|\n",
      "+------+-------+------+----------+\n",
      "only showing top 5 rows\n",
      "\n"
     ]
    }
   ],
   "source": [
    "ratings.show(5)"
   ]
  },
  {
   "cell_type": "markdown",
   "metadata": {},
   "source": [
    "Find average rating of each movie for which there are at least 100 ratings. Order the result by average rating in decreasing order."
   ]
  },
  {
   "cell_type": "code",
   "execution_count": 10,
   "metadata": {},
   "outputs": [
    {
     "name": "stdout",
     "output_type": "stream",
     "text": [
      "+-------+-----+------------------+-------+--------------------+--------------------+\n",
      "|movieId|count|        avg_rating|movieId|               title|              genres|\n",
      "+-------+-----+------------------+-------+--------------------+--------------------+\n",
      "|    318|  308| 4.454545454545454|    318|Shawshank Redempt...|         Crime|Drama|\n",
      "|    858|  210| 4.392857142857143|    858|Godfather, The (1...|         Crime|Drama|\n",
      "|     50|  228| 4.328947368421052|     50|Usual Suspects, T...|Crime|Mystery|Thr...|\n",
      "|   1136|  154|4.3019480519480515|   1136|Monty Python and ...|Adventure|Comedy|...|\n",
      "|    527|  248| 4.296370967741935|    527|Schindler's List ...|           Drama|War|\n",
      "|   1193|  143|4.2727272727272725|   1193|One Flew Over the...|               Drama|\n",
      "|    608|  201|4.2711442786069655|    608|        Fargo (1996)|Comedy|Crime|Dram...|\n",
      "|   2571|  261| 4.264367816091954|   2571|  Matrix, The (1999)|Action|Sci-Fi|Thr...|\n",
      "|   1221|  140| 4.260714285714286|   1221|Godfather: Part I...|         Crime|Drama|\n",
      "|   1213|  135|4.2592592592592595|   1213|   Goodfellas (1990)|         Crime|Drama|\n",
      "|    912|  125|             4.236|    912|   Casablanca (1942)|       Drama|Romance|\n",
      "|   1196|  228| 4.228070175438597|   1196|Star Wars: Episod...|Action|Adventure|...|\n",
      "|   1198|  224| 4.212053571428571|   1198|Raiders of the Lo...|    Action|Adventure|\n",
      "|    593|  290| 4.194827586206896|    593|Silence of the La...|Crime|Horror|Thri...|\n",
      "|  79132|  103| 4.189320388349515|  79132|    Inception (2010)|Action|Crime|Dram...|\n",
      "|    260|  273| 4.188644688644689|    260|Star Wars: Episod...|Action|Adventure|...|\n",
      "|   2959|  207| 4.188405797101449|   2959|   Fight Club (1999)|Action|Crime|Dram...|\n",
      "|    541|  156| 4.169871794871795|    541| Blade Runner (1982)|Action|Sci-Fi|Thr...|\n",
      "|   1704|  140| 4.167857142857143|   1704|Good Will Hunting...|       Drama|Romance|\n",
      "|   1197|  171|  4.16374269005848|   1197|Princess Bride, T...|Action|Adventure|...|\n",
      "+-------+-----+------------------+-------+--------------------+--------------------+\n",
      "only showing top 20 rows\n",
      "\n"
     ]
    }
   ],
   "source": [
    "ratings_agg = ratings\\\n",
    ".groupBy(col(\"movieId\"))\\\n",
    ".agg(\n",
    "    count(col(\"movieId\")).alias(\"count\"),\n",
    "    avg(col(\"rating\")).alias(\"avg_rating\")\n",
    ").alias(\"t1\")\n",
    "\n",
    "ratings_agg\\\n",
    ".join(movies.alias(\"t2\"), col(\"t1.movieId\") == col(\"t2.movieId\"))\\\n",
    ".filter(\"count > 100\")\\\n",
    ".orderBy(desc(\"avg_rating\"))\\\n",
    ".show()"
   ]
  },
  {
   "cell_type": "markdown",
   "metadata": {},
   "source": [
    "Find average rating of each genre"
   ]
  },
  {
   "cell_type": "code",
   "execution_count": 11,
   "metadata": {},
   "outputs": [
    {
     "name": "stdout",
     "output_type": "stream",
     "text": [
      "+------------------+-----+------------------+\n",
      "|             genre|count|        avg_rating|\n",
      "+------------------+-----+------------------+\n",
      "|         Film-Noir| 1210|3.9136363636363636|\n",
      "|               War| 5828|3.7832017844886754|\n",
      "|           Mystery| 8320| 3.652043269230769|\n",
      "|             Drama|46960|3.6502661839863713|\n",
      "|       Documentary| 1206|3.6430348258706466|\n",
      "|             Crime|18291|3.6423924334372098|\n",
      "|              IMAX| 3032| 3.641820580474934|\n",
      "|         Animation| 5966|3.6353503184713376|\n",
      "|           Musical| 4287|  3.57196174480989|\n",
      "|           Western| 2314| 3.565687121866897|\n",
      "|           Romance|19094| 3.544254739708809|\n",
      "|         Adventure|23076| 3.518027387762177|\n",
      "|           Fantasy|10889|3.5004591789879695|\n",
      "|          Thriller|29288|3.4955613220431574|\n",
      "|            Sci-Fi|16795|3.4544805001488537|\n",
      "|            Action|31205|3.4514500881269026|\n",
      "|          Children| 8098|3.4394294887626575|\n",
      "|            Comedy|38055|3.4209959269478385|\n",
      "|            Horror| 7983| 3.281097331830139|\n",
      "|(no genres listed)|    7|3.0714285714285716|\n",
      "+------------------+-----+------------------+\n",
      "\n"
     ]
    }
   ],
   "source": [
    "genre_avg_rating = ratings.alias(\"t1\")\\\n",
    ".join(movies.alias(\"t2\"), col(\"t1.movieId\") == col(\"t2.movieId\"))\\\n",
    ".select(col(\"rating\"), explode(split(\"genres\", r\"\\|\")).alias(\"genre\"))\\\n",
    ".groupBy(col(\"genre\"))\\\n",
    ".agg(count(col(\"genre\")).alias(\"count\"), avg(\"rating\").alias(\"avg_rating\")) \\\n",
    ".orderBy(desc(\"avg_rating\"))\n",
    "\n",
    "genre_avg_rating.show()"
   ]
  },
  {
   "cell_type": "markdown",
   "metadata": {},
   "source": [
    "### Using matplotlib show barplot of average rating for each genre"
   ]
  },
  {
   "cell_type": "markdown",
   "metadata": {},
   "source": [
    "Loading matplotlib library"
   ]
  },
  {
   "cell_type": "code",
   "execution_count": 12,
   "metadata": {
    "collapsed": true
   },
   "outputs": [],
   "source": [
    "import pandas as pd\n",
    "import numpy as np\n",
    "import matplotlib.pyplot as plt\n",
    "\n",
    "%matplotlib inline"
   ]
  },
  {
   "cell_type": "markdown",
   "metadata": {},
   "source": [
    "Convert spark dataframe to Pandas Dataframe. "
   ]
  },
  {
   "cell_type": "code",
   "execution_count": 13,
   "metadata": {},
   "outputs": [
    {
     "data": {
      "text/html": [
       "<div>\n",
       "<style>\n",
       "    .dataframe thead tr:only-child th {\n",
       "        text-align: right;\n",
       "    }\n",
       "\n",
       "    .dataframe thead th {\n",
       "        text-align: left;\n",
       "    }\n",
       "\n",
       "    .dataframe tbody tr th {\n",
       "        vertical-align: top;\n",
       "    }\n",
       "</style>\n",
       "<table border=\"1\" class=\"dataframe\">\n",
       "  <thead>\n",
       "    <tr style=\"text-align: right;\">\n",
       "      <th></th>\n",
       "      <th>genre</th>\n",
       "      <th>count</th>\n",
       "      <th>avg_rating</th>\n",
       "    </tr>\n",
       "  </thead>\n",
       "  <tbody>\n",
       "    <tr>\n",
       "      <th>0</th>\n",
       "      <td>Film-Noir</td>\n",
       "      <td>1210</td>\n",
       "      <td>3.913636</td>\n",
       "    </tr>\n",
       "    <tr>\n",
       "      <th>1</th>\n",
       "      <td>War</td>\n",
       "      <td>5828</td>\n",
       "      <td>3.783202</td>\n",
       "    </tr>\n",
       "    <tr>\n",
       "      <th>2</th>\n",
       "      <td>Mystery</td>\n",
       "      <td>8320</td>\n",
       "      <td>3.652043</td>\n",
       "    </tr>\n",
       "    <tr>\n",
       "      <th>3</th>\n",
       "      <td>Drama</td>\n",
       "      <td>46960</td>\n",
       "      <td>3.650266</td>\n",
       "    </tr>\n",
       "    <tr>\n",
       "      <th>4</th>\n",
       "      <td>Documentary</td>\n",
       "      <td>1206</td>\n",
       "      <td>3.643035</td>\n",
       "    </tr>\n",
       "  </tbody>\n",
       "</table>\n",
       "</div>"
      ],
      "text/plain": [
       "         genre  count  avg_rating\n",
       "0    Film-Noir   1210    3.913636\n",
       "1          War   5828    3.783202\n",
       "2      Mystery   8320    3.652043\n",
       "3        Drama  46960    3.650266\n",
       "4  Documentary   1206    3.643035"
      ]
     },
     "execution_count": 13,
     "metadata": {},
     "output_type": "execute_result"
    }
   ],
   "source": [
    "df = genre_avg_rating.toPandas()\n",
    "df.head()"
   ]
  },
  {
   "cell_type": "markdown",
   "metadata": {},
   "source": [
    "Plot average rating for each genre"
   ]
  },
  {
   "cell_type": "code",
   "execution_count": 14,
   "metadata": {},
   "outputs": [
    {
     "data": {
      "text/plain": [
       "<matplotlib.axes._subplots.AxesSubplot at 0x7f484b7719b0>"
      ]
     },
     "execution_count": 14,
     "metadata": {},
     "output_type": "execute_result"
    },
    {
     "data": {
      "image/png": "[encoded data removed]",
      "text/plain": [
       "<matplotlib.figure.Figure at 0x7f484b7d1ba8>"
      ]
     },
     "metadata": {},
     "output_type": "display_data"
    }
   ],
   "source": [
    "df.plot(\"genre\", \"avg_rating\", \"bar\", title = \"Barplot of avg rating by genre\")"
   ]
  },
  {
   "cell_type": "code",
   "execution_count": null,
   "metadata": {
    "collapsed": true
   },
   "outputs": [],
   "source": []
  }
 ],
 "metadata": {
  "kernelspec": {
   "display_name": "Python 3",
   "language": "python",
   "name": "python3"
  },
  "language_info": {
   "codemirror_mode": {
    "name": "ipython",
    "version": 3
   },
   "file_extension": ".py",
   "mimetype": "text/x-python",
   "name": "python",
   "nbconvert_exporter": "python",
   "pygments_lexer": "ipython3",
   "version": "3.4.5"
  }
 },
 "nbformat": 4,
 "nbformat_minor": 2
}
