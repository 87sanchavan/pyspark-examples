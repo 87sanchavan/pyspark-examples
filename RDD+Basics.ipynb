{
 "cells": [
  {
   "cell_type": "code",
   "execution_count": 1,
   "metadata": {},
   "outputs": [
    {
     "data": {
      "text/plain": [
       "<pyspark.context.SparkContext at 0x7f3fbc08d710>"
      ]
     },
     "execution_count": 1,
     "metadata": {},
     "output_type": "execute_result"
    }
   ],
   "source": [
    "sc"
   ]
  },
  {
   "cell_type": "code",
   "execution_count": 2,
   "metadata": {},
   "outputs": [
    {
     "data": {
      "text/plain": [
       "ParallelCollectionRDD[0] at parallelize at PythonRDD.scala:475"
      ]
     },
     "execution_count": 2,
     "metadata": {},
     "output_type": "execute_result"
    }
   ],
   "source": [
    "distData = sc.parallelize([1, 2, 3, 4])\n",
    "distData"
   ]
  },
  {
   "cell_type": "code",
   "execution_count": 3,
   "metadata": {},
   "outputs": [
    {
     "data": {
      "text/plain": [
       "[1, 2, 3, 4]"
      ]
     },
     "execution_count": 3,
     "metadata": {},
     "output_type": "execute_result"
    }
   ],
   "source": [
    "distData.collect()"
   ]
  },
  {
   "cell_type": "code",
   "execution_count": 4,
   "metadata": {},
   "outputs": [
    {
     "data": {
      "text/plain": [
       "10"
      ]
     },
     "execution_count": 4,
     "metadata": {},
     "output_type": "execute_result"
    }
   ],
   "source": [
    "distData.sum()"
   ]
  },
  {
   "cell_type": "code",
   "execution_count": 5,
   "metadata": {},
   "outputs": [
    {
     "data": {
      "text/plain": [
       "(4, 1)"
      ]
     },
     "execution_count": 5,
     "metadata": {},
     "output_type": "execute_result"
    }
   ],
   "source": [
    "distData.max(), distData.min()"
   ]
  },
  {
   "cell_type": "code",
   "execution_count": 6,
   "metadata": {},
   "outputs": [
    {
     "name": "stdout",
     "output_type": "stream",
     "text": [
      "1\n",
      "4\n",
      "9\n",
      "16\n"
     ]
    }
   ],
   "source": [
    "nums = sc.parallelize([1, 2, 3, 4])\n",
    "squared = nums.map(lambda i: i ** 2).collect()\n",
    "for f in squared:\n",
    "    print(\"%d\" % f)"
   ]
  },
  {
   "cell_type": "code",
   "execution_count": 7,
   "metadata": {},
   "outputs": [
    {
     "name": "stdout",
     "output_type": "stream",
     "text": [
      "total 3424\r\n",
      "-rw-r--r-- 1 cloudera cloudera  207997 Jul  2 20:49 links.csv\r\n",
      "-rw-r--r-- 1 cloudera cloudera  515700 Jul  2 20:49 movies.csv\r\n",
      "-rw-r--r-- 1 cloudera cloudera 2580392 Jul  2 20:49 ratings.csv\r\n",
      "-rw-r--r-- 1 cloudera cloudera  199073 Jul  2 20:49 tags.csv\r\n"
     ]
    }
   ],
   "source": [
    "!ls -l ~/Downloads/datasets/movie-lens"
   ]
  },
  {
   "cell_type": "markdown",
   "metadata": {},
   "source": [
    "### Exercise 1:\n",
    "\n",
    "1. Create a directory in HDFS called movielens and load movies.csv and ratings.csv from ~/Downloads/datasets/movie-lens directory.  \n",
    "2. Load movies.csv into in moviesRdd\n",
    "3. Load ratings.csv into ratingsRdd\n",
    "4. Find out 10 top movies based on the highest average rating. Consider only those movies that have got at least 100 ratings.\n"
   ]
  },
  {
   "cell_type": "code",
   "execution_count": 8,
   "metadata": {},
   "outputs": [
    {
     "data": {
      "text/plain": [
       "10330"
      ]
     },
     "execution_count": 8,
     "metadata": {},
     "output_type": "execute_result"
    }
   ],
   "source": [
    "movies = sc.textFile(\"/user/cloudera/movielens/movies\")\n",
    "movies.count()"
   ]
  },
  {
   "cell_type": "code",
   "execution_count": 9,
   "metadata": {},
   "outputs": [
    {
     "name": "stdout",
     "output_type": "stream",
     "text": [
      "movieId,title,genres\n",
      "1,Toy Story (1995),Adventure|Animation|Children|Comedy|Fantasy\n",
      "2,Jumanji (1995),Adventure|Children|Fantasy\n",
      "3,Grumpier Old Men (1995),Comedy|Romance\n",
      "4,Waiting to Exhale (1995),Comedy|Drama|Romance\n",
      "5,Father of the Bride Part II (1995),Comedy\n",
      "6,Heat (1995),Action|Crime|Thriller\n",
      "7,Sabrina (1995),Comedy|Romance\n",
      "8,Tom and Huck (1995),Adventure|Children\n",
      "9,Sudden Death (1995),Action\n"
     ]
    }
   ],
   "source": [
    "for r in movies.take(10):\n",
    "    print(r)"
   ]
  },
  {
   "cell_type": "code",
   "execution_count": 10,
   "metadata": {},
   "outputs": [
    {
     "name": "stdout",
     "output_type": "stream",
     "text": [
      "1,Toy Story (1995),Adventure|Animation|Children|Comedy|Fantasy\n",
      "2,Jumanji (1995),Adventure|Children|Fantasy\n",
      "3,Grumpier Old Men (1995),Comedy|Romance\n",
      "4,Waiting to Exhale (1995),Comedy|Drama|Romance\n",
      "5,Father of the Bride Part II (1995),Comedy\n",
      "6,Heat (1995),Action|Crime|Thriller\n",
      "7,Sabrina (1995),Comedy|Romance\n",
      "8,Tom and Huck (1995),Adventure|Children\n",
      "9,Sudden Death (1995),Action\n",
      "10,GoldenEye (1995),Action|Adventure|Thriller\n"
     ]
    }
   ],
   "source": [
    "moviesData = movies.filter(lambda line: not line.startswith(\"movieId\"))\n",
    "for r in moviesData.take(10):\n",
    "    print(r)"
   ]
  },
  {
   "cell_type": "code",
   "execution_count": 11,
   "metadata": {},
   "outputs": [
    {
     "data": {
      "text/plain": [
       "105340"
      ]
     },
     "execution_count": 11,
     "metadata": {},
     "output_type": "execute_result"
    }
   ],
   "source": [
    "ratings = sc.textFile(\"/user/cloudera/movielens/ratings\")\n",
    "ratings.count()"
   ]
  },
  {
   "cell_type": "code",
   "execution_count": 12,
   "metadata": {},
   "outputs": [
    {
     "name": "stdout",
     "output_type": "stream",
     "text": [
      "userId,movieId,rating,timestamp\n",
      "1,16,4.0,1217897793\n",
      "1,24,1.5,1217895807\n",
      "1,32,4.0,1217896246\n",
      "1,47,4.0,1217896556\n",
      "1,50,4.0,1217896523\n",
      "1,110,4.0,1217896150\n",
      "1,150,3.0,1217895940\n",
      "1,161,4.0,1217897864\n",
      "1,165,3.0,1217897135\n"
     ]
    }
   ],
   "source": [
    "for r in ratings.take(10):\n",
    "    print(r)"
   ]
  },
  {
   "cell_type": "code",
   "execution_count": 13,
   "metadata": {},
   "outputs": [
    {
     "name": "stdout",
     "output_type": "stream",
     "text": [
      "1,16,4.0,1217897793\n",
      "1,24,1.5,1217895807\n",
      "1,32,4.0,1217896246\n",
      "1,47,4.0,1217896556\n",
      "1,50,4.0,1217896523\n",
      "1,110,4.0,1217896150\n",
      "1,150,3.0,1217895940\n",
      "1,161,4.0,1217897864\n",
      "1,165,3.0,1217897135\n",
      "1,204,0.5,1217895786\n"
     ]
    }
   ],
   "source": [
    "ratingsData = ratings.filter(lambda line: not line.startswith(\"userId\"))\n",
    "for r in ratingsData.take(10):\n",
    "    print(r)"
   ]
  },
  {
   "cell_type": "code",
   "execution_count": 14,
   "metadata": {},
   "outputs": [
    {
     "data": {
      "text/plain": [
       "'movieId,title,genres'"
      ]
     },
     "execution_count": 14,
     "metadata": {},
     "output_type": "execute_result"
    }
   ],
   "source": [
    "movies.first()"
   ]
  },
  {
   "cell_type": "code",
   "execution_count": 15,
   "metadata": {},
   "outputs": [
    {
     "data": {
      "text/plain": [
       "'userId,movieId,rating,timestamp'"
      ]
     },
     "execution_count": 15,
     "metadata": {},
     "output_type": "execute_result"
    }
   ],
   "source": [
    "ratings.first()"
   ]
  },
  {
   "cell_type": "code",
   "execution_count": 16,
   "metadata": {},
   "outputs": [
    {
     "data": {
      "text/plain": [
       "(1, 'Toy Story (1995)')"
      ]
     },
     "execution_count": 16,
     "metadata": {},
     "output_type": "execute_result"
    }
   ],
   "source": [
    "movies_by_movieid = moviesData\\\n",
    ".map(lambda line: line.split(\",\"))\\\n",
    ".map(lambda tokens: (int(tokens[0]), tokens[1]))\n",
    "\n",
    "movies_by_movieid.first()"
   ]
  },
  {
   "cell_type": "code",
   "execution_count": 17,
   "metadata": {},
   "outputs": [
    {
     "data": {
      "text/plain": [
       "(16, 4.0)"
      ]
     },
     "execution_count": 17,
     "metadata": {},
     "output_type": "execute_result"
    }
   ],
   "source": [
    "ratings_by_movieid = ratingsData\\\n",
    ".map(lambda line: line.split(\",\"))\\\n",
    ".map(lambda tokens: (int(tokens[1]), float(tokens[2])))\n",
    "\n",
    "ratings_by_movieid.first()"
   ]
  },
  {
   "cell_type": "code",
   "execution_count": 18,
   "metadata": {},
   "outputs": [
    {
     "name": "stdout",
     "output_type": "stream",
     "text": [
      "((318, '\"Shawshank Redemption'), (4.454545454545454, 308))\n",
      "((858, '\"Godfather'), (4.392857142857143, 210))\n",
      "((50, '\"Usual Suspects'), (4.328947368421052, 228))\n",
      "((1136, 'Monty Python and the Holy Grail (1975)'), (4.3019480519480515, 154))\n",
      "((527, \"Schindler's List (1993)\"), (4.296370967741935, 248))\n",
      "((1193, \"One Flew Over the Cuckoo's Nest (1975)\"), (4.2727272727272725, 143))\n",
      "((608, 'Fargo (1996)'), (4.2711442786069655, 201))\n",
      "((2571, '\"Matrix'), (4.264367816091954, 261))\n",
      "((1221, '\"Godfather: Part II'), (4.260714285714286, 140))\n",
      "((1213, 'Goodfellas (1990)'), (4.2592592592592595, 135))\n"
     ]
    }
   ],
   "source": [
    "top_10 = movies_by_movieid.join(ratings_by_movieid)\\\n",
    ".map(lambda p: ((p[0], p[1][0]), p[1][1]))\\\n",
    ".groupByKey().mapValues(lambda values: (sum(values)/len(values), len(values)))\\\n",
    ".filter(lambda p: p[1][1] >= 100)\\\n",
    ".sortBy(lambda p: p[1], False)\\\n",
    ".take(10)\n",
    "\n",
    "for m in top_10:\n",
    "    print(m)"
   ]
  },
  {
   "cell_type": "code",
   "execution_count": 19,
   "metadata": {},
   "outputs": [
    {
     "data": {
      "text/plain": [
       "(4096, ('\"Curse', 4.0))"
      ]
     },
     "execution_count": 19,
     "metadata": {},
     "output_type": "execute_result"
    }
   ],
   "source": [
    "movies_by_movieid.join(ratings_by_movieid)\\\n",
    ".first()\n"
   ]
  },
  {
   "cell_type": "code",
   "execution_count": 20,
   "metadata": {},
   "outputs": [
    {
     "data": {
      "text/plain": [
       "((4096, '\"Curse'), 4.0)"
      ]
     },
     "execution_count": 20,
     "metadata": {},
     "output_type": "execute_result"
    }
   ],
   "source": [
    "movies_by_movieid.join(ratings_by_movieid)\\\n",
    ".map(lambda p: ((p[0], p[1][0]), p[1][1]))\\\n",
    ".first()\n"
   ]
  },
  {
   "cell_type": "code",
   "execution_count": 21,
   "metadata": {},
   "outputs": [
    {
     "data": {
      "text/plain": [
       "((1036, 'Die Hard (1988)'), (3.918181818181818, 165))"
      ]
     },
     "execution_count": 21,
     "metadata": {},
     "output_type": "execute_result"
    }
   ],
   "source": [
    "top_10 = movies_by_movieid.join(ratings_by_movieid)\\\n",
    ".map(lambda p: ((p[0], p[1][0]), p[1][1]))\\\n",
    ".groupByKey().mapValues(lambda values: (sum(values)/len(values), len(values)))\\\n",
    ".filter(lambda p: p[1][1] >= 100)\n",
    "\n",
    "top_10.first()"
   ]
  },
  {
   "cell_type": "code",
   "execution_count": 22,
   "metadata": {},
   "outputs": [
    {
     "name": "stdout",
     "output_type": "stream",
     "text": [
      "((318, '\"Shawshank Redemption'), (4.454545454545454, 308))\n",
      "((858, '\"Godfather'), (4.392857142857143, 210))\n",
      "((50, '\"Usual Suspects'), (4.328947368421052, 228))\n",
      "((1136, 'Monty Python and the Holy Grail (1975)'), (4.3019480519480515, 154))\n",
      "((527, \"Schindler's List (1993)\"), (4.296370967741935, 248))\n",
      "((1193, \"One Flew Over the Cuckoo's Nest (1975)\"), (4.2727272727272725, 143))\n",
      "((608, 'Fargo (1996)'), (4.2711442786069655, 201))\n",
      "((2571, '\"Matrix'), (4.264367816091954, 261))\n",
      "((1221, '\"Godfather: Part II'), (4.260714285714286, 140))\n",
      "((1213, 'Goodfellas (1990)'), (4.2592592592592595, 135))\n"
     ]
    }
   ],
   "source": [
    "top_10 = movies_by_movieid.join(ratings_by_movieid)\\\n",
    ".map(lambda p: ((p[0], p[1][0]), p[1][1]))\\\n",
    ".groupByKey().mapValues(lambda values: (sum(values)/len(values), len(values)))\\\n",
    ".filter(lambda p: p[1][1] >= 100)\\\n",
    ".sortBy(lambda p: p[1], False)\\\n",
    "\n",
    "for m in top_10.take(10):\n",
    "    print(m)"
   ]
  },
  {
   "cell_type": "markdown",
   "metadata": {},
   "source": [
    "## Exercise 2: use stocks.csv file for the this exercise\n",
    " \n",
    "- Load the stocks.csv file in a new Rdd \n",
    "- Find stocks records in 2016 \n",
    "- Find stocks top 10 records based on the trading volume in 2016 \n",
    "- Find average volume per stock traded in 2016 \n",
    "- Find top 10 stocks based on highest trading volume in 2016  \n",
    " "
   ]
  },
  {
   "cell_type": "markdown",
   "metadata": {},
   "source": [
    "Load the stocks.csv file in a new Rdd"
   ]
  },
  {
   "cell_type": "code",
   "execution_count": 23,
   "metadata": {
    "collapsed": true
   },
   "outputs": [],
   "source": [
    "stocks = sc.textFile(\"stocks\")"
   ]
  },
  {
   "cell_type": "code",
   "execution_count": 24,
   "metadata": {},
   "outputs": [
    {
     "data": {
      "text/plain": [
       "1857093"
      ]
     },
     "execution_count": 24,
     "metadata": {},
     "output_type": "execute_result"
    }
   ],
   "source": [
    "stocks.count()"
   ]
  },
  {
   "cell_type": "code",
   "execution_count": 25,
   "metadata": {},
   "outputs": [
    {
     "data": {
      "text/plain": [
       "'date,open,high,low,close,volume,adjclose,symbol'"
      ]
     },
     "execution_count": 25,
     "metadata": {},
     "output_type": "execute_result"
    }
   ],
   "source": [
    "stocks.first()"
   ]
  },
  {
   "cell_type": "code",
   "execution_count": 26,
   "metadata": {},
   "outputs": [
    {
     "data": {
      "text/plain": [
       "stocks MapPartitionsRDD[85] at textFile at NativeMethodAccessorImpl.java:0"
      ]
     },
     "execution_count": 26,
     "metadata": {},
     "output_type": "execute_result"
    }
   ],
   "source": [
    "stocks.cache()"
   ]
  },
  {
   "cell_type": "markdown",
   "metadata": {},
   "source": [
    "Find stocks records in 2016"
   ]
  },
  {
   "cell_type": "code",
   "execution_count": 27,
   "metadata": {},
   "outputs": [
    {
     "data": {
      "text/plain": [
       "78041"
      ]
     },
     "execution_count": 27,
     "metadata": {},
     "output_type": "execute_result"
    }
   ],
   "source": [
    "stocks2016 = stocks.filter(lambda line: line.startswith(\"2016\"))\n",
    "stocks2016.count()"
   ]
  },
  {
   "cell_type": "markdown",
   "metadata": {},
   "source": [
    "Find stocks top 10 records based on the trading volume in 2016."
   ]
  },
  {
   "cell_type": "code",
   "execution_count": 28,
   "metadata": {},
   "outputs": [
    {
     "data": {
      "text/plain": [
       "'2016-01-04,46.119999,46.130001,45.360001,45.799999,3472200.0,44.870315,XLNX'"
      ]
     },
     "execution_count": 28,
     "metadata": {},
     "output_type": "execute_result"
    }
   ],
   "source": [
    "stocks2016.first()"
   ]
  },
  {
   "cell_type": "code",
   "execution_count": 29,
   "metadata": {},
   "outputs": [
    {
     "data": {
      "text/plain": [
       "['2016-01-26,61.740002,62.509998,61.509998,62.349998,999900.0,61.430663,AWK',\n",
       " '2016-08-03,75.599998,76.099998,75.559998,76.089996,999900.0,75.520442,KLAC',\n",
       " '2016-05-23,12.48,12.56,12.31,12.48,9997600.0,12.307377,KEY',\n",
       " '2016-02-22,40.139999,40.93,40.07,40.84,9997300.0,40.60075,AAL',\n",
       " '2016-07-12,38.470001,38.91,38.240002,38.790001,9997200.0,38.790001,PYPL',\n",
       " '2016-04-11,104.059998,104.059998,102.300003,102.620003,999700.0,102.350541,INTU',\n",
       " '2016-02-01,48.939999,49.990002,48.790001,49.900002,9996700.0,48.283396,SO',\n",
       " '2016-06-24,41.869999,42.73,40.630001,40.970001,9996400.0,40.970001,VIAB',\n",
       " '2016-01-04,117.25,117.730003,115.870003,117.580002,9995000.0,115.844428,MCD',\n",
       " '2016-02-23,131.289993,131.910004,130.910004,131.529999,999500.0,129.687866,KMB']"
      ]
     },
     "execution_count": 29,
     "metadata": {},
     "output_type": "execute_result"
    }
   ],
   "source": [
    "stocks2016.sortBy(lambda line: line.split(\",\")[5], False).take(10)"
   ]
  },
  {
   "cell_type": "markdown",
   "metadata": {},
   "source": [
    "Find average volume per stock traded in 2016"
   ]
  },
  {
   "cell_type": "code",
   "execution_count": 30,
   "metadata": {},
   "outputs": [
    {
     "data": {
      "text/plain": [
       "('XLNX', 3472200.0)"
      ]
     },
     "execution_count": 30,
     "metadata": {},
     "output_type": "execute_result"
    }
   ],
   "source": [
    "stocks2016.map(lambda line: line.split(\",\"))\\\n",
    ".map(lambda tokens: (tokens[7], float(tokens[5])))\\\n",
    ".first()"
   ]
  },
  {
   "cell_type": "code",
   "execution_count": 31,
   "metadata": {},
   "outputs": [
    {
     "data": {
      "text/plain": [
       "('EW', 1808258.9743589743)"
      ]
     },
     "execution_count": 31,
     "metadata": {},
     "output_type": "execute_result"
    }
   ],
   "source": [
    "stocks2016.map(lambda line: line.split(\",\"))\\\n",
    ".map(lambda tokens: (tokens[7], float(tokens[5])))\\\n",
    ".groupByKey().mapValues(lambda volumes: sum(volumes)/ len(volumes))\\\n",
    ".first()"
   ]
  },
  {
   "cell_type": "markdown",
   "metadata": {},
   "source": [
    "Find top 10 stocks based on highest trading volume in 2016"
   ]
  },
  {
   "cell_type": "code",
   "execution_count": 32,
   "metadata": {},
   "outputs": [
    {
     "name": "stdout",
     "output_type": "stream",
     "text": [
      "('BAC', 109953689.74358974)\n",
      "('FCX', 47979558.333333336)\n",
      "('CHK', 41622735.256410256)\n",
      "('AAPL', 40944183.974358976)\n",
      "('GE', 37751663.461538464)\n",
      "('F', 37432197.43589743)\n",
      "('PFE', 35777183.974358976)\n",
      "('MSFT', 34194448.07692308)\n",
      "('FB', 28902566.025641024)\n",
      "('MU', 27260807.692307692)\n"
     ]
    }
   ],
   "source": [
    "top10 = stocks2016.map(lambda line: line.split(\",\"))\\\n",
    ".map(lambda tokens: (tokens[7], float(tokens[5])))\\\n",
    ".groupByKey().mapValues(lambda volumes: sum(volumes)/ len(volumes))\\\n",
    ".sortBy(lambda p: p[1], False)\\\n",
    ".take(10)\n",
    "\n",
    "for r in top10:\n",
    "    print(r)\n"
   ]
  },
  {
   "cell_type": "code",
   "execution_count": 33,
   "metadata": {},
   "outputs": [
    {
     "data": {
      "text/plain": [
       "'2000-07-17,95.4375,97.5,92.75,96.625,3508100.0,74.269199,XLNX'"
      ]
     },
     "execution_count": 33,
     "metadata": {},
     "output_type": "execute_result"
    }
   ],
   "source": [
    "stocksData = stocks.filter(lambda line: not line.startswith(\"date\"))\n",
    "stocksData.first()"
   ]
  },
  {
   "cell_type": "code",
   "execution_count": 34,
   "metadata": {},
   "outputs": [],
   "source": [
    "from datetime import datetime"
   ]
  },
  {
   "cell_type": "code",
   "execution_count": 35,
   "metadata": {},
   "outputs": [],
   "source": [
    "d = datetime.strptime(\"2000-07-17\", \"%Y-%m-%d\")"
   ]
  },
  {
   "cell_type": "code",
   "execution_count": 36,
   "metadata": {},
   "outputs": [
    {
     "data": {
      "text/plain": [
       "datetime.datetime"
      ]
     },
     "execution_count": 36,
     "metadata": {},
     "output_type": "execute_result"
    }
   ],
   "source": [
    "type(d)"
   ]
  },
  {
   "cell_type": "code",
   "execution_count": 37,
   "metadata": {},
   "outputs": [
    {
     "data": {
      "text/plain": [
       "2000"
      ]
     },
     "execution_count": 37,
     "metadata": {},
     "output_type": "execute_result"
    }
   ],
   "source": [
    "d.year"
   ]
  },
  {
   "cell_type": "code",
   "execution_count": 38,
   "metadata": {},
   "outputs": [
    {
     "data": {
      "text/plain": [
       "'2016-01-04,46.119999,46.130001,45.360001,45.799999,3472200.0,44.870315,XLNX'"
      ]
     },
     "execution_count": 38,
     "metadata": {},
     "output_type": "execute_result"
    }
   ],
   "source": [
    "stocksData.filter(lambda line: datetime.strptime(line.split(\",\")[0],\"%Y-%m-%d\").year == 2016).first()"
   ]
  },
  {
   "cell_type": "code",
   "execution_count": 39,
   "metadata": {},
   "outputs": [
    {
     "data": {
      "text/plain": [
       "['A', 'B', 'C', 'D', 'E', 'F', 'G', 'H']"
      ]
     },
     "execution_count": 39,
     "metadata": {},
     "output_type": "execute_result"
    }
   ],
   "source": [
    "nums = sc.parallelize([\"A\", \"B\", \"C\", \"D\", \"E\", \"F\", \"G\", \"H\"], 3)\n",
    "nums.collect()"
   ]
  },
  {
   "cell_type": "code",
   "execution_count": 40,
   "metadata": {},
   "outputs": [
    {
     "data": {
      "text/plain": [
       "3"
      ]
     },
     "execution_count": 40,
     "metadata": {},
     "output_type": "execute_result"
    }
   ],
   "source": [
    "nums.getNumPartitions()"
   ]
  },
  {
   "cell_type": "code",
   "execution_count": 41,
   "metadata": {},
   "outputs": [
    {
     "data": {
      "text/plain": [
       "[['A', 'B'], ['C', 'D'], ['E', 'F', 'G', 'H']]"
      ]
     },
     "execution_count": 41,
     "metadata": {},
     "output_type": "execute_result"
    }
   ],
   "source": [
    "nums.glom().collect()"
   ]
  },
  {
   "cell_type": "code",
   "execution_count": 42,
   "metadata": {},
   "outputs": [],
   "source": [
    "nums.foreach(lambda v: print(\"Abul\" + str(v)))"
   ]
  },
  {
   "cell_type": "code",
   "execution_count": 43,
   "metadata": {
    "collapsed": true
   },
   "outputs": [],
   "source": [
    "def save_to_db(c):\n",
    "    # open db connection or web service connection\n",
    "    # send all c in bulk operation \n",
    "    # close the connection\n",
    "    print(\" \".join(c))\n",
    "    \n",
    "nums.foreachPartition(save_to_db)"
   ]
  },
  {
   "cell_type": "code",
   "execution_count": null,
   "metadata": {
    "collapsed": true
   },
   "outputs": [],
   "source": []
  }
 ],
 "metadata": {
  "kernelspec": {
   "display_name": "Python 3",
   "language": "python",
   "name": "python3"
  },
  "language_info": {
   "codemirror_mode": {
    "name": "ipython",
    "version": 3
   },
   "file_extension": ".py",
   "mimetype": "text/x-python",
   "name": "python",
   "nbconvert_exporter": "python",
   "pygments_lexer": "ipython3",
   "version": "3.4.5"
  }
 },
 "nbformat": 4,
 "nbformat_minor": 2
}
