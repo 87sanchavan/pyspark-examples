{
 "cells": [
  {
   "cell_type": "code",
   "execution_count": 1,
   "metadata": {},
   "outputs": [
    {
     "name": "stdout",
     "output_type": "stream",
     "text": [
      "Found 4 items\r\n",
      "-rw-r--r--   1 cloudera cloudera     207997 2017-10-12 04:23 /user/cloudera/movielens/links.csv\r\n",
      "-rw-r--r--   1 cloudera cloudera     515700 2017-10-12 04:23 /user/cloudera/movielens/movies.csv\r\n",
      "-rw-r--r--   1 cloudera cloudera    2580392 2017-10-12 04:23 /user/cloudera/movielens/ratings.csv\r\n",
      "-rw-r--r--   1 cloudera cloudera     199073 2017-10-12 04:23 /user/cloudera/movielens/tags.csv\r\n"
     ]
    }
   ],
   "source": [
    "!hadoop fs -ls /user/cloudera/movielens"
   ]
  },
  {
   "cell_type": "code",
   "execution_count": 2,
   "metadata": {},
   "outputs": [
    {
     "name": "stdout",
     "output_type": "stream",
     "text": [
      "+-------+--------------------+--------------------+\n",
      "|movieId|               title|              genres|\n",
      "+-------+--------------------+--------------------+\n",
      "|      1|    Toy Story (1995)|Adventure|Animati...|\n",
      "|      2|      Jumanji (1995)|Adventure|Childre...|\n",
      "|      3|Grumpier Old Men ...|      Comedy|Romance|\n",
      "|      4|Waiting to Exhale...|Comedy|Drama|Romance|\n",
      "|      5|Father of the Bri...|              Comedy|\n",
      "|      6|         Heat (1995)|Action|Crime|Thri...|\n",
      "|      7|      Sabrina (1995)|      Comedy|Romance|\n",
      "|      8| Tom and Huck (1995)|  Adventure|Children|\n",
      "|      9| Sudden Death (1995)|              Action|\n",
      "|     10|    GoldenEye (1995)|Action|Adventure|...|\n",
      "|     11|American Presiden...|Comedy|Drama|Romance|\n",
      "|     12|Dracula: Dead and...|       Comedy|Horror|\n",
      "|     13|        Balto (1995)|Adventure|Animati...|\n",
      "|     14|        Nixon (1995)|               Drama|\n",
      "|     15|Cutthroat Island ...|Action|Adventure|...|\n",
      "|     16|       Casino (1995)|         Crime|Drama|\n",
      "|     17|Sense and Sensibi...|       Drama|Romance|\n",
      "|     18|   Four Rooms (1995)|              Comedy|\n",
      "|     19|Ace Ventura: When...|              Comedy|\n",
      "|     20|  Money Train (1995)|Action|Comedy|Cri...|\n",
      "+-------+--------------------+--------------------+\n",
      "only showing top 20 rows\n",
      "\n"
     ]
    }
   ],
   "source": [
    "movies = spark.read.format(\"csv\").option(\"header\", True).load(\"/user/cloudera/movielens/movies.csv\")\n",
    "movies.show()"
   ]
  },
  {
   "cell_type": "code",
   "execution_count": 3,
   "metadata": {},
   "outputs": [
    {
     "data": {
      "text/plain": [
       "pyspark.sql.dataframe.DataFrame"
      ]
     },
     "execution_count": 3,
     "metadata": {},
     "output_type": "execute_result"
    }
   ],
   "source": [
    "type(movies)"
   ]
  },
  {
   "cell_type": "code",
   "execution_count": 4,
   "metadata": {},
   "outputs": [
    {
     "name": "stdout",
     "output_type": "stream",
     "text": [
      "root\n",
      " |-- movieId: string (nullable = true)\n",
      " |-- title: string (nullable = true)\n",
      " |-- genres: string (nullable = true)\n",
      "\n"
     ]
    }
   ],
   "source": [
    "movies.printSchema()"
   ]
  },
  {
   "cell_type": "code",
   "execution_count": 10,
   "metadata": {},
   "outputs": [
    {
     "name": "stdout",
     "output_type": "stream",
     "text": [
      "root\n",
      " |-- movieId: integer (nullable = true)\n",
      " |-- title: string (nullable = true)\n",
      " |-- genres: string (nullable = true)\n",
      "\n"
     ]
    }
   ],
   "source": [
    "movies = spark.read.format(\"csv\").options(header = True, inferSchema = True)\\\n",
    ".load(\"/user/cloudera/movielens/movies.csv\")\n",
    "\n",
    "movies.printSchema()"
   ]
  },
  {
   "cell_type": "code",
   "execution_count": 5,
   "metadata": {},
   "outputs": [
    {
     "name": "stdout",
     "output_type": "stream",
     "text": [
      "root\n",
      " |-- userId: integer (nullable = true)\n",
      " |-- movieId: integer (nullable = true)\n",
      " |-- rating: double (nullable = true)\n",
      " |-- timestamp: integer (nullable = true)\n",
      "\n"
     ]
    }
   ],
   "source": [
    "ratings = spark.read.format(\"csv\").options(header = True, inferSchema = True)\\\n",
    ".load(\"/user/cloudera/movielens/ratings.csv\")\n",
    "\n",
    "ratings.printSchema()"
   ]
  },
  {
   "cell_type": "code",
   "execution_count": 6,
   "metadata": {},
   "outputs": [
    {
     "name": "stdout",
     "output_type": "stream",
     "text": [
      "+------+-------+------+----------+\n",
      "|userId|movieId|rating| timestamp|\n",
      "+------+-------+------+----------+\n",
      "|     1|     16|   4.0|1217897793|\n",
      "|     1|     24|   1.5|1217895807|\n",
      "|     1|     32|   4.0|1217896246|\n",
      "|     1|     47|   4.0|1217896556|\n",
      "|     1|     50|   4.0|1217896523|\n",
      "|     1|    110|   4.0|1217896150|\n",
      "|     1|    150|   3.0|1217895940|\n",
      "|     1|    161|   4.0|1217897864|\n",
      "|     1|    165|   3.0|1217897135|\n",
      "|     1|    204|   0.5|1217895786|\n",
      "|     1|    223|   4.0|1217897795|\n",
      "|     1|    256|   0.5|1217895764|\n",
      "|     1|    260|   4.5|1217895864|\n",
      "|     1|    261|   1.5|1217895750|\n",
      "|     1|    277|   0.5|1217895772|\n",
      "|     1|    296|   4.0|1217896125|\n",
      "|     1|    318|   4.0|1217895860|\n",
      "|     1|    349|   4.5|1217897058|\n",
      "|     1|    356|   3.0|1217896231|\n",
      "|     1|    377|   2.5|1217896373|\n",
      "+------+-------+------+----------+\n",
      "only showing top 20 rows\n",
      "\n"
     ]
    }
   ],
   "source": [
    "ratings.show()"
   ]
  },
  {
   "cell_type": "markdown",
   "metadata": {},
   "source": [
    "## Find top 10 movies based on the highest average rating. Consider only those movies that have received at least 100 ratings. "
   ]
  },
  {
   "cell_type": "code",
   "execution_count": 7,
   "metadata": {
    "collapsed": true
   },
   "outputs": [],
   "source": [
    "from pyspark.sql.functions import *"
   ]
  },
  {
   "cell_type": "code",
   "execution_count": 14,
   "metadata": {},
   "outputs": [
    {
     "name": "stdout",
     "output_type": "stream",
     "text": [
      "+-------+------------------+------------+-------+--------------------+--------------------+\n",
      "|movieId|        avg_rating|rating_count|movieId|               title|              genres|\n",
      "+-------+------------------+------------+-------+--------------------+--------------------+\n",
      "|    318| 4.454545454545454|         308|    318|Shawshank Redempt...|         Crime|Drama|\n",
      "|    858| 4.392857142857143|         210|    858|Godfather, The (1...|         Crime|Drama|\n",
      "|     50| 4.328947368421052|         228|     50|Usual Suspects, T...|Crime|Mystery|Thr...|\n",
      "|   1136|4.3019480519480515|         154|   1136|Monty Python and ...|Adventure|Comedy|...|\n",
      "|    527| 4.296370967741935|         248|    527|Schindler's List ...|           Drama|War|\n",
      "|   1193|4.2727272727272725|         143|   1193|One Flew Over the...|               Drama|\n",
      "|    608|4.2711442786069655|         201|    608|        Fargo (1996)|Comedy|Crime|Dram...|\n",
      "|   2571| 4.264367816091954|         261|   2571|  Matrix, The (1999)|Action|Sci-Fi|Thr...|\n",
      "|   1221| 4.260714285714286|         140|   1221|Godfather: Part I...|         Crime|Drama|\n",
      "|   1213|4.2592592592592595|         135|   1213|   Goodfellas (1990)|         Crime|Drama|\n",
      "|    912|             4.236|         125|    912|   Casablanca (1942)|       Drama|Romance|\n",
      "|   1196| 4.228070175438597|         228|   1196|Star Wars: Episod...|Action|Adventure|...|\n",
      "|   1198| 4.212053571428571|         224|   1198|Raiders of the Lo...|    Action|Adventure|\n",
      "|    593| 4.194827586206896|         290|    593|Silence of the La...|Crime|Horror|Thri...|\n",
      "|  79132| 4.189320388349515|         103|  79132|    Inception (2010)|Action|Crime|Dram...|\n",
      "|    260| 4.188644688644689|         273|    260|Star Wars: Episod...|Action|Adventure|...|\n",
      "|   2959| 4.188405797101449|         207|   2959|   Fight Club (1999)|Action|Crime|Dram...|\n",
      "|    541| 4.169871794871795|         156|    541| Blade Runner (1982)|Action|Sci-Fi|Thr...|\n",
      "|   1704| 4.167857142857143|         140|   1704|Good Will Hunting...|       Drama|Romance|\n",
      "|   1197|  4.16374269005848|         171|   1197|Princess Bride, T...|Action|Adventure|...|\n",
      "+-------+------------------+------------+-------+--------------------+--------------------+\n",
      "only showing top 20 rows\n",
      "\n"
     ]
    }
   ],
   "source": [
    "(\n",
    "    ratings\n",
    "    .groupBy(\"movieId\")\n",
    "    .agg(avg(\"rating\").alias(\"avg_rating\"), count(\"rating\").alias(\"rating_count\"))\n",
    "    .alias(\"t1\")\n",
    "    .join(movies.alias(\"t2\"), col(\"t1.movieId\") == col(\"t2.movieId\"))\n",
    "    .filter(\"rating_count > 100\")\n",
    "    .orderBy(desc(\"avg_rating\"))\n",
    ").show()"
   ]
  },
  {
   "cell_type": "code",
   "execution_count": 9,
   "metadata": {
    "collapsed": true
   },
   "outputs": [],
   "source": [
    "movies.createOrReplaceTempView(\"movies\")"
   ]
  },
  {
   "cell_type": "code",
   "execution_count": 10,
   "metadata": {},
   "outputs": [
    {
     "name": "stdout",
     "output_type": "stream",
     "text": [
      "+--------+-------------------+-----------+\n",
      "|database|          tableName|isTemporary|\n",
      "+--------+-------------------+-----------+\n",
      "| default|           employee|      false|\n",
      "| default|   employee_staging|      false|\n",
      "| default|             stocks|      false|\n",
      "| default|    stocks_extended|      false|\n",
      "| default|     stocks_parquet|      false|\n",
      "| default|            weblogs|      false|\n",
      "| default|weblogs_partitioned|      false|\n",
      "|        |             movies|       true|\n",
      "+--------+-------------------+-----------+\n",
      "\n"
     ]
    }
   ],
   "source": [
    "sql(\"show tables\").show()"
   ]
  },
  {
   "cell_type": "code",
   "execution_count": 11,
   "metadata": {
    "collapsed": true
   },
   "outputs": [],
   "source": [
    "ratings.createOrReplaceTempView(\"ratings\")"
   ]
  },
  {
   "cell_type": "code",
   "execution_count": 12,
   "metadata": {},
   "outputs": [
    {
     "name": "stdout",
     "output_type": "stream",
     "text": [
      "+--------+-------------------+-----------+\n",
      "|database|          tableName|isTemporary|\n",
      "+--------+-------------------+-----------+\n",
      "| default|           employee|      false|\n",
      "| default|   employee_staging|      false|\n",
      "| default|             stocks|      false|\n",
      "| default|    stocks_extended|      false|\n",
      "| default|     stocks_parquet|      false|\n",
      "| default|            weblogs|      false|\n",
      "| default|weblogs_partitioned|      false|\n",
      "|        |             movies|       true|\n",
      "|        |            ratings|       true|\n",
      "+--------+-------------------+-----------+\n",
      "\n"
     ]
    }
   ],
   "source": [
    "sql(\"show tables\").show()"
   ]
  },
  {
   "cell_type": "code",
   "execution_count": 18,
   "metadata": {},
   "outputs": [
    {
     "name": "stdout",
     "output_type": "stream",
     "text": [
      "+-------+--------------------+------------------+------------+\n",
      "|movieId|               title|        avg_rating|rating_count|\n",
      "+-------+--------------------+------------------+------------+\n",
      "|    318|Shawshank Redempt...| 4.454545454545454|         308|\n",
      "|    858|Godfather, The (1...| 4.392857142857143|         210|\n",
      "|     50|Usual Suspects, T...| 4.328947368421052|         228|\n",
      "|   1136|Monty Python and ...|4.3019480519480515|         154|\n",
      "|    527|Schindler's List ...| 4.296370967741935|         248|\n",
      "|   1193|One Flew Over the...|4.2727272727272725|         143|\n",
      "|    608|        Fargo (1996)|4.2711442786069655|         201|\n",
      "|   2571|  Matrix, The (1999)| 4.264367816091954|         261|\n",
      "|   1221|Godfather: Part I...| 4.260714285714286|         140|\n",
      "|   1213|   Goodfellas (1990)|4.2592592592592595|         135|\n",
      "|    912|   Casablanca (1942)|             4.236|         125|\n",
      "|   1196|Star Wars: Episod...| 4.228070175438597|         228|\n",
      "|   1198|Raiders of the Lo...| 4.212053571428571|         224|\n",
      "|    593|Silence of the La...| 4.194827586206896|         290|\n",
      "|  79132|    Inception (2010)| 4.189320388349515|         103|\n",
      "|    260|Star Wars: Episod...| 4.188644688644689|         273|\n",
      "|   2959|   Fight Club (1999)| 4.188405797101449|         207|\n",
      "|    541| Blade Runner (1982)| 4.169871794871795|         156|\n",
      "|   1704|Good Will Hunting...| 4.167857142857143|         140|\n",
      "|   1197|Princess Bride, T...|  4.16374269005848|         171|\n",
      "+-------+--------------------+------------------+------------+\n",
      "only showing top 20 rows\n",
      "\n"
     ]
    }
   ],
   "source": [
    "df = sql(\"\"\"\n",
    "select t1.movieId, t1.title, avg(t2.rating) avg_rating, count(1) rating_count\n",
    "from movies t1 join ratings t2 on t1.movieId = t2.movieId \n",
    "group by t1.movieId, t1.title \n",
    "having rating_count > 100\n",
    "order by avg_rating desc\n",
    "\"\"\")\n",
    "df.show()"
   ]
  },
  {
   "cell_type": "code",
   "execution_count": 19,
   "metadata": {
    "collapsed": true
   },
   "outputs": [],
   "source": [
    "df.write.format(\"json\").save(\"ml-agg\")"
   ]
  },
  {
   "cell_type": "code",
   "execution_count": 20,
   "metadata": {},
   "outputs": [
    {
     "data": {
      "text/plain": [
       "151"
      ]
     },
     "execution_count": 20,
     "metadata": {},
     "output_type": "execute_result"
    }
   ],
   "source": [
    "df.rdd.getNumPartitions()"
   ]
  },
  {
   "cell_type": "code",
   "execution_count": 24,
   "metadata": {},
   "outputs": [
    {
     "data": {
      "text/plain": [
       "[('hive.metastore.warehouse.dir', 'file:/home/cloudera/spark-warehouse/'),\n",
       " ('spark.sql.catalogImplementation', 'hive'),\n",
       " ('spark.rdd.compress', 'True'),\n",
       " ('spark.driver.memory', '2g'),\n",
       " ('spark.serializer.objectStreamReset', '100'),\n",
       " ('spark.master', 'local[*]'),\n",
       " ('spark.executor.id', 'driver'),\n",
       " ('spark.submit.deployMode', 'client'),\n",
       " ('spark.driver.host', '10.0.2.15'),\n",
       " ('spark.app.id', 'local-1507867299086'),\n",
       " ('spark.app.name', 'PySparkShell'),\n",
       " ('spark.driver.port', '52445')]"
      ]
     },
     "execution_count": 24,
     "metadata": {},
     "output_type": "execute_result"
    }
   ],
   "source": [
    "spark.sparkContext.getConf().getAll()"
   ]
  },
  {
   "cell_type": "code",
   "execution_count": 25,
   "metadata": {
    "collapsed": true
   },
   "outputs": [],
   "source": [
    "spark.conf.set(\"spark.sql.shuffle.partitions\", \"5\")"
   ]
  },
  {
   "cell_type": "code",
   "execution_count": 26,
   "metadata": {},
   "outputs": [
    {
     "data": {
      "text/plain": [
       "5"
      ]
     },
     "execution_count": 26,
     "metadata": {},
     "output_type": "execute_result"
    }
   ],
   "source": [
    "df = sql(\"\"\"\n",
    "select t1.movieId, t1.title, avg(t2.rating) avg_rating, count(1) rating_count\n",
    "from movies t1 join ratings t2 on t1.movieId = t2.movieId \n",
    "group by t1.movieId, t1.title \n",
    "having rating_count > 100\n",
    "order by avg_rating desc\n",
    "\"\"\")\n",
    "df.rdd.getNumPartitions()"
   ]
  },
  {
   "cell_type": "code",
   "execution_count": 28,
   "metadata": {},
   "outputs": [
    {
     "data": {
      "text/plain": [
       "1"
      ]
     },
     "execution_count": 28,
     "metadata": {},
     "output_type": "execute_result"
    }
   ],
   "source": [
    "df.coalesce(1).rdd.getNumPartitions()"
   ]
  },
  {
   "cell_type": "code",
   "execution_count": 30,
   "metadata": {},
   "outputs": [],
   "source": [
    "df.coalesce(1).write.mode(\"overwrite\").format(\"json\").save(\"ml-agg\")"
   ]
  },
  {
   "cell_type": "code",
   "execution_count": 31,
   "metadata": {},
   "outputs": [
    {
     "name": "stdout",
     "output_type": "stream",
     "text": [
      "+------------------+-------+------------+--------------------+\n",
      "|        avg_rating|movieId|rating_count|               title|\n",
      "+------------------+-------+------------+--------------------+\n",
      "| 4.454545454545454|    318|         308|Shawshank Redempt...|\n",
      "| 4.392857142857143|    858|         210|Godfather, The (1...|\n",
      "| 4.328947368421052|     50|         228|Usual Suspects, T...|\n",
      "|4.3019480519480515|   1136|         154|Monty Python and ...|\n",
      "| 4.296370967741935|    527|         248|Schindler's List ...|\n",
      "|4.2727272727272725|   1193|         143|One Flew Over the...|\n",
      "|4.2711442786069655|    608|         201|        Fargo (1996)|\n",
      "| 4.264367816091954|   2571|         261|  Matrix, The (1999)|\n",
      "| 4.260714285714286|   1221|         140|Godfather: Part I...|\n",
      "|4.2592592592592595|   1213|         135|   Goodfellas (1990)|\n",
      "|             4.236|    912|         125|   Casablanca (1942)|\n",
      "| 4.228070175438597|   1196|         228|Star Wars: Episod...|\n",
      "| 4.212053571428571|   1198|         224|Raiders of the Lo...|\n",
      "| 4.194827586206896|    593|         290|Silence of the La...|\n",
      "| 4.189320388349515|  79132|         103|    Inception (2010)|\n",
      "| 4.188644688644689|    260|         273|Star Wars: Episod...|\n",
      "| 4.188405797101449|   2959|         207|   Fight Club (1999)|\n",
      "| 4.169871794871795|    541|         156| Blade Runner (1982)|\n",
      "| 4.167857142857143|   1704|         140|Good Will Hunting...|\n",
      "|  4.16374269005848|   1197|         171|Princess Bride, T...|\n",
      "+------------------+-------+------------+--------------------+\n",
      "only showing top 20 rows\n",
      "\n"
     ]
    }
   ],
   "source": [
    "ml_agg = spark.read.format(\"json\").load(\"ml-agg\")\n",
    "ml_agg.show()"
   ]
  },
  {
   "cell_type": "code",
   "execution_count": 32,
   "metadata": {},
   "outputs": [
    {
     "name": "stdout",
     "output_type": "stream",
     "text": [
      "+------------------+-------+------------+--------------------+\n",
      "|        avg_rating|movieId|rating_count|               title|\n",
      "+------------------+-------+------------+--------------------+\n",
      "| 4.454545454545454|    318|         308|Shawshank Redempt...|\n",
      "| 4.392857142857143|    858|         210|Godfather, The (1...|\n",
      "| 4.328947368421052|     50|         228|Usual Suspects, T...|\n",
      "|4.3019480519480515|   1136|         154|Monty Python and ...|\n",
      "| 4.296370967741935|    527|         248|Schindler's List ...|\n",
      "|4.2727272727272725|   1193|         143|One Flew Over the...|\n",
      "|4.2711442786069655|    608|         201|        Fargo (1996)|\n",
      "| 4.264367816091954|   2571|         261|  Matrix, The (1999)|\n",
      "| 4.260714285714286|   1221|         140|Godfather: Part I...|\n",
      "|4.2592592592592595|   1213|         135|   Goodfellas (1990)|\n",
      "|             4.236|    912|         125|   Casablanca (1942)|\n",
      "| 4.228070175438597|   1196|         228|Star Wars: Episod...|\n",
      "| 4.212053571428571|   1198|         224|Raiders of the Lo...|\n",
      "| 4.194827586206896|    593|         290|Silence of the La...|\n",
      "| 4.189320388349515|  79132|         103|    Inception (2010)|\n",
      "| 4.188644688644689|    260|         273|Star Wars: Episod...|\n",
      "| 4.188405797101449|   2959|         207|   Fight Club (1999)|\n",
      "| 4.169871794871795|    541|         156| Blade Runner (1982)|\n",
      "| 4.167857142857143|   1704|         140|Good Will Hunting...|\n",
      "|  4.16374269005848|   1197|         171|Princess Bride, T...|\n",
      "+------------------+-------+------------+--------------------+\n",
      "only showing top 20 rows\n",
      "\n"
     ]
    }
   ],
   "source": [
    "ml_agg = spark.read.json(\"ml-agg\")\n",
    "ml_agg.show()"
   ]
  },
  {
   "cell_type": "code",
   "execution_count": 33,
   "metadata": {
    "collapsed": true
   },
   "outputs": [],
   "source": [
    "df.coalesce(1).write.mode(\"overwrite\").save(\"ml-agg-parquet\")"
   ]
  },
  {
   "cell_type": "code",
   "execution_count": 34,
   "metadata": {},
   "outputs": [
    {
     "name": "stdout",
     "output_type": "stream",
     "text": [
      "+-------+--------------------+------------------+------------+\n",
      "|movieId|               title|        avg_rating|rating_count|\n",
      "+-------+--------------------+------------------+------------+\n",
      "|    318|Shawshank Redempt...| 4.454545454545454|         308|\n",
      "|    858|Godfather, The (1...| 4.392857142857143|         210|\n",
      "|     50|Usual Suspects, T...| 4.328947368421052|         228|\n",
      "|   1136|Monty Python and ...|4.3019480519480515|         154|\n",
      "|    527|Schindler's List ...| 4.296370967741935|         248|\n",
      "|   1193|One Flew Over the...|4.2727272727272725|         143|\n",
      "|    608|        Fargo (1996)|4.2711442786069655|         201|\n",
      "|   2571|  Matrix, The (1999)| 4.264367816091954|         261|\n",
      "|   1221|Godfather: Part I...| 4.260714285714286|         140|\n",
      "|   1213|   Goodfellas (1990)|4.2592592592592595|         135|\n",
      "|    912|   Casablanca (1942)|             4.236|         125|\n",
      "|   1196|Star Wars: Episod...| 4.228070175438597|         228|\n",
      "|   1198|Raiders of the Lo...| 4.212053571428571|         224|\n",
      "|    593|Silence of the La...| 4.194827586206896|         290|\n",
      "|  79132|    Inception (2010)| 4.189320388349515|         103|\n",
      "|    260|Star Wars: Episod...| 4.188644688644689|         273|\n",
      "|   2959|   Fight Club (1999)| 4.188405797101449|         207|\n",
      "|    541| Blade Runner (1982)| 4.169871794871795|         156|\n",
      "|   1704|Good Will Hunting...| 4.167857142857143|         140|\n",
      "|   1197|Princess Bride, T...|  4.16374269005848|         171|\n",
      "+-------+--------------------+------------------+------------+\n",
      "only showing top 20 rows\n",
      "\n"
     ]
    }
   ],
   "source": [
    "spark.read.load(\"ml-agg-parquet\").show()"
   ]
  },
  {
   "cell_type": "code",
   "execution_count": 36,
   "metadata": {},
   "outputs": [
    {
     "name": "stdout",
     "output_type": "stream",
     "text": [
      "+-------+--------------------+------------------+------------+\n",
      "|movieId|               title|        avg_rating|rating_count|\n",
      "+-------+--------------------+------------------+------------+\n",
      "|    318|Shawshank Redempt...| 4.454545454545454|         308|\n",
      "|    858|Godfather, The (1...| 4.392857142857143|         210|\n",
      "|     50|Usual Suspects, T...| 4.328947368421052|         228|\n",
      "|   1136|Monty Python and ...|4.3019480519480515|         154|\n",
      "|    527|Schindler's List ...| 4.296370967741935|         248|\n",
      "|   1193|One Flew Over the...|4.2727272727272725|         143|\n",
      "|    608|        Fargo (1996)|4.2711442786069655|         201|\n",
      "|   2571|  Matrix, The (1999)| 4.264367816091954|         261|\n",
      "|   1221|Godfather: Part I...| 4.260714285714286|         140|\n",
      "|   1213|   Goodfellas (1990)|4.2592592592592595|         135|\n",
      "|    912|   Casablanca (1942)|             4.236|         125|\n",
      "|   1196|Star Wars: Episod...| 4.228070175438597|         228|\n",
      "|   1198|Raiders of the Lo...| 4.212053571428571|         224|\n",
      "|    593|Silence of the La...| 4.194827586206896|         290|\n",
      "|  79132|    Inception (2010)| 4.189320388349515|         103|\n",
      "|    260|Star Wars: Episod...| 4.188644688644689|         273|\n",
      "|   2959|   Fight Club (1999)| 4.188405797101449|         207|\n",
      "|    541| Blade Runner (1982)| 4.169871794871795|         156|\n",
      "|   1704|Good Will Hunting...| 4.167857142857143|         140|\n",
      "|   1197|Princess Bride, T...|  4.16374269005848|         171|\n",
      "+-------+--------------------+------------------+------------+\n",
      "only showing top 20 rows\n",
      "\n"
     ]
    }
   ],
   "source": [
    "sql(\"select * from parquet.`/user/cloudera/ml-agg-parquet`\").show()"
   ]
  },
  {
   "cell_type": "code",
   "execution_count": 37,
   "metadata": {},
   "outputs": [
    {
     "name": "stdout",
     "output_type": "stream",
     "text": [
      "== Physical Plan ==\n",
      "*FileScan parquet [movieId#447,title#448,avg_rating#449,rating_count#450L] Batched: true, Format: Parquet, Location: InMemoryFileIndex[hdfs://quickstart.cloudera:8020/user/cloudera/ml-agg-parquet], PartitionFilters: [], PushedFilters: [], ReadSchema: struct<movieId:string,title:string,avg_rating:double,rating_count:bigint>\n"
     ]
    }
   ],
   "source": [
    "sql(\"select * from parquet.`/user/cloudera/ml-agg-parquet`\").explain()"
   ]
  },
  {
   "cell_type": "code",
   "execution_count": 38,
   "metadata": {},
   "outputs": [
    {
     "name": "stdout",
     "output_type": "stream",
     "text": [
      "== Physical Plan ==\n",
      "*Sort [avg_rating#310 DESC NULLS LAST], true, 0\n",
      "+- Exchange rangepartitioning(avg_rating#310 DESC NULLS LAST, 5)\n",
      "   +- *Filter (rating_count#311L > 100)\n",
      "      +- *HashAggregate(keys=[movieId#0, title#1], functions=[avg(rating#17), count(1)])\n",
      "         +- Exchange hashpartitioning(movieId#0, title#1, 5)\n",
      "            +- *HashAggregate(keys=[movieId#0, title#1], functions=[partial_avg(rating#17), partial_count(1)])\n",
      "               +- *Project [movieId#0, title#1, rating#17]\n",
      "                  +- *BroadcastHashJoin [cast(movieId#0 as double)], [cast(movieId#16 as double)], Inner, BuildRight\n",
      "                     :- *Project [movieId#0, title#1]\n",
      "                     :  +- *Filter isnotnull(movieId#0)\n",
      "                     :     +- *FileScan csv [movieId#0,title#1] Batched: false, Format: CSV, Location: InMemoryFileIndex[hdfs://quickstart.cloudera:8020/user/cloudera/movielens/movies.csv], PartitionFilters: [], PushedFilters: [IsNotNull(movieId)], ReadSchema: struct<movieId:string,title:string>\n",
      "                     +- BroadcastExchange HashedRelationBroadcastMode(List(cast(input[0, int, true] as double)))\n",
      "                        +- *Project [movieId#16, rating#17]\n",
      "                           +- *Filter isnotnull(movieId#16)\n",
      "                              +- *FileScan csv [movieId#16,rating#17] Batched: false, Format: CSV, Location: InMemoryFileIndex[hdfs://quickstart.cloudera:8020/user/cloudera/movielens/ratings.csv], PartitionFilters: [], PushedFilters: [IsNotNull(movieId)], ReadSchema: struct<movieId:int,rating:double>\n"
     ]
    }
   ],
   "source": [
    "df.explain()"
   ]
  },
  {
   "cell_type": "code",
   "execution_count": 39,
   "metadata": {
    "collapsed": true
   },
   "outputs": [],
   "source": [
    "df.write.saveAsTable(\"ml_agg\")"
   ]
  },
  {
   "cell_type": "code",
   "execution_count": null,
   "metadata": {
    "collapsed": true
   },
   "outputs": [],
   "source": []
  }
 ],
 "metadata": {
  "kernelspec": {
   "display_name": "Python 3",
   "language": "python",
   "name": "python3"
  },
  "language_info": {
   "codemirror_mode": {
    "name": "ipython",
    "version": 3
   },
   "file_extension": ".py",
   "mimetype": "text/x-python",
   "name": "python",
   "nbconvert_exporter": "python",
   "pygments_lexer": "ipython3",
   "version": "3.4.5"
  }
 },
 "nbformat": 4,
 "nbformat_minor": 2
}
